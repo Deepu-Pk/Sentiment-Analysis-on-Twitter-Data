{
  "metadata": {
    "kernelspec": {
      "language": "python",
      "display_name": "Python 3",
      "name": "python3"
    },
    "language_info": {
      "name": "python",
      "version": "3.7.12",
      "mimetype": "text/x-python",
      "codemirror_mode": {
        "name": "ipython",
        "version": 3
      },
      "pygments_lexer": "ipython3",
      "nbconvert_exporter": "python",
      "file_extension": ".py"
    },
    "colab": {
      "name": "bilstm2.ipynb",
      "provenance": []
    },
    "accelerator": "GPU"
  },
  "nbformat_minor": 0,
  "nbformat": 4,
  "cells": [
    {
      "cell_type": "markdown",
      "source": [
        "# Importing Libraries"
      ],
      "metadata": {
        "id": "BtwOskJTbZds"
      }
    },
    {
      "cell_type": "code",
      "source": [
        "import numpy as numpy\n",
        "import pandas as pd"
      ],
      "metadata": {
        "execution": {
          "iopub.status.busy": "2022-04-23T01:44:01.483210Z",
          "iopub.execute_input": "2022-04-23T01:44:01.483675Z",
          "iopub.status.idle": "2022-04-23T01:44:01.510787Z",
          "shell.execute_reply.started": "2022-04-23T01:44:01.483582Z",
          "shell.execute_reply": "2022-04-23T01:44:01.510067Z"
        },
        "trusted": true,
        "id": "ydL81WmubZdz"
      },
      "execution_count": 3,
      "outputs": []
    },
    {
      "cell_type": "code",
      "source": [
        "#Access Google drive for dataset\n",
        "from google.colab import drive\n",
        "drive.mount('/content/gdrive')"
      ],
      "metadata": {
        "colab": {
          "base_uri": "https://localhost:8080/"
        },
        "id": "GVhrsZs6bkxM",
        "outputId": "0500d0bd-6090-4323-dea0-8dcf36056930"
      },
      "execution_count": 4,
      "outputs": [
        {
          "output_type": "stream",
          "name": "stdout",
          "text": [
            "Mounted at /content/gdrive\n"
          ]
        }
      ]
    },
    {
      "cell_type": "code",
      "source": [
        "import matplotlib\n",
        "import matplotlib.pyplot as plt\n",
        "%matplotlib inline\n",
        "import seaborn as sns"
      ],
      "metadata": {
        "execution": {
          "iopub.status.busy": "2022-04-23T01:44:01.512580Z",
          "iopub.execute_input": "2022-04-23T01:44:01.512957Z",
          "iopub.status.idle": "2022-04-23T01:44:02.431652Z",
          "shell.execute_reply.started": "2022-04-23T01:44:01.512901Z",
          "shell.execute_reply": "2022-04-23T01:44:02.430914Z"
        },
        "trusted": true,
        "id": "8y1-a6J5bZd1"
      },
      "execution_count": 5,
      "outputs": []
    },
    {
      "cell_type": "code",
      "source": [
        "import sklearn\n",
        "from sklearn.utils import shuffle \n",
        "from sklearn.feature_extraction.text import TfidfVectorizer"
      ],
      "metadata": {
        "execution": {
          "iopub.status.busy": "2022-04-23T01:44:02.432836Z",
          "iopub.execute_input": "2022-04-23T01:44:02.433142Z",
          "iopub.status.idle": "2022-04-23T01:44:02.563380Z",
          "shell.execute_reply.started": "2022-04-23T01:44:02.433106Z",
          "shell.execute_reply": "2022-04-23T01:44:02.562653Z"
        },
        "trusted": true,
        "id": "a1mLYb-bbZd2"
      },
      "execution_count": 6,
      "outputs": []
    },
    {
      "cell_type": "code",
      "source": [
        "import nltk\n",
        "from nltk.corpus import stopwords\n",
        "from nltk.tokenize import word_tokenize"
      ],
      "metadata": {
        "execution": {
          "iopub.status.busy": "2022-04-23T01:44:02.564922Z",
          "iopub.execute_input": "2022-04-23T01:44:02.565349Z",
          "iopub.status.idle": "2022-04-23T01:44:03.068286Z",
          "shell.execute_reply.started": "2022-04-23T01:44:02.565309Z",
          "shell.execute_reply": "2022-04-23T01:44:03.067445Z"
        },
        "trusted": true,
        "id": "BZgdfEJYbZd3"
      },
      "execution_count": 7,
      "outputs": []
    },
    {
      "cell_type": "code",
      "source": [
        "import re\n",
        "import random\n",
        "import gensim"
      ],
      "metadata": {
        "execution": {
          "iopub.status.busy": "2022-04-23T01:44:03.071352Z",
          "iopub.execute_input": "2022-04-23T01:44:03.071662Z",
          "iopub.status.idle": "2022-04-23T01:44:03.324996Z",
          "shell.execute_reply.started": "2022-04-23T01:44:03.071623Z",
          "shell.execute_reply": "2022-04-23T01:44:03.324252Z"
        },
        "trusted": true,
        "id": "Kyk-GMnWbZd4"
      },
      "execution_count": 8,
      "outputs": []
    },
    {
      "cell_type": "code",
      "source": [
        "from collections import Counter\n",
        "import unicodedata as udata\n",
        "import string"
      ],
      "metadata": {
        "execution": {
          "iopub.status.busy": "2022-04-23T01:44:03.326471Z",
          "iopub.execute_input": "2022-04-23T01:44:03.326772Z",
          "iopub.status.idle": "2022-04-23T01:44:03.333727Z",
          "shell.execute_reply.started": "2022-04-23T01:44:03.326733Z",
          "shell.execute_reply": "2022-04-23T01:44:03.332985Z"
        },
        "trusted": true,
        "id": "eDyVrQBHbZd5"
      },
      "execution_count": 9,
      "outputs": []
    },
    {
      "cell_type": "code",
      "source": [
        "print(sklearn.__version__)\n",
        "print(matplotlib.__version__)\n",
        "print(numpy.__version__)\n",
        "print(pd.__version__)\n",
        "print(nltk.__version__)"
      ],
      "metadata": {
        "execution": {
          "iopub.status.busy": "2022-04-23T01:44:03.335370Z",
          "iopub.execute_input": "2022-04-23T01:44:03.335889Z",
          "iopub.status.idle": "2022-04-23T01:44:03.345030Z",
          "shell.execute_reply.started": "2022-04-23T01:44:03.335765Z",
          "shell.execute_reply": "2022-04-23T01:44:03.343917Z"
        },
        "trusted": true,
        "colab": {
          "base_uri": "https://localhost:8080/"
        },
        "id": "M4A2jt8LbZd7",
        "outputId": "f24ac72b-d39f-490e-d0e0-8f79d1b99fb7"
      },
      "execution_count": 10,
      "outputs": [
        {
          "output_type": "stream",
          "name": "stdout",
          "text": [
            "1.0.2\n",
            "3.2.2\n",
            "1.21.6\n",
            "1.3.5\n",
            "3.7\n"
          ]
        }
      ]
    },
    {
      "cell_type": "markdown",
      "source": [
        "# Reading csv file"
      ],
      "metadata": {
        "id": "Ncp6XsHYbZd9"
      }
    },
    {
      "cell_type": "code",
      "source": [
        "df = pd.read_csv(\"/content/gdrive/MyDrive/Main-Project-1/TwitterSentimentAnalysis(ML Mind)/TwitterSentimentAnalysis.csv\", encoding='latin-1', header=None)"
      ],
      "metadata": {
        "execution": {
          "iopub.status.busy": "2022-04-23T01:44:03.347083Z",
          "iopub.execute_input": "2022-04-23T01:44:03.347740Z",
          "iopub.status.idle": "2022-04-23T01:44:10.472300Z",
          "shell.execute_reply.started": "2022-04-23T01:44:03.347697Z",
          "shell.execute_reply": "2022-04-23T01:44:10.471488Z"
        },
        "trusted": true,
        "id": "fAOtuK_XbZd-"
      },
      "execution_count": 11,
      "outputs": []
    },
    {
      "cell_type": "code",
      "source": [
        "df = df.sample(frac=1).reset_index(drop=True)"
      ],
      "metadata": {
        "execution": {
          "iopub.status.busy": "2022-04-23T01:44:10.473453Z",
          "iopub.execute_input": "2022-04-23T01:44:10.473717Z",
          "iopub.status.idle": "2022-04-23T01:44:12.147493Z",
          "shell.execute_reply.started": "2022-04-23T01:44:10.473682Z",
          "shell.execute_reply": "2022-04-23T01:44:12.146699Z"
        },
        "trusted": true,
        "id": "-jzwxdwqbZd_"
      },
      "execution_count": 12,
      "outputs": []
    },
    {
      "cell_type": "markdown",
      "source": [
        "# Give column names"
      ],
      "metadata": {
        "id": "gqkgT4bEbZeA"
      }
    },
    {
      "cell_type": "code",
      "source": [
        "df.columns = [\"sentiment\", \"id\", \"date\", \"query\", \"user\", \"text\"] "
      ],
      "metadata": {
        "execution": {
          "iopub.status.busy": "2022-04-23T01:44:12.150691Z",
          "iopub.execute_input": "2022-04-23T01:44:12.151325Z",
          "iopub.status.idle": "2022-04-23T01:44:12.156743Z",
          "shell.execute_reply.started": "2022-04-23T01:44:12.151279Z",
          "shell.execute_reply": "2022-04-23T01:44:12.155985Z"
        },
        "trusted": true,
        "id": "NSexXZ9ibZeB"
      },
      "execution_count": 13,
      "outputs": []
    },
    {
      "cell_type": "code",
      "source": [
        "df.isnull().sum()"
      ],
      "metadata": {
        "execution": {
          "iopub.status.busy": "2022-04-23T01:44:12.159116Z",
          "iopub.execute_input": "2022-04-23T01:44:12.159595Z",
          "iopub.status.idle": "2022-04-23T01:44:13.179488Z",
          "shell.execute_reply.started": "2022-04-23T01:44:12.159550Z",
          "shell.execute_reply": "2022-04-23T01:44:13.178635Z"
        },
        "trusted": true,
        "colab": {
          "base_uri": "https://localhost:8080/"
        },
        "id": "26KG31N4bZeB",
        "outputId": "bfc94796-123e-4b0f-95ad-b3e0bfe0b6dc"
      },
      "execution_count": 14,
      "outputs": [
        {
          "output_type": "execute_result",
          "data": {
            "text/plain": [
              "sentiment    0\n",
              "id           0\n",
              "date         0\n",
              "query        0\n",
              "user         0\n",
              "text         0\n",
              "dtype: int64"
            ]
          },
          "metadata": {},
          "execution_count": 14
        }
      ]
    },
    {
      "cell_type": "code",
      "source": [
        "df.duplicated().sum()"
      ],
      "metadata": {
        "execution": {
          "iopub.status.busy": "2022-04-23T01:44:13.180860Z",
          "iopub.execute_input": "2022-04-23T01:44:13.181213Z",
          "iopub.status.idle": "2022-04-23T01:44:16.506662Z",
          "shell.execute_reply.started": "2022-04-23T01:44:13.181173Z",
          "shell.execute_reply": "2022-04-23T01:44:16.505981Z"
        },
        "trusted": true,
        "colab": {
          "base_uri": "https://localhost:8080/"
        },
        "id": "1lKpw7QLbZeC",
        "outputId": "eaaa3a01-3657-41e6-b134-ce2b3ec091fa"
      },
      "execution_count": 15,
      "outputs": [
        {
          "output_type": "execute_result",
          "data": {
            "text/plain": [
              "0"
            ]
          },
          "metadata": {},
          "execution_count": 15
        }
      ]
    },
    {
      "cell_type": "code",
      "source": [
        "df.head(5)"
      ],
      "metadata": {
        "execution": {
          "iopub.status.busy": "2022-04-23T01:44:16.507765Z",
          "iopub.execute_input": "2022-04-23T01:44:16.509102Z",
          "iopub.status.idle": "2022-04-23T01:44:16.524704Z",
          "shell.execute_reply.started": "2022-04-23T01:44:16.509060Z",
          "shell.execute_reply": "2022-04-23T01:44:16.523870Z"
        },
        "trusted": true,
        "colab": {
          "base_uri": "https://localhost:8080/",
          "height": 206
        },
        "id": "urzz1a7wbZeC",
        "outputId": "ab024d2b-c256-455c-d187-5cc546d33847"
      },
      "execution_count": 16,
      "outputs": [
        {
          "output_type": "execute_result",
          "data": {
            "text/plain": [
              "   sentiment          id                          date     query  \\\n",
              "0          0  1989236751  Mon Jun 01 00:49:17 PDT 2009  NO_QUERY   \n",
              "1          0  1755601766  Sun May 10 09:33:25 PDT 2009  NO_QUERY   \n",
              "2          0  1881673412  Fri May 22 05:16:54 PDT 2009  NO_QUERY   \n",
              "3          0  1882789842  Fri May 22 07:29:25 PDT 2009  NO_QUERY   \n",
              "4          4  2061558435  Sat Jun 06 21:07:12 PDT 2009  NO_QUERY   \n",
              "\n",
              "              user                                               text  \n",
              "0     Spencer_Sand               @totobird435 I'm missing every key.   \n",
              "1            ernho              @karolein_  hope you're not that sad   \n",
              "2  Lynseymansfield           Going back for an evil afternoon!  grr..  \n",
              "3     vacant_heart            Damn! The facebook poker aint loading!   \n",
              "4           gwenii  Leaving gorgeous Corona.. look @ the full moon...  "
            ],
            "text/html": [
              "\n",
              "  <div id=\"df-6b449ace-84e5-448c-8bb2-da4c7550aaf3\">\n",
              "    <div class=\"colab-df-container\">\n",
              "      <div>\n",
              "<style scoped>\n",
              "    .dataframe tbody tr th:only-of-type {\n",
              "        vertical-align: middle;\n",
              "    }\n",
              "\n",
              "    .dataframe tbody tr th {\n",
              "        vertical-align: top;\n",
              "    }\n",
              "\n",
              "    .dataframe thead th {\n",
              "        text-align: right;\n",
              "    }\n",
              "</style>\n",
              "<table border=\"1\" class=\"dataframe\">\n",
              "  <thead>\n",
              "    <tr style=\"text-align: right;\">\n",
              "      <th></th>\n",
              "      <th>sentiment</th>\n",
              "      <th>id</th>\n",
              "      <th>date</th>\n",
              "      <th>query</th>\n",
              "      <th>user</th>\n",
              "      <th>text</th>\n",
              "    </tr>\n",
              "  </thead>\n",
              "  <tbody>\n",
              "    <tr>\n",
              "      <th>0</th>\n",
              "      <td>0</td>\n",
              "      <td>1989236751</td>\n",
              "      <td>Mon Jun 01 00:49:17 PDT 2009</td>\n",
              "      <td>NO_QUERY</td>\n",
              "      <td>Spencer_Sand</td>\n",
              "      <td>@totobird435 I'm missing every key.</td>\n",
              "    </tr>\n",
              "    <tr>\n",
              "      <th>1</th>\n",
              "      <td>0</td>\n",
              "      <td>1755601766</td>\n",
              "      <td>Sun May 10 09:33:25 PDT 2009</td>\n",
              "      <td>NO_QUERY</td>\n",
              "      <td>ernho</td>\n",
              "      <td>@karolein_  hope you're not that sad</td>\n",
              "    </tr>\n",
              "    <tr>\n",
              "      <th>2</th>\n",
              "      <td>0</td>\n",
              "      <td>1881673412</td>\n",
              "      <td>Fri May 22 05:16:54 PDT 2009</td>\n",
              "      <td>NO_QUERY</td>\n",
              "      <td>Lynseymansfield</td>\n",
              "      <td>Going back for an evil afternoon!  grr..</td>\n",
              "    </tr>\n",
              "    <tr>\n",
              "      <th>3</th>\n",
              "      <td>0</td>\n",
              "      <td>1882789842</td>\n",
              "      <td>Fri May 22 07:29:25 PDT 2009</td>\n",
              "      <td>NO_QUERY</td>\n",
              "      <td>vacant_heart</td>\n",
              "      <td>Damn! The facebook poker aint loading!</td>\n",
              "    </tr>\n",
              "    <tr>\n",
              "      <th>4</th>\n",
              "      <td>4</td>\n",
              "      <td>2061558435</td>\n",
              "      <td>Sat Jun 06 21:07:12 PDT 2009</td>\n",
              "      <td>NO_QUERY</td>\n",
              "      <td>gwenii</td>\n",
              "      <td>Leaving gorgeous Corona.. look @ the full moon...</td>\n",
              "    </tr>\n",
              "  </tbody>\n",
              "</table>\n",
              "</div>\n",
              "      <button class=\"colab-df-convert\" onclick=\"convertToInteractive('df-6b449ace-84e5-448c-8bb2-da4c7550aaf3')\"\n",
              "              title=\"Convert this dataframe to an interactive table.\"\n",
              "              style=\"display:none;\">\n",
              "        \n",
              "  <svg xmlns=\"http://www.w3.org/2000/svg\" height=\"24px\"viewBox=\"0 0 24 24\"\n",
              "       width=\"24px\">\n",
              "    <path d=\"M0 0h24v24H0V0z\" fill=\"none\"/>\n",
              "    <path d=\"M18.56 5.44l.94 2.06.94-2.06 2.06-.94-2.06-.94-.94-2.06-.94 2.06-2.06.94zm-11 1L8.5 8.5l.94-2.06 2.06-.94-2.06-.94L8.5 2.5l-.94 2.06-2.06.94zm10 10l.94 2.06.94-2.06 2.06-.94-2.06-.94-.94-2.06-.94 2.06-2.06.94z\"/><path d=\"M17.41 7.96l-1.37-1.37c-.4-.4-.92-.59-1.43-.59-.52 0-1.04.2-1.43.59L10.3 9.45l-7.72 7.72c-.78.78-.78 2.05 0 2.83L4 21.41c.39.39.9.59 1.41.59.51 0 1.02-.2 1.41-.59l7.78-7.78 2.81-2.81c.8-.78.8-2.07 0-2.86zM5.41 20L4 18.59l7.72-7.72 1.47 1.35L5.41 20z\"/>\n",
              "  </svg>\n",
              "      </button>\n",
              "      \n",
              "  <style>\n",
              "    .colab-df-container {\n",
              "      display:flex;\n",
              "      flex-wrap:wrap;\n",
              "      gap: 12px;\n",
              "    }\n",
              "\n",
              "    .colab-df-convert {\n",
              "      background-color: #E8F0FE;\n",
              "      border: none;\n",
              "      border-radius: 50%;\n",
              "      cursor: pointer;\n",
              "      display: none;\n",
              "      fill: #1967D2;\n",
              "      height: 32px;\n",
              "      padding: 0 0 0 0;\n",
              "      width: 32px;\n",
              "    }\n",
              "\n",
              "    .colab-df-convert:hover {\n",
              "      background-color: #E2EBFA;\n",
              "      box-shadow: 0px 1px 2px rgba(60, 64, 67, 0.3), 0px 1px 3px 1px rgba(60, 64, 67, 0.15);\n",
              "      fill: #174EA6;\n",
              "    }\n",
              "\n",
              "    [theme=dark] .colab-df-convert {\n",
              "      background-color: #3B4455;\n",
              "      fill: #D2E3FC;\n",
              "    }\n",
              "\n",
              "    [theme=dark] .colab-df-convert:hover {\n",
              "      background-color: #434B5C;\n",
              "      box-shadow: 0px 1px 3px 1px rgba(0, 0, 0, 0.15);\n",
              "      filter: drop-shadow(0px 1px 2px rgba(0, 0, 0, 0.3));\n",
              "      fill: #FFFFFF;\n",
              "    }\n",
              "  </style>\n",
              "\n",
              "      <script>\n",
              "        const buttonEl =\n",
              "          document.querySelector('#df-6b449ace-84e5-448c-8bb2-da4c7550aaf3 button.colab-df-convert');\n",
              "        buttonEl.style.display =\n",
              "          google.colab.kernel.accessAllowed ? 'block' : 'none';\n",
              "\n",
              "        async function convertToInteractive(key) {\n",
              "          const element = document.querySelector('#df-6b449ace-84e5-448c-8bb2-da4c7550aaf3');\n",
              "          const dataTable =\n",
              "            await google.colab.kernel.invokeFunction('convertToInteractive',\n",
              "                                                     [key], {});\n",
              "          if (!dataTable) return;\n",
              "\n",
              "          const docLinkHtml = 'Like what you see? Visit the ' +\n",
              "            '<a target=\"_blank\" href=https://colab.research.google.com/notebooks/data_table.ipynb>data table notebook</a>'\n",
              "            + ' to learn more about interactive tables.';\n",
              "          element.innerHTML = '';\n",
              "          dataTable['output_type'] = 'display_data';\n",
              "          await google.colab.output.renderOutput(dataTable, element);\n",
              "          const docLink = document.createElement('div');\n",
              "          docLink.innerHTML = docLinkHtml;\n",
              "          element.appendChild(docLink);\n",
              "        }\n",
              "      </script>\n",
              "    </div>\n",
              "  </div>\n",
              "  "
            ]
          },
          "metadata": {},
          "execution_count": 16
        }
      ]
    },
    {
      "cell_type": "code",
      "source": [
        "df = df.drop([\"id\", \"date\", \"query\", \"user\"], axis = 1) "
      ],
      "metadata": {
        "execution": {
          "iopub.status.busy": "2022-04-23T01:44:16.529119Z",
          "iopub.execute_input": "2022-04-23T01:44:16.529343Z",
          "iopub.status.idle": "2022-04-23T01:44:16.593674Z",
          "shell.execute_reply.started": "2022-04-23T01:44:16.529316Z",
          "shell.execute_reply": "2022-04-23T01:44:16.592959Z"
        },
        "trusted": true,
        "id": "bC-h9W9kbZeD"
      },
      "execution_count": 17,
      "outputs": []
    },
    {
      "cell_type": "code",
      "source": [
        "df.head(5)"
      ],
      "metadata": {
        "execution": {
          "iopub.status.busy": "2022-04-23T01:44:16.595055Z",
          "iopub.execute_input": "2022-04-23T01:44:16.595411Z",
          "iopub.status.idle": "2022-04-23T01:44:16.604602Z",
          "shell.execute_reply.started": "2022-04-23T01:44:16.595375Z",
          "shell.execute_reply": "2022-04-23T01:44:16.603710Z"
        },
        "trusted": true,
        "colab": {
          "base_uri": "https://localhost:8080/",
          "height": 206
        },
        "id": "S5_pZtmSbZeE",
        "outputId": "d14d0ef0-8a5a-4d95-dcc8-b91d2e023c95"
      },
      "execution_count": 18,
      "outputs": [
        {
          "output_type": "execute_result",
          "data": {
            "text/plain": [
              "   sentiment                                               text\n",
              "0          0               @totobird435 I'm missing every key. \n",
              "1          0              @karolein_  hope you're not that sad \n",
              "2          0           Going back for an evil afternoon!  grr..\n",
              "3          0            Damn! The facebook poker aint loading! \n",
              "4          4  Leaving gorgeous Corona.. look @ the full moon..."
            ],
            "text/html": [
              "\n",
              "  <div id=\"df-a51582aa-831b-4d01-8b59-24843bb0d26c\">\n",
              "    <div class=\"colab-df-container\">\n",
              "      <div>\n",
              "<style scoped>\n",
              "    .dataframe tbody tr th:only-of-type {\n",
              "        vertical-align: middle;\n",
              "    }\n",
              "\n",
              "    .dataframe tbody tr th {\n",
              "        vertical-align: top;\n",
              "    }\n",
              "\n",
              "    .dataframe thead th {\n",
              "        text-align: right;\n",
              "    }\n",
              "</style>\n",
              "<table border=\"1\" class=\"dataframe\">\n",
              "  <thead>\n",
              "    <tr style=\"text-align: right;\">\n",
              "      <th></th>\n",
              "      <th>sentiment</th>\n",
              "      <th>text</th>\n",
              "    </tr>\n",
              "  </thead>\n",
              "  <tbody>\n",
              "    <tr>\n",
              "      <th>0</th>\n",
              "      <td>0</td>\n",
              "      <td>@totobird435 I'm missing every key.</td>\n",
              "    </tr>\n",
              "    <tr>\n",
              "      <th>1</th>\n",
              "      <td>0</td>\n",
              "      <td>@karolein_  hope you're not that sad</td>\n",
              "    </tr>\n",
              "    <tr>\n",
              "      <th>2</th>\n",
              "      <td>0</td>\n",
              "      <td>Going back for an evil afternoon!  grr..</td>\n",
              "    </tr>\n",
              "    <tr>\n",
              "      <th>3</th>\n",
              "      <td>0</td>\n",
              "      <td>Damn! The facebook poker aint loading!</td>\n",
              "    </tr>\n",
              "    <tr>\n",
              "      <th>4</th>\n",
              "      <td>4</td>\n",
              "      <td>Leaving gorgeous Corona.. look @ the full moon...</td>\n",
              "    </tr>\n",
              "  </tbody>\n",
              "</table>\n",
              "</div>\n",
              "      <button class=\"colab-df-convert\" onclick=\"convertToInteractive('df-a51582aa-831b-4d01-8b59-24843bb0d26c')\"\n",
              "              title=\"Convert this dataframe to an interactive table.\"\n",
              "              style=\"display:none;\">\n",
              "        \n",
              "  <svg xmlns=\"http://www.w3.org/2000/svg\" height=\"24px\"viewBox=\"0 0 24 24\"\n",
              "       width=\"24px\">\n",
              "    <path d=\"M0 0h24v24H0V0z\" fill=\"none\"/>\n",
              "    <path d=\"M18.56 5.44l.94 2.06.94-2.06 2.06-.94-2.06-.94-.94-2.06-.94 2.06-2.06.94zm-11 1L8.5 8.5l.94-2.06 2.06-.94-2.06-.94L8.5 2.5l-.94 2.06-2.06.94zm10 10l.94 2.06.94-2.06 2.06-.94-2.06-.94-.94-2.06-.94 2.06-2.06.94z\"/><path d=\"M17.41 7.96l-1.37-1.37c-.4-.4-.92-.59-1.43-.59-.52 0-1.04.2-1.43.59L10.3 9.45l-7.72 7.72c-.78.78-.78 2.05 0 2.83L4 21.41c.39.39.9.59 1.41.59.51 0 1.02-.2 1.41-.59l7.78-7.78 2.81-2.81c.8-.78.8-2.07 0-2.86zM5.41 20L4 18.59l7.72-7.72 1.47 1.35L5.41 20z\"/>\n",
              "  </svg>\n",
              "      </button>\n",
              "      \n",
              "  <style>\n",
              "    .colab-df-container {\n",
              "      display:flex;\n",
              "      flex-wrap:wrap;\n",
              "      gap: 12px;\n",
              "    }\n",
              "\n",
              "    .colab-df-convert {\n",
              "      background-color: #E8F0FE;\n",
              "      border: none;\n",
              "      border-radius: 50%;\n",
              "      cursor: pointer;\n",
              "      display: none;\n",
              "      fill: #1967D2;\n",
              "      height: 32px;\n",
              "      padding: 0 0 0 0;\n",
              "      width: 32px;\n",
              "    }\n",
              "\n",
              "    .colab-df-convert:hover {\n",
              "      background-color: #E2EBFA;\n",
              "      box-shadow: 0px 1px 2px rgba(60, 64, 67, 0.3), 0px 1px 3px 1px rgba(60, 64, 67, 0.15);\n",
              "      fill: #174EA6;\n",
              "    }\n",
              "\n",
              "    [theme=dark] .colab-df-convert {\n",
              "      background-color: #3B4455;\n",
              "      fill: #D2E3FC;\n",
              "    }\n",
              "\n",
              "    [theme=dark] .colab-df-convert:hover {\n",
              "      background-color: #434B5C;\n",
              "      box-shadow: 0px 1px 3px 1px rgba(0, 0, 0, 0.15);\n",
              "      filter: drop-shadow(0px 1px 2px rgba(0, 0, 0, 0.3));\n",
              "      fill: #FFFFFF;\n",
              "    }\n",
              "  </style>\n",
              "\n",
              "      <script>\n",
              "        const buttonEl =\n",
              "          document.querySelector('#df-a51582aa-831b-4d01-8b59-24843bb0d26c button.colab-df-convert');\n",
              "        buttonEl.style.display =\n",
              "          google.colab.kernel.accessAllowed ? 'block' : 'none';\n",
              "\n",
              "        async function convertToInteractive(key) {\n",
              "          const element = document.querySelector('#df-a51582aa-831b-4d01-8b59-24843bb0d26c');\n",
              "          const dataTable =\n",
              "            await google.colab.kernel.invokeFunction('convertToInteractive',\n",
              "                                                     [key], {});\n",
              "          if (!dataTable) return;\n",
              "\n",
              "          const docLinkHtml = 'Like what you see? Visit the ' +\n",
              "            '<a target=\"_blank\" href=https://colab.research.google.com/notebooks/data_table.ipynb>data table notebook</a>'\n",
              "            + ' to learn more about interactive tables.';\n",
              "          element.innerHTML = '';\n",
              "          dataTable['output_type'] = 'display_data';\n",
              "          await google.colab.output.renderOutput(dataTable, element);\n",
              "          const docLink = document.createElement('div');\n",
              "          docLink.innerHTML = docLinkHtml;\n",
              "          element.appendChild(docLink);\n",
              "        }\n",
              "      </script>\n",
              "    </div>\n",
              "  </div>\n",
              "  "
            ]
          },
          "metadata": {},
          "execution_count": 18
        }
      ]
    },
    {
      "cell_type": "code",
      "source": [
        "df.sentiment.value_counts()"
      ],
      "metadata": {
        "execution": {
          "iopub.status.busy": "2022-04-23T01:44:16.606393Z",
          "iopub.execute_input": "2022-04-23T01:44:16.606947Z",
          "iopub.status.idle": "2022-04-23T01:44:16.626504Z",
          "shell.execute_reply.started": "2022-04-23T01:44:16.606905Z",
          "shell.execute_reply": "2022-04-23T01:44:16.625802Z"
        },
        "trusted": true,
        "colab": {
          "base_uri": "https://localhost:8080/"
        },
        "id": "yJ8_bUqSbZeE",
        "outputId": "ccb24bc0-be0f-497d-df6d-ede1addba8ea"
      },
      "execution_count": 19,
      "outputs": [
        {
          "output_type": "execute_result",
          "data": {
            "text/plain": [
              "0    800000\n",
              "4    800000\n",
              "Name: sentiment, dtype: int64"
            ]
          },
          "metadata": {},
          "execution_count": 19
        }
      ]
    },
    {
      "cell_type": "markdown",
      "source": [
        "\n",
        "\n",
        "\n",
        "\n",
        "\n",
        "\n",
        "\n",
        "\n",
        "\n",
        "\n",
        "\n",
        "# Cleaning data"
      ],
      "metadata": {
        "id": "jAlboQAcbZeF"
      }
    },
    {
      "cell_type": "code",
      "source": [
        "df['pre_clean_len'] = [len(t) for t in df.text]"
      ],
      "metadata": {
        "execution": {
          "iopub.status.busy": "2022-04-23T01:44:16.627809Z",
          "iopub.execute_input": "2022-04-23T01:44:16.628299Z",
          "iopub.status.idle": "2022-04-23T01:44:17.976644Z",
          "shell.execute_reply.started": "2022-04-23T01:44:16.628256Z",
          "shell.execute_reply": "2022-04-23T01:44:17.975927Z"
        },
        "trusted": true,
        "id": "TM9mghwabZeF"
      },
      "execution_count": 20,
      "outputs": []
    },
    {
      "cell_type": "code",
      "source": [
        "plt.boxplot(df.pre_clean_len)\n",
        "plt.show()"
      ],
      "metadata": {
        "execution": {
          "iopub.status.busy": "2022-04-23T01:44:17.978002Z",
          "iopub.execute_input": "2022-04-23T01:44:17.978260Z",
          "iopub.status.idle": "2022-04-23T01:44:18.361441Z",
          "shell.execute_reply.started": "2022-04-23T01:44:17.978225Z",
          "shell.execute_reply": "2022-04-23T01:44:18.360735Z"
        },
        "trusted": true,
        "colab": {
          "base_uri": "https://localhost:8080/",
          "height": 265
        },
        "id": "EBWmEK5qbZeG",
        "outputId": "40bdb268-ee70-47cc-bd3c-d9a8ad14874d"
      },
      "execution_count": 21,
      "outputs": [
        {
          "output_type": "display_data",
          "data": {
            "text/plain": [
              "<Figure size 432x288 with 1 Axes>"
            ],
            "image/png": "[encoded data removed]"
          },
          "metadata": {
            "needs_background": "light"
          }
        }
      ]
    },
    {
      "cell_type": "code",
      "source": [
        "df[df.pre_clean_len > 140].head(10) "
      ],
      "metadata": {
        "execution": {
          "iopub.status.busy": "2022-04-23T01:44:18.362804Z",
          "iopub.execute_input": "2022-04-23T01:44:18.363472Z",
          "iopub.status.idle": "2022-04-23T01:44:18.395813Z",
          "shell.execute_reply.started": "2022-04-23T01:44:18.363431Z",
          "shell.execute_reply": "2022-04-23T01:44:18.395123Z"
        },
        "trusted": true,
        "colab": {
          "base_uri": "https://localhost:8080/",
          "height": 363
        },
        "id": "Zv2G8XSLbZeG",
        "outputId": "40ab9b01-75be-425b-d8b0-7dfc503fa3d3"
      },
      "execution_count": 22,
      "outputs": [
        {
          "output_type": "execute_result",
          "data": {
            "text/plain": [
              "      sentiment                                               text  \\\n",
              "41            4  Waiting for &quot;No Agenda&quot; Stream not w...   \n",
              "237           4  @ihatecrayons Any chance you gonna do a remake...   \n",
              "373           4  @kashiichan Nope. I'm in a 3-way chat with a c...   \n",
              "463           4  Morning everyone. Busy Friday-contracts, revie...   \n",
              "588           0  @ThrivingIvory i guess u dont kno what &quot;l...   \n",
              "746           4  @rebeccashearing itouch wuhuuuu \\o/ hahaha... ...   \n",
              "929           4  What I Meant to Say: At Yardhouse, Waikiki. @l...   \n",
              "981           0  Good Morning Everyone! Breezy today, weather p...   \n",
              "1067          4  Great mood, i have so much to be happy about a...   \n",
              "1087          0  don't you just hate it when you waste your who...   \n",
              "\n",
              "      pre_clean_len  \n",
              "41              142  \n",
              "237             142  \n",
              "373             146  \n",
              "463             141  \n",
              "588             148  \n",
              "746             142  \n",
              "929             141  \n",
              "981             141  \n",
              "1067            146  \n",
              "1087            142  "
            ],
            "text/html": [
              "\n",
              "  <div id=\"df-8a1e2eac-9552-4e12-887f-a68a7b7eeac9\">\n",
              "    <div class=\"colab-df-container\">\n",
              "      <div>\n",
              "<style scoped>\n",
              "    .dataframe tbody tr th:only-of-type {\n",
              "        vertical-align: middle;\n",
              "    }\n",
              "\n",
              "    .dataframe tbody tr th {\n",
              "        vertical-align: top;\n",
              "    }\n",
              "\n",
              "    .dataframe thead th {\n",
              "        text-align: right;\n",
              "    }\n",
              "</style>\n",
              "<table border=\"1\" class=\"dataframe\">\n",
              "  <thead>\n",
              "    <tr style=\"text-align: right;\">\n",
              "      <th></th>\n",
              "      <th>sentiment</th>\n",
              "      <th>text</th>\n",
              "      <th>pre_clean_len</th>\n",
              "    </tr>\n",
              "  </thead>\n",
              "  <tbody>\n",
              "    <tr>\n",
              "      <th>41</th>\n",
              "      <td>4</td>\n",
              "      <td>Waiting for &amp;quot;No Agenda&amp;quot; Stream not w...</td>\n",
              "      <td>142</td>\n",
              "    </tr>\n",
              "    <tr>\n",
              "      <th>237</th>\n",
              "      <td>4</td>\n",
              "      <td>@ihatecrayons Any chance you gonna do a remake...</td>\n",
              "      <td>142</td>\n",
              "    </tr>\n",
              "    <tr>\n",
              "      <th>373</th>\n",
              "      <td>4</td>\n",
              "      <td>@kashiichan Nope. I'm in a 3-way chat with a c...</td>\n",
              "      <td>146</td>\n",
              "    </tr>\n",
              "    <tr>\n",
              "      <th>463</th>\n",
              "      <td>4</td>\n",
              "      <td>Morning everyone. Busy Friday-contracts, revie...</td>\n",
              "      <td>141</td>\n",
              "    </tr>\n",
              "    <tr>\n",
              "      <th>588</th>\n",
              "      <td>0</td>\n",
              "      <td>@ThrivingIvory i guess u dont kno what &amp;quot;l...</td>\n",
              "      <td>148</td>\n",
              "    </tr>\n",
              "    <tr>\n",
              "      <th>746</th>\n",
              "      <td>4</td>\n",
              "      <td>@rebeccashearing itouch wuhuuuu \\o/ hahaha... ...</td>\n",
              "      <td>142</td>\n",
              "    </tr>\n",
              "    <tr>\n",
              "      <th>929</th>\n",
              "      <td>4</td>\n",
              "      <td>What I Meant to Say: At Yardhouse, Waikiki. @l...</td>\n",
              "      <td>141</td>\n",
              "    </tr>\n",
              "    <tr>\n",
              "      <th>981</th>\n",
              "      <td>0</td>\n",
              "      <td>Good Morning Everyone! Breezy today, weather p...</td>\n",
              "      <td>141</td>\n",
              "    </tr>\n",
              "    <tr>\n",
              "      <th>1067</th>\n",
              "      <td>4</td>\n",
              "      <td>Great mood, i have so much to be happy about a...</td>\n",
              "      <td>146</td>\n",
              "    </tr>\n",
              "    <tr>\n",
              "      <th>1087</th>\n",
              "      <td>0</td>\n",
              "      <td>don't you just hate it when you waste your who...</td>\n",
              "      <td>142</td>\n",
              "    </tr>\n",
              "  </tbody>\n",
              "</table>\n",
              "</div>\n",
              "      <button class=\"colab-df-convert\" onclick=\"convertToInteractive('df-8a1e2eac-9552-4e12-887f-a68a7b7eeac9')\"\n",
              "              title=\"Convert this dataframe to an interactive table.\"\n",
              "              style=\"display:none;\">\n",
              "        \n",
              "  <svg xmlns=\"http://www.w3.org/2000/svg\" height=\"24px\"viewBox=\"0 0 24 24\"\n",
              "       width=\"24px\">\n",
              "    <path d=\"M0 0h24v24H0V0z\" fill=\"none\"/>\n",
              "    <path d=\"M18.56 5.44l.94 2.06.94-2.06 2.06-.94-2.06-.94-.94-2.06-.94 2.06-2.06.94zm-11 1L8.5 8.5l.94-2.06 2.06-.94-2.06-.94L8.5 2.5l-.94 2.06-2.06.94zm10 10l.94 2.06.94-2.06 2.06-.94-2.06-.94-.94-2.06-.94 2.06-2.06.94z\"/><path d=\"M17.41 7.96l-1.37-1.37c-.4-.4-.92-.59-1.43-.59-.52 0-1.04.2-1.43.59L10.3 9.45l-7.72 7.72c-.78.78-.78 2.05 0 2.83L4 21.41c.39.39.9.59 1.41.59.51 0 1.02-.2 1.41-.59l7.78-7.78 2.81-2.81c.8-.78.8-2.07 0-2.86zM5.41 20L4 18.59l7.72-7.72 1.47 1.35L5.41 20z\"/>\n",
              "  </svg>\n",
              "      </button>\n",
              "      \n",
              "  <style>\n",
              "    .colab-df-container {\n",
              "      display:flex;\n",
              "      flex-wrap:wrap;\n",
              "      gap: 12px;\n",
              "    }\n",
              "\n",
              "    .colab-df-convert {\n",
              "      background-color: #E8F0FE;\n",
              "      border: none;\n",
              "      border-radius: 50%;\n",
              "      cursor: pointer;\n",
              "      display: none;\n",
              "      fill: #1967D2;\n",
              "      height: 32px;\n",
              "      padding: 0 0 0 0;\n",
              "      width: 32px;\n",
              "    }\n",
              "\n",
              "    .colab-df-convert:hover {\n",
              "      background-color: #E2EBFA;\n",
              "      box-shadow: 0px 1px 2px rgba(60, 64, 67, 0.3), 0px 1px 3px 1px rgba(60, 64, 67, 0.15);\n",
              "      fill: #174EA6;\n",
              "    }\n",
              "\n",
              "    [theme=dark] .colab-df-convert {\n",
              "      background-color: #3B4455;\n",
              "      fill: #D2E3FC;\n",
              "    }\n",
              "\n",
              "    [theme=dark] .colab-df-convert:hover {\n",
              "      background-color: #434B5C;\n",
              "      box-shadow: 0px 1px 3px 1px rgba(0, 0, 0, 0.15);\n",
              "      filter: drop-shadow(0px 1px 2px rgba(0, 0, 0, 0.3));\n",
              "      fill: #FFFFFF;\n",
              "    }\n",
              "  </style>\n",
              "\n",
              "      <script>\n",
              "        const buttonEl =\n",
              "          document.querySelector('#df-8a1e2eac-9552-4e12-887f-a68a7b7eeac9 button.colab-df-convert');\n",
              "        buttonEl.style.display =\n",
              "          google.colab.kernel.accessAllowed ? 'block' : 'none';\n",
              "\n",
              "        async function convertToInteractive(key) {\n",
              "          const element = document.querySelector('#df-8a1e2eac-9552-4e12-887f-a68a7b7eeac9');\n",
              "          const dataTable =\n",
              "            await google.colab.kernel.invokeFunction('convertToInteractive',\n",
              "                                                     [key], {});\n",
              "          if (!dataTable) return;\n",
              "\n",
              "          const docLinkHtml = 'Like what you see? Visit the ' +\n",
              "            '<a target=\"_blank\" href=https://colab.research.google.com/notebooks/data_table.ipynb>data table notebook</a>'\n",
              "            + ' to learn more about interactive tables.';\n",
              "          element.innerHTML = '';\n",
              "          dataTable['output_type'] = 'display_data';\n",
              "          await google.colab.output.renderOutput(dataTable, element);\n",
              "          const docLink = document.createElement('div');\n",
              "          docLink.innerHTML = docLinkHtml;\n",
              "          element.appendChild(docLink);\n",
              "        }\n",
              "      </script>\n",
              "    </div>\n",
              "  </div>\n",
              "  "
            ]
          },
          "metadata": {},
          "execution_count": 22
        }
      ]
    },
    {
      "cell_type": "markdown",
      "source": [
        "At this stage, if you want you could remove these outlier tweets"
      ],
      "metadata": {
        "id": "mJvxIpNQbZeH"
      }
    },
    {
      "cell_type": "markdown",
      "source": [
        "# Cleaning operations"
      ],
      "metadata": {
        "id": "6Ma_uMmBbZeH"
      }
    },
    {
      "cell_type": "code",
      "source": [
        "import re\n",
        "from bs4 import BeautifulSoup\n",
        "from nltk.tokenize import WordPunctTokenizer\n",
        "tok = WordPunctTokenizer()\n",
        "\n",
        "pat1 = r'@[A-Za-z0-9_]+'        # remove @ mentions from tweets\n",
        "pat2 = r'https?://[^ ]+'        # remove URLs from tweets\n",
        "combined_pat = r'|'.join((pat1, pat2)) #addition of pat1 and pat2\n",
        "www_pat = r'www.[^ ]+'         # remove URLs from tweets\n",
        "negations_dic = {\"isn't\":\"is not\", \"aren't\":\"are not\", \"wasn't\":\"was not\", \"weren't\":\"were not\",   # converting words like isn't to is not\n",
        "                \"haven't\":\"have not\",\"hasn't\":\"has not\",\"hadn't\":\"had not\",\"won't\":\"will not\",\n",
        "                \"wouldn't\":\"would not\", \"don't\":\"do not\", \"doesn't\":\"does not\",\"didn't\":\"did not\",\n",
        "                \"can't\":\"can not\",\"couldn't\":\"could not\",\"shouldn't\":\"should not\",\"mightn't\":\"might not\",\n",
        "                \"mustn't\":\"must not\"}\n",
        "neg_pattern = re.compile(r'\\b(' + '|'.join(negations_dic.keys()) + r')\\b')\n",
        "\n",
        "def tweet_cleaner(text):  # define tweet_cleaner function to clean the tweets\n",
        "    soup = BeautifulSoup(text, 'lxml')    # create beautiful soup object\n",
        "    souped = soup.get_text()   # get only text from the tweets \n",
        "    try:\n",
        "        bom_removed = souped.decode(\"utf-8-sig\").replace(u\"\\ufffd\", \"?\")    # remove utf-8-sig code\n",
        "    except:\n",
        "        bom_removed = souped\n",
        "    stripped = re.sub(combined_pat, '', bom_removed) # calling combined_pat\n",
        "    stripped = re.sub(www_pat, '', stripped) #remove URLs\n",
        "    lower_case = stripped.lower()      # converting all into lower case\n",
        "    neg_handled = neg_pattern.sub(lambda x: negations_dic[x.group()], lower_case) # converting words like isn't to is not\n",
        "    letters_only = re.sub(\"[^a-zA-Z]\", \" \", neg_handled)       # will replace # by space\n",
        "    words = [x for x  in tok.tokenize(letters_only) if len(x) > 1] # Word Punct Tokenize and only consider words whose length is greater than 1\n",
        "    return (\" \".join(words)).strip() # join the words"
      ],
      "metadata": {
        "execution": {
          "iopub.status.busy": "2022-04-23T01:44:18.397085Z",
          "iopub.execute_input": "2022-04-23T01:44:18.397600Z",
          "iopub.status.idle": "2022-04-23T01:44:18.569905Z",
          "shell.execute_reply.started": "2022-04-23T01:44:18.397560Z",
          "shell.execute_reply": "2022-04-23T01:44:18.569180Z"
        },
        "trusted": true,
        "id": "ehUAq4OObZeI"
      },
      "execution_count": 23,
      "outputs": []
    },
    {
      "cell_type": "code",
      "source": [
        "#Note that we have 1600000 instances. But processing so many instances will take a very very long time.\n",
        "#Hence, restricting to rather 50000 instances.\n",
        "limit= 1600000\n",
        "import time; \n",
        "ms = time.time()\n",
        "#nums = [0,400000,800000,1200000,1600000] # used for batch processing tweets\n",
        "#nums = [0, 9999]\n",
        "clean_tweet_texts = [] # initialize list\n",
        "for i in range(0,limit): # batch process 1.6 million tweets \n",
        "    if i % 10000==0:\n",
        "        print(i, time.time()-ms)\n",
        "    clean_tweet_texts.append(tweet_cleaner(df['text'][i]))  # call tweet_cleaner function and pass parameter as all the tweets to clean the tweets and append cleaned tweets into clean_tweet_texts list"
      ],
      "metadata": {
        "scrolled": true,
        "execution": {
          "iopub.status.busy": "2022-04-23T02:42:20.663129Z",
          "iopub.execute_input": "2022-04-23T02:42:20.663719Z",
          "iopub.status.idle": "2022-04-23T02:49:30.654706Z",
          "shell.execute_reply.started": "2022-04-23T02:42:20.663682Z",
          "shell.execute_reply": "2022-04-23T02:49:30.653949Z"
        },
        "trusted": true,
        "colab": {
          "base_uri": "https://localhost:8080/"
        },
        "id": "5ezXFx0ibZeJ",
        "outputId": "f9ca3567-d70f-475a-dad0-8b9810e6bd82"
      },
      "execution_count": 24,
      "outputs": [
        {
          "output_type": "stream",
          "name": "stdout",
          "text": [
            "0 6.079673767089844e-05\n",
            "10000 2.234222888946533\n",
            "20000 4.595175743103027\n",
            "30000 6.803098201751709\n",
            "40000 9.021828889846802\n",
            "50000 11.183855772018433\n",
            "60000 13.350577592849731\n",
            "70000 15.529418468475342\n",
            "80000 17.710095643997192\n",
            "90000 19.877796173095703\n",
            "100000 22.079482555389404\n",
            "110000 24.275472402572632\n",
            "120000 26.46429753303528\n",
            "130000 28.648426294326782\n",
            "140000 30.948625564575195\n",
            "150000 33.445072174072266\n",
            "160000 36.29544448852539\n",
            "170000 38.4672429561615\n",
            "180000 40.66106367111206\n",
            "190000 42.86578106880188\n",
            "200000 45.058807611465454\n",
            "210000 47.222291231155396\n",
            "220000 49.36237907409668\n",
            "230000 51.509541511535645\n",
            "240000 53.68237352371216\n",
            "250000 55.833805322647095\n",
            "260000 57.9957857131958\n",
            "270000 60.731714487075806\n",
            "280000 62.905444860458374\n",
            "290000 65.06027722358704\n",
            "300000 67.22980618476868\n",
            "310000 69.39643669128418\n",
            "320000 71.52256083488464\n",
            "330000 73.66344428062439\n",
            "340000 75.81974077224731\n",
            "350000 77.98731303215027\n",
            "360000 80.13220715522766\n",
            "370000 82.31514382362366\n",
            "380000 84.44923496246338\n",
            "390000 86.62736988067627\n",
            "400000 88.80012059211731\n",
            "410000 90.96434688568115\n",
            "420000 93.15046215057373\n",
            "430000 95.39656519889832\n",
            "440000 97.55333185195923\n",
            "450000 99.71545934677124\n",
            "460000 101.87865328788757\n",
            "470000 104.05150699615479\n",
            "480000 106.22069334983826\n",
            "490000 108.38076448440552\n",
            "500000 110.54880475997925\n",
            "510000 112.69779586791992\n",
            "520000 114.8441846370697\n",
            "530000 116.97404861450195\n",
            "540000 119.14624238014221\n",
            "550000 121.5534815788269\n",
            "560000 123.74767971038818\n",
            "570000 125.94864320755005\n",
            "580000 128.17471528053284\n",
            "590000 130.36110258102417\n",
            "600000 132.54810214042664\n",
            "610000 134.74493598937988\n",
            "620000 136.94649839401245\n",
            "630000 139.1656777858734\n",
            "640000 141.34812450408936\n",
            "650000 143.56362342834473\n",
            "660000 145.76287317276\n",
            "670000 147.9642539024353\n",
            "680000 150.1642713546753\n",
            "690000 152.34788918495178\n",
            "700000 154.5484652519226\n",
            "710000 156.70972895622253\n",
            "720000 158.86648154258728\n",
            "730000 161.0074019432068\n",
            "740000 163.15594005584717\n",
            "750000 165.2878544330597\n",
            "760000 168.02006483078003\n",
            "770000 170.19075870513916\n",
            "780000 172.31554651260376\n",
            "790000 174.4766707420349\n",
            "800000 176.6756236553192\n",
            "810000 178.94129967689514\n",
            "820000 181.12043356895447\n",
            "830000 183.26484298706055\n",
            "840000 185.421808719635\n",
            "850000 187.57852506637573\n",
            "860000 189.74481868743896\n",
            "870000 191.91524362564087\n",
            "880000 194.0391252040863\n",
            "890000 196.20212149620056\n",
            "900000 198.3553171157837\n",
            "910000 200.49296593666077\n",
            "920000 202.63262248039246\n",
            "930000 204.82177829742432\n",
            "940000 207.00068545341492\n",
            "950000 209.18439054489136\n",
            "960000 211.55294847488403\n",
            "970000 213.74114418029785\n",
            "980000 215.92170929908752\n",
            "990000 218.09698104858398\n",
            "1000000 220.29826736450195\n",
            "1010000 222.51355171203613\n",
            "1020000 224.73358058929443\n",
            "1030000 226.97675228118896\n",
            "1040000 229.1853883266449\n",
            "1050000 231.36498069763184\n",
            "1060000 233.59193015098572\n",
            "1070000 235.85968446731567\n",
            "1080000 238.11358857154846\n",
            "1090000 240.3612926006317\n",
            "1100000 242.53538727760315\n",
            "1110000 244.74302697181702\n",
            "1120000 246.91522812843323\n",
            "1130000 249.08524775505066\n",
            "1140000 251.2322392463684\n",
            "1150000 253.3686888217926\n",
            "1160000 255.53998851776123\n",
            "1170000 257.71614503860474\n",
            "1180000 259.89975929260254\n",
            "1190000 262.11325001716614\n",
            "1200000 264.3322055339813\n",
            "1210000 266.49024868011475\n",
            "1220000 268.65088295936584\n",
            "1230000 270.84162068367004\n",
            "1240000 273.53099298477173\n",
            "1250000 275.71871066093445\n",
            "1260000 277.8867464065552\n",
            "1270000 280.0772194862366\n",
            "1280000 282.32861137390137\n",
            "1290000 284.47452569007874\n",
            "1300000 286.635915517807\n",
            "1310000 288.791876077652\n",
            "1320000 290.99564504623413\n",
            "1330000 293.1321988105774\n",
            "1340000 295.2960126399994\n",
            "1350000 297.453898191452\n",
            "1360000 299.64987421035767\n",
            "1370000 302.07193064689636\n",
            "1380000 304.3583068847656\n",
            "1390000 306.7024314403534\n",
            "1400000 308.98436307907104\n",
            "1410000 311.2731008529663\n",
            "1420000 313.5845377445221\n",
            "1430000 315.8278090953827\n",
            "1440000 318.06663751602173\n",
            "1450000 320.28748846054077\n",
            "1460000 322.5207631587982\n",
            "1470000 324.7871654033661\n",
            "1480000 327.03523325920105\n",
            "1490000 329.30032181739807\n",
            "1500000 331.50332951545715\n",
            "1510000 333.72064757347107\n",
            "1520000 335.9231879711151\n",
            "1530000 338.3601105213165\n",
            "1540000 341.513231754303\n",
            "1550000 343.68977308273315\n",
            "1560000 345.8528323173523\n",
            "1570000 348.0456221103668\n",
            "1580000 350.20681524276733\n",
            "1590000 352.3919038772583\n"
          ]
        }
      ]
    },
    {
      "cell_type": "markdown",
      "source": [
        "# clean_tweet_texts"
      ],
      "metadata": {
        "id": "SdO-pDShbZeJ"
      }
    },
    {
      "cell_type": "code",
      "source": [
        "nltk.download('punkt')"
      ],
      "metadata": {
        "execution": {
          "iopub.status.busy": "2022-04-23T02:49:30.656252Z",
          "iopub.execute_input": "2022-04-23T02:49:30.656534Z",
          "iopub.status.idle": "2022-04-23T02:49:30.664754Z",
          "shell.execute_reply.started": "2022-04-23T02:49:30.656496Z",
          "shell.execute_reply": "2022-04-23T02:49:30.663746Z"
        },
        "trusted": true,
        "colab": {
          "base_uri": "https://localhost:8080/"
        },
        "id": "ZYVQvtSCbZeK",
        "outputId": "f2bb62a8-e46a-4ee0-c1d6-18b98a60e36c"
      },
      "execution_count": 25,
      "outputs": [
        {
          "output_type": "stream",
          "name": "stderr",
          "text": [
            "[nltk_data] Downloading package punkt to /root/nltk_data...\n",
            "[nltk_data]   Unzipping tokenizers/punkt.zip.\n"
          ]
        },
        {
          "output_type": "execute_result",
          "data": {
            "text/plain": [
              "True"
            ]
          },
          "metadata": {},
          "execution_count": 25
        }
      ]
    },
    {
      "cell_type": "code",
      "source": [
        "word_tokens = [] # initialize list for tokens\n",
        "for word in clean_tweet_texts:  # for each word in clean_tweet_texts\n",
        "    word_tokens.append(word_tokenize(word)) #tokenize word in clean_tweet_texts and append it to word_tokens list"
      ],
      "metadata": {
        "execution": {
          "iopub.status.busy": "2022-04-23T02:49:30.666289Z",
          "iopub.execute_input": "2022-04-23T02:49:30.666904Z",
          "iopub.status.idle": "2022-04-23T02:53:37.162028Z",
          "shell.execute_reply.started": "2022-04-23T02:49:30.666864Z",
          "shell.execute_reply": "2022-04-23T02:53:37.161283Z"
        },
        "trusted": true,
        "id": "wTODwkIPbZeK"
      },
      "execution_count": 26,
      "outputs": []
    },
    {
      "cell_type": "markdown",
      "source": [
        "# Lemmatizing"
      ],
      "metadata": {
        "id": "7kHxhbzpbZeK"
      }
    },
    {
      "cell_type": "code",
      "source": [
        "nltk.download('wordnet')\n",
        "nltk.download('omw-1.4')"
      ],
      "metadata": {
        "execution": {
          "iopub.status.busy": "2022-04-23T02:53:37.164013Z",
          "iopub.execute_input": "2022-04-23T02:53:37.164343Z",
          "iopub.status.idle": "2022-04-23T02:53:37.324908Z",
          "shell.execute_reply.started": "2022-04-23T02:53:37.164305Z",
          "shell.execute_reply": "2022-04-23T02:53:37.324000Z"
        },
        "trusted": true,
        "colab": {
          "base_uri": "https://localhost:8080/"
        },
        "id": "YMPH0O0KbZeL",
        "outputId": "e37c560e-d321-48ae-d191-ea6eb7b808c3"
      },
      "execution_count": 29,
      "outputs": [
        {
          "output_type": "stream",
          "name": "stderr",
          "text": [
            "[nltk_data] Downloading package wordnet to /root/nltk_data...\n",
            "[nltk_data]   Package wordnet is already up-to-date!\n",
            "[nltk_data] Downloading package omw-1.4 to /root/nltk_data...\n"
          ]
        },
        {
          "output_type": "execute_result",
          "data": {
            "text/plain": [
              "True"
            ]
          },
          "metadata": {},
          "execution_count": 29
        }
      ]
    },
    {
      "cell_type": "code",
      "source": [
        "df1 = [] # initialize list df1 to store words after lemmatization\n",
        "from nltk.stem import WordNetLemmatizer # import WordNetLemmatizer from nltk.stem\n",
        "lemmatizer = WordNetLemmatizer() # create an object of WordNetLemmatizer\n",
        "for l in word_tokens: # for loop for every tokens in word_token\n",
        "    b = [lemmatizer.lemmatize(q) for q in l] #for every tokens in word_token lemmatize word and giev it to b\n",
        "    df1.append(b) #append b to list df1"
      ],
      "metadata": {
        "execution": {
          "iopub.status.busy": "2022-04-23T02:53:37.326291Z",
          "iopub.execute_input": "2022-04-23T02:53:37.326617Z",
          "iopub.status.idle": "2022-04-23T02:55:04.877855Z",
          "shell.execute_reply.started": "2022-04-23T02:53:37.326578Z",
          "shell.execute_reply": "2022-04-23T02:55:04.877094Z"
        },
        "trusted": true,
        "id": "XLycVSBFbZeL"
      },
      "execution_count": 30,
      "outputs": []
    },
    {
      "cell_type": "markdown",
      "source": [
        "# df"
      ],
      "metadata": {
        "id": "OdxtbxrkbZeL"
      }
    },
    {
      "cell_type": "code",
      "source": [
        "clean_df1 =[] # initialize list clean_df1 to join word tokens after lemmatization\n",
        "for c in df1:  # for loop for each list in df1\n",
        "    a = \" \".join(c) # join words in list with space in between and give it to a\n",
        "    clean_df1.append(a) # append a to clean_df1"
      ],
      "metadata": {
        "execution": {
          "iopub.status.busy": "2022-04-23T02:55:04.879037Z",
          "iopub.execute_input": "2022-04-23T02:55:04.881257Z",
          "iopub.status.idle": "2022-04-23T02:55:06.025489Z",
          "shell.execute_reply.started": "2022-04-23T02:55:04.881222Z",
          "shell.execute_reply": "2022-04-23T02:55:06.024648Z"
        },
        "trusted": true,
        "id": "ch5XtDwubZeM"
      },
      "execution_count": 31,
      "outputs": []
    },
    {
      "cell_type": "markdown",
      "source": [
        "# clean_df1"
      ],
      "metadata": {
        "id": "uNzbSQ-obZeM"
      }
    },
    {
      "cell_type": "code",
      "source": [
        "clean_df = pd.DataFrame(clean_df1,columns=['text']) # convert clean_tweet_texts into dataframe and name it as clean_df\n",
        "#clean_df['target'] = df.sentiment[:10000] # from earlier dataframe get the sentiments of each tweet and make a new column in clean_df as target and give it all the sentiment score\n",
        "#clean_df"
      ],
      "metadata": {
        "execution": {
          "iopub.status.busy": "2022-04-23T02:55:06.026689Z",
          "iopub.execute_input": "2022-04-23T02:55:06.026974Z",
          "iopub.status.idle": "2022-04-23T02:55:06.122230Z",
          "shell.execute_reply.started": "2022-04-23T02:55:06.026923Z",
          "shell.execute_reply": "2022-04-23T02:55:06.121314Z"
        },
        "trusted": true,
        "id": "QiKaEwMZbZeM"
      },
      "execution_count": 32,
      "outputs": []
    },
    {
      "cell_type": "code",
      "source": [
        "clean_df['clean_len'] = [len(t) for t in clean_df.text] # Again make a new coloumn in the dataframe and name it as clean_len which "
      ],
      "metadata": {
        "execution": {
          "iopub.status.busy": "2022-04-23T02:55:06.123989Z",
          "iopub.execute_input": "2022-04-23T02:55:06.124490Z",
          "iopub.status.idle": "2022-04-23T02:55:06.967465Z",
          "shell.execute_reply.started": "2022-04-23T02:55:06.124445Z",
          "shell.execute_reply": "2022-04-23T02:55:06.966717Z"
        },
        "trusted": true,
        "id": "DrJ7sOyWbZeN"
      },
      "execution_count": 33,
      "outputs": []
    },
    {
      "cell_type": "code",
      "source": [
        "clean_df[clean_df.clean_len > 140].head(10) # again check if any tweet is more than 140 characters"
      ],
      "metadata": {
        "execution": {
          "iopub.status.busy": "2022-04-23T02:55:06.968811Z",
          "iopub.execute_input": "2022-04-23T02:55:06.969072Z",
          "iopub.status.idle": "2022-04-23T02:55:06.982714Z",
          "shell.execute_reply.started": "2022-04-23T02:55:06.969038Z",
          "shell.execute_reply": "2022-04-23T02:55:06.981962Z"
        },
        "trusted": true,
        "colab": {
          "base_uri": "https://localhost:8080/",
          "height": 49
        },
        "id": "idl1K7vrbZeN",
        "outputId": "843b4ac3-8d65-4e3f-8083-b40fb24e84c0"
      },
      "execution_count": 34,
      "outputs": [
        {
          "output_type": "execute_result",
          "data": {
            "text/plain": [
              "Empty DataFrame\n",
              "Columns: [text, clean_len]\n",
              "Index: []"
            ],
            "text/html": [
              "\n",
              "  <div id=\"df-47ef7f4e-68e8-4e13-a68d-3884c52c91da\">\n",
              "    <div class=\"colab-df-container\">\n",
              "      <div>\n",
              "<style scoped>\n",
              "    .dataframe tbody tr th:only-of-type {\n",
              "        vertical-align: middle;\n",
              "    }\n",
              "\n",
              "    .dataframe tbody tr th {\n",
              "        vertical-align: top;\n",
              "    }\n",
              "\n",
              "    .dataframe thead th {\n",
              "        text-align: right;\n",
              "    }\n",
              "</style>\n",
              "<table border=\"1\" class=\"dataframe\">\n",
              "  <thead>\n",
              "    <tr style=\"text-align: right;\">\n",
              "      <th></th>\n",
              "      <th>text</th>\n",
              "      <th>clean_len</th>\n",
              "    </tr>\n",
              "  </thead>\n",
              "  <tbody>\n",
              "  </tbody>\n",
              "</table>\n",
              "</div>\n",
              "      <button class=\"colab-df-convert\" onclick=\"convertToInteractive('df-47ef7f4e-68e8-4e13-a68d-3884c52c91da')\"\n",
              "              title=\"Convert this dataframe to an interactive table.\"\n",
              "              style=\"display:none;\">\n",
              "        \n",
              "  <svg xmlns=\"http://www.w3.org/2000/svg\" height=\"24px\"viewBox=\"0 0 24 24\"\n",
              "       width=\"24px\">\n",
              "    <path d=\"M0 0h24v24H0V0z\" fill=\"none\"/>\n",
              "    <path d=\"M18.56 5.44l.94 2.06.94-2.06 2.06-.94-2.06-.94-.94-2.06-.94 2.06-2.06.94zm-11 1L8.5 8.5l.94-2.06 2.06-.94-2.06-.94L8.5 2.5l-.94 2.06-2.06.94zm10 10l.94 2.06.94-2.06 2.06-.94-2.06-.94-.94-2.06-.94 2.06-2.06.94z\"/><path d=\"M17.41 7.96l-1.37-1.37c-.4-.4-.92-.59-1.43-.59-.52 0-1.04.2-1.43.59L10.3 9.45l-7.72 7.72c-.78.78-.78 2.05 0 2.83L4 21.41c.39.39.9.59 1.41.59.51 0 1.02-.2 1.41-.59l7.78-7.78 2.81-2.81c.8-.78.8-2.07 0-2.86zM5.41 20L4 18.59l7.72-7.72 1.47 1.35L5.41 20z\"/>\n",
              "  </svg>\n",
              "      </button>\n",
              "      \n",
              "  <style>\n",
              "    .colab-df-container {\n",
              "      display:flex;\n",
              "      flex-wrap:wrap;\n",
              "      gap: 12px;\n",
              "    }\n",
              "\n",
              "    .colab-df-convert {\n",
              "      background-color: #E8F0FE;\n",
              "      border: none;\n",
              "      border-radius: 50%;\n",
              "      cursor: pointer;\n",
              "      display: none;\n",
              "      fill: #1967D2;\n",
              "      height: 32px;\n",
              "      padding: 0 0 0 0;\n",
              "      width: 32px;\n",
              "    }\n",
              "\n",
              "    .colab-df-convert:hover {\n",
              "      background-color: #E2EBFA;\n",
              "      box-shadow: 0px 1px 2px rgba(60, 64, 67, 0.3), 0px 1px 3px 1px rgba(60, 64, 67, 0.15);\n",
              "      fill: #174EA6;\n",
              "    }\n",
              "\n",
              "    [theme=dark] .colab-df-convert {\n",
              "      background-color: #3B4455;\n",
              "      fill: #D2E3FC;\n",
              "    }\n",
              "\n",
              "    [theme=dark] .colab-df-convert:hover {\n",
              "      background-color: #434B5C;\n",
              "      box-shadow: 0px 1px 3px 1px rgba(0, 0, 0, 0.15);\n",
              "      filter: drop-shadow(0px 1px 2px rgba(0, 0, 0, 0.3));\n",
              "      fill: #FFFFFF;\n",
              "    }\n",
              "  </style>\n",
              "\n",
              "      <script>\n",
              "        const buttonEl =\n",
              "          document.querySelector('#df-47ef7f4e-68e8-4e13-a68d-3884c52c91da button.colab-df-convert');\n",
              "        buttonEl.style.display =\n",
              "          google.colab.kernel.accessAllowed ? 'block' : 'none';\n",
              "\n",
              "        async function convertToInteractive(key) {\n",
              "          const element = document.querySelector('#df-47ef7f4e-68e8-4e13-a68d-3884c52c91da');\n",
              "          const dataTable =\n",
              "            await google.colab.kernel.invokeFunction('convertToInteractive',\n",
              "                                                     [key], {});\n",
              "          if (!dataTable) return;\n",
              "\n",
              "          const docLinkHtml = 'Like what you see? Visit the ' +\n",
              "            '<a target=\"_blank\" href=https://colab.research.google.com/notebooks/data_table.ipynb>data table notebook</a>'\n",
              "            + ' to learn more about interactive tables.';\n",
              "          element.innerHTML = '';\n",
              "          dataTable['output_type'] = 'display_data';\n",
              "          await google.colab.output.renderOutput(dataTable, element);\n",
              "          const docLink = document.createElement('div');\n",
              "          docLink.innerHTML = docLinkHtml;\n",
              "          element.appendChild(docLink);\n",
              "        }\n",
              "      </script>\n",
              "    </div>\n",
              "  </div>\n",
              "  "
            ]
          },
          "metadata": {},
          "execution_count": 34
        }
      ]
    },
    {
      "cell_type": "code",
      "source": [
        "target2 = [] # initialize list\n",
        "for i in range(0,limit): # batch process 1.6 million tweets \n",
        "    target2.append(df['sentiment'][i])\n",
        "clean_df['target']=target2\n",
        "df.head()"
      ],
      "metadata": {
        "execution": {
          "iopub.status.busy": "2022-04-23T02:55:07.022008Z",
          "iopub.execute_input": "2022-04-23T02:55:07.022226Z",
          "iopub.status.idle": "2022-04-23T02:55:18.743097Z",
          "shell.execute_reply.started": "2022-04-23T02:55:07.022200Z",
          "shell.execute_reply": "2022-04-23T02:55:18.741479Z"
        },
        "trusted": true,
        "colab": {
          "base_uri": "https://localhost:8080/",
          "height": 206
        },
        "id": "rTz8s6oXbZeN",
        "outputId": "3ed68e6b-8365-499f-8d68-33f6a0b56a69"
      },
      "execution_count": 35,
      "outputs": [
        {
          "output_type": "execute_result",
          "data": {
            "text/plain": [
              "   sentiment                                               text  pre_clean_len\n",
              "0          0               @totobird435 I'm missing every key.              36\n",
              "1          0              @karolein_  hope you're not that sad              37\n",
              "2          0           Going back for an evil afternoon!  grr..             40\n",
              "3          0            Damn! The facebook poker aint loading!              39\n",
              "4          4  Leaving gorgeous Corona.. look @ the full moon...             63"
            ],
            "text/html": [
              "\n",
              "  <div id=\"df-951e2648-098d-4d40-ade3-6d72b49acdbb\">\n",
              "    <div class=\"colab-df-container\">\n",
              "      <div>\n",
              "<style scoped>\n",
              "    .dataframe tbody tr th:only-of-type {\n",
              "        vertical-align: middle;\n",
              "    }\n",
              "\n",
              "    .dataframe tbody tr th {\n",
              "        vertical-align: top;\n",
              "    }\n",
              "\n",
              "    .dataframe thead th {\n",
              "        text-align: right;\n",
              "    }\n",
              "</style>\n",
              "<table border=\"1\" class=\"dataframe\">\n",
              "  <thead>\n",
              "    <tr style=\"text-align: right;\">\n",
              "      <th></th>\n",
              "      <th>sentiment</th>\n",
              "      <th>text</th>\n",
              "      <th>pre_clean_len</th>\n",
              "    </tr>\n",
              "  </thead>\n",
              "  <tbody>\n",
              "    <tr>\n",
              "      <th>0</th>\n",
              "      <td>0</td>\n",
              "      <td>@totobird435 I'm missing every key.</td>\n",
              "      <td>36</td>\n",
              "    </tr>\n",
              "    <tr>\n",
              "      <th>1</th>\n",
              "      <td>0</td>\n",
              "      <td>@karolein_  hope you're not that sad</td>\n",
              "      <td>37</td>\n",
              "    </tr>\n",
              "    <tr>\n",
              "      <th>2</th>\n",
              "      <td>0</td>\n",
              "      <td>Going back for an evil afternoon!  grr..</td>\n",
              "      <td>40</td>\n",
              "    </tr>\n",
              "    <tr>\n",
              "      <th>3</th>\n",
              "      <td>0</td>\n",
              "      <td>Damn! The facebook poker aint loading!</td>\n",
              "      <td>39</td>\n",
              "    </tr>\n",
              "    <tr>\n",
              "      <th>4</th>\n",
              "      <td>4</td>\n",
              "      <td>Leaving gorgeous Corona.. look @ the full moon...</td>\n",
              "      <td>63</td>\n",
              "    </tr>\n",
              "  </tbody>\n",
              "</table>\n",
              "</div>\n",
              "      <button class=\"colab-df-convert\" onclick=\"convertToInteractive('df-951e2648-098d-4d40-ade3-6d72b49acdbb')\"\n",
              "              title=\"Convert this dataframe to an interactive table.\"\n",
              "              style=\"display:none;\">\n",
              "        \n",
              "  <svg xmlns=\"http://www.w3.org/2000/svg\" height=\"24px\"viewBox=\"0 0 24 24\"\n",
              "       width=\"24px\">\n",
              "    <path d=\"M0 0h24v24H0V0z\" fill=\"none\"/>\n",
              "    <path d=\"M18.56 5.44l.94 2.06.94-2.06 2.06-.94-2.06-.94-.94-2.06-.94 2.06-2.06.94zm-11 1L8.5 8.5l.94-2.06 2.06-.94-2.06-.94L8.5 2.5l-.94 2.06-2.06.94zm10 10l.94 2.06.94-2.06 2.06-.94-2.06-.94-.94-2.06-.94 2.06-2.06.94z\"/><path d=\"M17.41 7.96l-1.37-1.37c-.4-.4-.92-.59-1.43-.59-.52 0-1.04.2-1.43.59L10.3 9.45l-7.72 7.72c-.78.78-.78 2.05 0 2.83L4 21.41c.39.39.9.59 1.41.59.51 0 1.02-.2 1.41-.59l7.78-7.78 2.81-2.81c.8-.78.8-2.07 0-2.86zM5.41 20L4 18.59l7.72-7.72 1.47 1.35L5.41 20z\"/>\n",
              "  </svg>\n",
              "      </button>\n",
              "      \n",
              "  <style>\n",
              "    .colab-df-container {\n",
              "      display:flex;\n",
              "      flex-wrap:wrap;\n",
              "      gap: 12px;\n",
              "    }\n",
              "\n",
              "    .colab-df-convert {\n",
              "      background-color: #E8F0FE;\n",
              "      border: none;\n",
              "      border-radius: 50%;\n",
              "      cursor: pointer;\n",
              "      display: none;\n",
              "      fill: #1967D2;\n",
              "      height: 32px;\n",
              "      padding: 0 0 0 0;\n",
              "      width: 32px;\n",
              "    }\n",
              "\n",
              "    .colab-df-convert:hover {\n",
              "      background-color: #E2EBFA;\n",
              "      box-shadow: 0px 1px 2px rgba(60, 64, 67, 0.3), 0px 1px 3px 1px rgba(60, 64, 67, 0.15);\n",
              "      fill: #174EA6;\n",
              "    }\n",
              "\n",
              "    [theme=dark] .colab-df-convert {\n",
              "      background-color: #3B4455;\n",
              "      fill: #D2E3FC;\n",
              "    }\n",
              "\n",
              "    [theme=dark] .colab-df-convert:hover {\n",
              "      background-color: #434B5C;\n",
              "      box-shadow: 0px 1px 3px 1px rgba(0, 0, 0, 0.15);\n",
              "      filter: drop-shadow(0px 1px 2px rgba(0, 0, 0, 0.3));\n",
              "      fill: #FFFFFF;\n",
              "    }\n",
              "  </style>\n",
              "\n",
              "      <script>\n",
              "        const buttonEl =\n",
              "          document.querySelector('#df-951e2648-098d-4d40-ade3-6d72b49acdbb button.colab-df-convert');\n",
              "        buttonEl.style.display =\n",
              "          google.colab.kernel.accessAllowed ? 'block' : 'none';\n",
              "\n",
              "        async function convertToInteractive(key) {\n",
              "          const element = document.querySelector('#df-951e2648-098d-4d40-ade3-6d72b49acdbb');\n",
              "          const dataTable =\n",
              "            await google.colab.kernel.invokeFunction('convertToInteractive',\n",
              "                                                     [key], {});\n",
              "          if (!dataTable) return;\n",
              "\n",
              "          const docLinkHtml = 'Like what you see? Visit the ' +\n",
              "            '<a target=\"_blank\" href=https://colab.research.google.com/notebooks/data_table.ipynb>data table notebook</a>'\n",
              "            + ' to learn more about interactive tables.';\n",
              "          element.innerHTML = '';\n",
              "          dataTable['output_type'] = 'display_data';\n",
              "          await google.colab.output.renderOutput(dataTable, element);\n",
              "          const docLink = document.createElement('div');\n",
              "          docLink.innerHTML = docLinkHtml;\n",
              "          element.appendChild(docLink);\n",
              "        }\n",
              "      </script>\n",
              "    </div>\n",
              "  </div>\n",
              "  "
            ]
          },
          "metadata": {},
          "execution_count": 35
        }
      ]
    },
    {
      "cell_type": "code",
      "source": [
        "X = clean_df.text # get all the text in x variable\n",
        "y = clean_df.target # get all the sentiments into y variable\n",
        "print(X.shape) #print shape of x\n",
        "print(y.shape) # print shape of y\n",
        "from collections import Counter\n",
        "print(set(y)) # equals to list(set(words))\n",
        "print(Counter(y).values()) #"
      ],
      "metadata": {
        "execution": {
          "iopub.status.busy": "2022-04-23T02:55:18.744339Z",
          "iopub.execute_input": "2022-04-23T02:55:18.744679Z",
          "iopub.status.idle": "2022-04-23T02:55:19.186732Z",
          "shell.execute_reply.started": "2022-04-23T02:55:18.744640Z",
          "shell.execute_reply": "2022-04-23T02:55:19.185771Z"
        },
        "trusted": true,
        "colab": {
          "base_uri": "https://localhost:8080/"
        },
        "id": "dgkEfbFabZeO",
        "outputId": "1ebc0665-8c81-4844-b6f9-f9ac5bd48645"
      },
      "execution_count": 36,
      "outputs": [
        {
          "output_type": "stream",
          "name": "stdout",
          "text": [
            "(1600000,)\n",
            "(1600000,)\n",
            "{0, 4}\n",
            "dict_values([800000, 800000])\n"
          ]
        }
      ]
    },
    {
      "cell_type": "code",
      "source": [
        "X_list = X.tolist()\n",
        "y_list = y.tolist()"
      ],
      "metadata": {
        "execution": {
          "iopub.status.busy": "2022-04-23T02:55:19.188221Z",
          "iopub.execute_input": "2022-04-23T02:55:19.188905Z",
          "iopub.status.idle": "2022-04-23T02:55:19.255290Z",
          "shell.execute_reply.started": "2022-04-23T02:55:19.188860Z",
          "shell.execute_reply": "2022-04-23T02:55:19.254335Z"
        },
        "trusted": true,
        "id": "Iui1ZFcObZeO"
      },
      "execution_count": 37,
      "outputs": []
    },
    {
      "cell_type": "code",
      "source": [
        "def counter_word(text):\n",
        "    count = Counter()\n",
        "    for i in text.values:\n",
        "        for word in i.split():\n",
        "            count[word] += 1\n",
        "    return count"
      ],
      "metadata": {
        "execution": {
          "iopub.status.busy": "2022-04-23T02:55:19.257008Z",
          "iopub.execute_input": "2022-04-23T02:55:19.257308Z",
          "iopub.status.idle": "2022-04-23T02:55:19.264857Z",
          "shell.execute_reply.started": "2022-04-23T02:55:19.257266Z",
          "shell.execute_reply": "2022-04-23T02:55:19.264102Z"
        },
        "trusted": true,
        "id": "e9lFZcR6bZeO"
      },
      "execution_count": 38,
      "outputs": []
    },
    {
      "cell_type": "code",
      "source": [
        "counter = counter_word(X)\n",
        "#Length of unique qord in data set\n",
        "len(counter)"
      ],
      "metadata": {
        "execution": {
          "iopub.status.busy": "2022-04-23T02:55:19.266443Z",
          "iopub.execute_input": "2022-04-23T02:55:19.267049Z",
          "iopub.status.idle": "2022-04-23T02:55:26.025202Z",
          "shell.execute_reply.started": "2022-04-23T02:55:19.267010Z",
          "shell.execute_reply": "2022-04-23T02:55:26.024508Z"
        },
        "trusted": true,
        "colab": {
          "base_uri": "https://localhost:8080/"
        },
        "id": "3ChG5l-tbZeP",
        "outputId": "033f2423-8db5-4bd6-d383-d63df9add96b"
      },
      "execution_count": 39,
      "outputs": [
        {
          "output_type": "execute_result",
          "data": {
            "text/plain": [
              "253041"
            ]
          },
          "metadata": {},
          "execution_count": 39
        }
      ]
    },
    {
      "cell_type": "code",
      "source": [
        "num_words = len(counter)\n",
        "\n",
        "# Max number of words in a sequence\n",
        "max_length = 20"
      ],
      "metadata": {
        "execution": {
          "iopub.status.busy": "2022-04-23T02:55:26.026469Z",
          "iopub.execute_input": "2022-04-23T02:55:26.026708Z",
          "iopub.status.idle": "2022-04-23T02:55:26.029999Z",
          "shell.execute_reply.started": "2022-04-23T02:55:26.026677Z",
          "shell.execute_reply": "2022-04-23T02:55:26.029294Z"
        },
        "trusted": true,
        "id": "OEeFsXIDbZeP"
      },
      "execution_count": 40,
      "outputs": []
    },
    {
      "cell_type": "code",
      "source": [
        "#Train test split\n",
        "from sklearn.model_selection  import train_test_split #from sklearn.cross_validation import train_test_split to split the data into training and tesing set\n",
        "X_train, X_test, y_train, y_test = train_test_split(X, y, test_size = 0.20, random_state= 1) # split the data into traing and testing set where ratio is 80:20"
      ],
      "metadata": {
        "execution": {
          "iopub.status.busy": "2022-04-23T02:55:26.031485Z",
          "iopub.execute_input": "2022-04-23T02:55:26.032040Z",
          "iopub.status.idle": "2022-04-23T02:55:26.461435Z",
          "shell.execute_reply.started": "2022-04-23T02:55:26.032000Z",
          "shell.execute_reply": "2022-04-23T02:55:26.460676Z"
        },
        "trusted": true,
        "id": "6tJJQrBXbZeP"
      },
      "execution_count": 41,
      "outputs": []
    },
    {
      "cell_type": "code",
      "source": [
        "y_train = [x if x==0 else 1 for x in y_train.tolist()]\n",
        "y_test = [x if x==0 else 1 for x in y_test.tolist()]\n",
        "X_train = X_train.tolist()\n",
        "X_test = X_test.tolist()"
      ],
      "metadata": {
        "execution": {
          "iopub.status.busy": "2022-04-23T02:55:26.462836Z",
          "iopub.execute_input": "2022-04-23T02:55:26.463108Z",
          "iopub.status.idle": "2022-04-23T02:55:26.765658Z",
          "shell.execute_reply.started": "2022-04-23T02:55:26.463071Z",
          "shell.execute_reply": "2022-04-23T02:55:26.764855Z"
        },
        "trusted": true,
        "id": "H-Cavf7IbZeQ"
      },
      "execution_count": 42,
      "outputs": []
    },
    {
      "cell_type": "code",
      "source": [
        "from keras.preprocessing.text import Tokenizer\n",
        "\n",
        "tokenizer = Tokenizer(num_words=num_words)\n",
        "tokenizer.fit_on_texts(X_train)"
      ],
      "metadata": {
        "execution": {
          "iopub.status.busy": "2022-04-23T02:55:26.767002Z",
          "iopub.execute_input": "2022-04-23T02:55:26.767253Z",
          "iopub.status.idle": "2022-04-23T02:55:48.761899Z",
          "shell.execute_reply.started": "2022-04-23T02:55:26.767219Z",
          "shell.execute_reply": "2022-04-23T02:55:48.761167Z"
        },
        "trusted": true,
        "id": "BtNbzuUkbZeQ"
      },
      "execution_count": 43,
      "outputs": []
    },
    {
      "cell_type": "code",
      "source": [
        "word_index = tokenizer.word_index"
      ],
      "metadata": {
        "execution": {
          "iopub.status.busy": "2022-04-23T02:55:48.763196Z",
          "iopub.execute_input": "2022-04-23T02:55:48.763462Z",
          "iopub.status.idle": "2022-04-23T02:55:48.769443Z",
          "shell.execute_reply.started": "2022-04-23T02:55:48.763417Z",
          "shell.execute_reply": "2022-04-23T02:55:48.768776Z"
        },
        "trusted": true,
        "id": "aC8NKmG_bZeQ"
      },
      "execution_count": 44,
      "outputs": []
    },
    {
      "cell_type": "code",
      "source": [
        "X_train = tokenizer.texts_to_sequences(X_train)"
      ],
      "metadata": {
        "execution": {
          "iopub.status.busy": "2022-04-23T02:55:48.770540Z",
          "iopub.execute_input": "2022-04-23T02:55:48.771223Z",
          "iopub.status.idle": "2022-04-23T02:56:08.522705Z",
          "shell.execute_reply.started": "2022-04-23T02:55:48.771179Z",
          "shell.execute_reply": "2022-04-23T02:56:08.521984Z"
        },
        "trusted": true,
        "id": "llK9ofdXbZeQ"
      },
      "execution_count": 45,
      "outputs": []
    },
    {
      "cell_type": "code",
      "source": [
        "X_train[0]"
      ],
      "metadata": {
        "execution": {
          "iopub.status.busy": "2022-04-23T02:56:08.524209Z",
          "iopub.execute_input": "2022-04-23T02:56:08.524469Z",
          "iopub.status.idle": "2022-04-23T02:56:08.529844Z",
          "shell.execute_reply.started": "2022-04-23T02:56:08.524434Z",
          "shell.execute_reply": "2022-04-23T02:56:08.529105Z"
        },
        "trusted": true,
        "colab": {
          "base_uri": "https://localhost:8080/"
        },
        "id": "XYfGnLODbZeR",
        "outputId": "0ad9297e-c6df-4c10-e074-f9c8a50c914f"
      },
      "execution_count": 46,
      "outputs": [
        {
          "output_type": "execute_result",
          "data": {
            "text/plain": [
              "[6435, 19, 7, 147, 34, 1034, 5057, 9, 672]"
            ]
          },
          "metadata": {},
          "execution_count": 46
        }
      ]
    },
    {
      "cell_type": "code",
      "source": [
        "from keras.preprocessing.sequence import pad_sequences\n",
        "\n",
        "X_train = pad_sequences(\n",
        "    X_train, maxlen=max_length, padding=\"post\", truncating=\"post\"\n",
        ")"
      ],
      "metadata": {
        "execution": {
          "iopub.status.busy": "2022-04-23T02:56:08.531234Z",
          "iopub.execute_input": "2022-04-23T02:56:08.531729Z",
          "iopub.status.idle": "2022-04-23T02:56:14.869235Z",
          "shell.execute_reply.started": "2022-04-23T02:56:08.531692Z",
          "shell.execute_reply": "2022-04-23T02:56:14.868358Z"
        },
        "trusted": true,
        "id": "90yAoZmSbZeR"
      },
      "execution_count": 47,
      "outputs": []
    },
    {
      "cell_type": "code",
      "source": [
        "X_train[0]"
      ],
      "metadata": {
        "execution": {
          "iopub.status.busy": "2022-04-23T02:56:14.870667Z",
          "iopub.execute_input": "2022-04-23T02:56:14.870925Z",
          "iopub.status.idle": "2022-04-23T02:56:14.876507Z",
          "shell.execute_reply.started": "2022-04-23T02:56:14.870889Z",
          "shell.execute_reply": "2022-04-23T02:56:14.875761Z"
        },
        "trusted": true,
        "colab": {
          "base_uri": "https://localhost:8080/"
        },
        "id": "q5amJ1mBbZeR",
        "outputId": "f3eceea3-1ac0-4405-e36e-f90064f05b71"
      },
      "execution_count": 48,
      "outputs": [
        {
          "output_type": "execute_result",
          "data": {
            "text/plain": [
              "array([6435,   19,    7,  147,   34, 1034, 5057,    9,  672,    0,    0,\n",
              "          0,    0,    0,    0,    0,    0,    0,    0,    0], dtype=int32)"
            ]
          },
          "metadata": {},
          "execution_count": 48
        }
      ]
    },
    {
      "cell_type": "code",
      "source": [
        "X_test = tokenizer.texts_to_sequences(X_test)\n",
        "X_test = pad_sequences(\n",
        "    X_test, maxlen=max_length, padding=\"post\", truncating=\"post\"\n",
        ")"
      ],
      "metadata": {
        "execution": {
          "iopub.status.busy": "2022-04-23T02:56:14.878086Z",
          "iopub.execute_input": "2022-04-23T02:56:14.878736Z",
          "iopub.status.idle": "2022-04-23T02:56:20.946825Z",
          "shell.execute_reply.started": "2022-04-23T02:56:14.878694Z",
          "shell.execute_reply": "2022-04-23T02:56:20.946086Z"
        },
        "trusted": true,
        "id": "ToNi_B4kbZeR"
      },
      "execution_count": 49,
      "outputs": []
    },
    {
      "cell_type": "code",
      "source": [
        "import numpy as np\n",
        "X_train = np.asarray(X_train)\n",
        "X_test = np.asarray(X_test)"
      ],
      "metadata": {
        "execution": {
          "iopub.status.busy": "2022-04-23T02:56:20.948138Z",
          "iopub.execute_input": "2022-04-23T02:56:20.948381Z",
          "iopub.status.idle": "2022-04-23T02:56:20.952360Z",
          "shell.execute_reply.started": "2022-04-23T02:56:20.948349Z",
          "shell.execute_reply": "2022-04-23T02:56:20.951645Z"
        },
        "trusted": true,
        "id": "ytVqD0iRbZeS"
      },
      "execution_count": 50,
      "outputs": []
    },
    {
      "cell_type": "code",
      "source": [
        "print(\"Shape of train {}\".format(X_train.shape))\n",
        "print(\"Shape of test {}\".format(X_test.shape))"
      ],
      "metadata": {
        "execution": {
          "iopub.status.busy": "2022-04-23T02:56:20.953679Z",
          "iopub.execute_input": "2022-04-23T02:56:20.954128Z",
          "iopub.status.idle": "2022-04-23T02:56:20.967663Z",
          "shell.execute_reply.started": "2022-04-23T02:56:20.954092Z",
          "shell.execute_reply": "2022-04-23T02:56:20.966805Z"
        },
        "trusted": true,
        "colab": {
          "base_uri": "https://localhost:8080/"
        },
        "id": "73qup7vkbZeS",
        "outputId": "5f9a1809-ad89-48af-adad-8d2c3f8b478c"
      },
      "execution_count": 51,
      "outputs": [
        {
          "output_type": "stream",
          "name": "stdout",
          "text": [
            "Shape of train (1280000, 20)\n",
            "Shape of test (320000, 20)\n"
          ]
        }
      ]
    },
    {
      "cell_type": "code",
      "source": [
        "y_train = np.asarray(y_train)\n",
        "y_test = np.asarray(y_test)"
      ],
      "metadata": {
        "execution": {
          "iopub.status.busy": "2022-04-23T02:56:20.969263Z",
          "iopub.execute_input": "2022-04-23T02:56:20.969563Z",
          "iopub.status.idle": "2022-04-23T02:56:21.160896Z",
          "shell.execute_reply.started": "2022-04-23T02:56:20.969526Z",
          "shell.execute_reply": "2022-04-23T02:56:21.159942Z"
        },
        "trusted": true,
        "id": "DQS4-q6qbZeS"
      },
      "execution_count": 52,
      "outputs": []
    },
    {
      "cell_type": "markdown",
      "source": [
        "# BiLSTM Model"
      ],
      "metadata": {
        "id": "sJ-dqwTbbZeT"
      }
    },
    {
      "cell_type": "code",
      "source": [
        "#Import libraries \n",
        "from tensorflow.keras.layers import Embedding\n",
        "from tensorflow.keras.preprocessing.sequence import pad_sequences\n",
        "from tensorflow.keras.models import Sequential\n",
        "from tensorflow.keras.preprocessing.text import one_hot\n",
        "from tensorflow.keras.layers import LSTM\n",
        "from tensorflow.keras.layers import Dense\n",
        "from tensorflow.keras.layers import Bidirectional\n",
        "from tensorflow.keras.layers import Dropout\n",
        "from tensorflow.keras.callbacks import EarlyStopping"
      ],
      "metadata": {
        "execution": {
          "iopub.status.busy": "2022-04-23T02:56:21.165404Z",
          "iopub.execute_input": "2022-04-23T02:56:21.165660Z",
          "iopub.status.idle": "2022-04-23T02:56:21.171332Z",
          "shell.execute_reply.started": "2022-04-23T02:56:21.165630Z",
          "shell.execute_reply": "2022-04-23T02:56:21.170511Z"
        },
        "trusted": true,
        "id": "lCPbBwmobZeT"
      },
      "execution_count": 53,
      "outputs": []
    },
    {
      "cell_type": "code",
      "source": [
        "#Create Model\n",
        "model = Sequential()\n",
        "model.add(Embedding(num_words, 32, input_length=max_length))\n",
        "model.add(Bidirectional(LSTM(100)))\n",
        "model.add(Dense(1,activation='sigmoid'))\n",
        "model.compile(loss='binary_crossentropy',optimizer='adam',metrics=['accuracy'])"
      ],
      "metadata": {
        "execution": {
          "iopub.status.busy": "2022-04-23T02:56:21.172861Z",
          "iopub.execute_input": "2022-04-23T02:56:21.173145Z",
          "iopub.status.idle": "2022-04-23T02:56:21.615803Z",
          "shell.execute_reply.started": "2022-04-23T02:56:21.173110Z",
          "shell.execute_reply": "2022-04-23T02:56:21.615103Z"
        },
        "trusted": true,
        "id": "GRo1-n0mbZeT"
      },
      "execution_count": 81,
      "outputs": []
    },
    {
      "cell_type": "code",
      "source": [
        "model.summary()"
      ],
      "metadata": {
        "execution": {
          "iopub.status.busy": "2022-04-23T02:56:21.617122Z",
          "iopub.execute_input": "2022-04-23T02:56:21.617364Z",
          "iopub.status.idle": "2022-04-23T02:56:21.625133Z",
          "shell.execute_reply.started": "2022-04-23T02:56:21.617331Z",
          "shell.execute_reply": "2022-04-23T02:56:21.624386Z"
        },
        "trusted": true,
        "colab": {
          "base_uri": "https://localhost:8080/"
        },
        "id": "qRVPHSDObZeU",
        "outputId": "b290063e-b7d2-4444-d5b1-17f7edd575c2"
      },
      "execution_count": 82,
      "outputs": [
        {
          "output_type": "stream",
          "name": "stdout",
          "text": [
            "Model: \"sequential_4\"\n",
            "_________________________________________________________________\n",
            " Layer (type)                Output Shape              Param #   \n",
            "=================================================================\n",
            " embedding_3 (Embedding)     (None, 20, 32)            8097312   \n",
            "                                                                 \n",
            " bidirectional_3 (Bidirectio  (None, 200)              106400    \n",
            " nal)                                                            \n",
            "                                                                 \n",
            " dense_3 (Dense)             (None, 1)                 201       \n",
            "                                                                 \n",
            "=================================================================\n",
            "Total params: 8,203,913\n",
            "Trainable params: 8,203,913\n",
            "Non-trainable params: 0\n",
            "_________________________________________________________________\n"
          ]
        }
      ]
    },
    {
      "cell_type": "code",
      "source": [
        "model.fit(X_train,y_train,validation_data=(X_test,y_test),epochs=5,batch_size=128)"
      ],
      "metadata": {
        "execution": {
          "iopub.status.busy": "2022-04-23T03:04:53.033524Z",
          "iopub.execute_input": "2022-04-23T03:04:53.033808Z",
          "iopub.status.idle": "2022-04-23T03:12:16.202832Z",
          "shell.execute_reply.started": "2022-04-23T03:04:53.033778Z",
          "shell.execute_reply": "2022-04-23T03:12:16.202007Z"
        },
        "trusted": true,
        "colab": {
          "base_uri": "https://localhost:8080/"
        },
        "id": "GqnStOe4bZeU",
        "outputId": "a4796df2-f893-49c8-d7bc-fcdc9387bdd3"
      },
      "execution_count": 83,
      "outputs": [
        {
          "output_type": "stream",
          "name": "stdout",
          "text": [
            "Epoch 1/5\n",
            "10000/10000 [==============================] - 122s 12ms/step - loss: 0.4261 - accuracy: 0.8022 - val_loss: 0.4046 - val_accuracy: 0.8157\n",
            "Epoch 2/5\n",
            "10000/10000 [==============================] - 118s 12ms/step - loss: 0.3723 - accuracy: 0.8327 - val_loss: 0.4005 - val_accuracy: 0.8188\n",
            "Epoch 3/5\n",
            "10000/10000 [==============================] - 117s 12ms/step - loss: 0.3382 - accuracy: 0.8508 - val_loss: 0.4034 - val_accuracy: 0.8191\n",
            "Epoch 4/5\n",
            "10000/10000 [==============================] - 115s 12ms/step - loss: 0.3046 - accuracy: 0.8682 - val_loss: 0.4202 - val_accuracy: 0.8164\n",
            "Epoch 5/5\n",
            "10000/10000 [==============================] - 115s 12ms/step - loss: 0.2712 - accuracy: 0.8840 - val_loss: 0.4577 - val_accuracy: 0.8104\n"
          ]
        },
        {
          "output_type": "execute_result",
          "data": {
            "text/plain": [
              "<keras.callbacks.History at 0x7fb192f13710>"
            ]
          },
          "metadata": {},
          "execution_count": 83
        }
      ]
    },
    {
      "cell_type": "code",
      "source": [
        "model_loss = pd.DataFrame(model.history.history)\n",
        "model_loss.plot()"
      ],
      "metadata": {
        "execution": {
          "iopub.status.busy": "2022-04-23T03:14:31.577364Z",
          "iopub.execute_input": "2022-04-23T03:14:31.577922Z",
          "iopub.status.idle": "2022-04-23T03:14:31.842820Z",
          "shell.execute_reply.started": "2022-04-23T03:14:31.577883Z",
          "shell.execute_reply": "2022-04-23T03:14:31.842167Z"
        },
        "trusted": true,
        "colab": {
          "base_uri": "https://localhost:8080/",
          "height": 283
        },
        "id": "UgXx11aIbZeU",
        "outputId": "3a01dac2-fffa-4697-c34c-0d179267670c"
      },
      "execution_count": 84,
      "outputs": [
        {
          "output_type": "execute_result",
          "data": {
            "text/plain": [
              "<matplotlib.axes._subplots.AxesSubplot at 0x7fb0bd7692d0>"
            ]
          },
          "metadata": {},
          "execution_count": 84
        },
        {
          "output_type": "display_data",
          "data": {
            "text/plain": [
              "<Figure size 432x288 with 1 Axes>"
            ],
            "image/png": "[encoded data removed]"
          },
          "metadata": {
            "needs_background": "light"
          }
        }
      ]
    },
    {
      "cell_type": "code",
      "source": [
        "#predictions = model.predict(X_test)\n",
        "\n",
        "#predictions1 = model.predict_classes(X_test)\n",
        "#predictions2 = model.predict_proba(predictions)"
      ],
      "metadata": {
        "execution": {
          "iopub.status.busy": "2022-04-23T03:14:36.757576Z",
          "iopub.execute_input": "2022-04-23T03:14:36.757852Z",
          "iopub.status.idle": "2022-04-23T03:14:36.762754Z",
          "shell.execute_reply.started": "2022-04-23T03:14:36.757818Z",
          "shell.execute_reply": "2022-04-23T03:14:36.761881Z"
        },
        "trusted": true,
        "id": "SUjDPjzzbZeV"
      },
      "execution_count": 85,
      "outputs": []
    },
    {
      "cell_type": "code",
      "source": [
        "y_pred = model.predict(X_test)\n",
        "demo = np.round(y_pred).astype(int).reshape(-1)\n",
        "demo"
      ],
      "metadata": {
        "execution": {
          "iopub.status.busy": "2022-04-23T03:14:37.892016Z",
          "iopub.execute_input": "2022-04-23T03:14:37.892548Z",
          "iopub.status.idle": "2022-04-23T03:14:59.282882Z",
          "shell.execute_reply.started": "2022-04-23T03:14:37.892509Z",
          "shell.execute_reply": "2022-04-23T03:14:59.282220Z"
        },
        "trusted": true,
        "colab": {
          "base_uri": "https://localhost:8080/"
        },
        "id": "_T7Rq_v_bZeV",
        "outputId": "2703bf67-b40d-4685-c843-3680e2444095"
      },
      "execution_count": 86,
      "outputs": [
        {
          "output_type": "execute_result",
          "data": {
            "text/plain": [
              "array([0, 0, 1, ..., 1, 1, 1])"
            ]
          },
          "metadata": {},
          "execution_count": 86
        }
      ]
    },
    {
      "cell_type": "code",
      "source": [
        "demo"
      ],
      "metadata": {
        "execution": {
          "iopub.status.busy": "2022-04-23T03:15:01.337245Z",
          "iopub.execute_input": "2022-04-23T03:15:01.338041Z",
          "iopub.status.idle": "2022-04-23T03:15:01.344162Z",
          "shell.execute_reply.started": "2022-04-23T03:15:01.337995Z",
          "shell.execute_reply": "2022-04-23T03:15:01.343336Z"
        },
        "trusted": true,
        "colab": {
          "base_uri": "https://localhost:8080/"
        },
        "id": "hv95p7mmbZeV",
        "outputId": "20bad57c-4cf3-4828-cbb2-80c58715e022"
      },
      "execution_count": 87,
      "outputs": [
        {
          "output_type": "execute_result",
          "data": {
            "text/plain": [
              "array([0, 0, 1, ..., 1, 1, 1])"
            ]
          },
          "metadata": {},
          "execution_count": 87
        }
      ]
    },
    {
      "cell_type": "code",
      "source": [
        "#Model Evaluation\n",
        "from sklearn.metrics import classification_report,confusion_matrix\n",
        "print(classification_report(y_test,demo))"
      ],
      "metadata": {
        "execution": {
          "iopub.status.busy": "2022-04-23T03:15:02.837363Z",
          "iopub.execute_input": "2022-04-23T03:15:02.837749Z",
          "iopub.status.idle": "2022-04-23T03:15:03.323352Z",
          "shell.execute_reply.started": "2022-04-23T03:15:02.837711Z",
          "shell.execute_reply": "2022-04-23T03:15:03.322165Z"
        },
        "trusted": true,
        "colab": {
          "base_uri": "https://localhost:8080/"
        },
        "id": "Z1O9sy7ybZeW",
        "outputId": "4240d3d7-e858-4c4c-9c3d-2eb116b0e2a8"
      },
      "execution_count": 88,
      "outputs": [
        {
          "output_type": "stream",
          "name": "stdout",
          "text": [
            "              precision    recall  f1-score   support\n",
            "\n",
            "           0       0.80      0.82      0.81    160142\n",
            "           1       0.82      0.80      0.81    159858\n",
            "\n",
            "    accuracy                           0.81    320000\n",
            "   macro avg       0.81      0.81      0.81    320000\n",
            "weighted avg       0.81      0.81      0.81    320000\n",
            "\n"
          ]
        }
      ]
    },
    {
      "cell_type": "code",
      "source": [
        "#Confucion matrix\n",
        "from sklearn.metrics import classification_report,confusion_matrix # import confusion matrix from the sklearn.metrics\n",
        "confusion_matrix(y_test, demo)"
      ],
      "metadata": {
        "execution": {
          "iopub.status.busy": "2022-04-23T03:15:06.257555Z",
          "iopub.execute_input": "2022-04-23T03:15:06.258168Z",
          "iopub.status.idle": "2022-04-23T03:15:06.314503Z",
          "shell.execute_reply.started": "2022-04-23T03:15:06.258125Z",
          "shell.execute_reply": "2022-04-23T03:15:06.313631Z"
        },
        "trusted": true,
        "colab": {
          "base_uri": "https://localhost:8080/"
        },
        "id": "yCId-PZsbZeW",
        "outputId": "2954245f-aea1-4bab-f80c-0642dcf65e04"
      },
      "execution_count": 89,
      "outputs": [
        {
          "output_type": "execute_result",
          "data": {
            "text/plain": [
              "array([[131694,  28448],\n",
              "       [ 32209, 127649]])"
            ]
          },
          "metadata": {},
          "execution_count": 89
        }
      ]
    },
    {
      "cell_type": "code",
      "source": [
        ""
      ],
      "metadata": {
        "id": "sXWN6R53cLNx"
      },
      "execution_count": 89,
      "outputs": []
    }
  ]
}