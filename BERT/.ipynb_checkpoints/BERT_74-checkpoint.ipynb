{
 "cells": [
  {
   "cell_type": "markdown",
   "metadata": {
    "id": "BtwOskJTbZds"
   },
   "source": [
    "# Importing Libraries"
   ]
  },
  {
   "cell_type": "code",
   "execution_count": 43,
   "metadata": {
    "colab": {
     "base_uri": "https://localhost:8080/"
    },
    "id": "0w89xVylw9xt",
    "outputId": "167a988f-67f9-428a-9543-3593367fac6d"
   },
   "outputs": [
    {
     "name": "stdout",
     "output_type": "stream",
     "text": [
      "\u001b[K     |████████████████████████████████| 4.9 MB 33.5 MB/s \n",
      "\u001b[K     - 668.6 MB 333 kB/s\n",
      "\u001b[K     |████████████████████████████████| 5.8 MB 54.4 MB/s \n",
      "\u001b[K     |████████████████████████████████| 462 kB 49.0 MB/s \n",
      "\u001b[K     |████████████████████████████████| 1.4 MB 61.6 MB/s \n",
      "\u001b[K     |████████████████████████████████| 1.8 MB 32.2 MB/s \n",
      "\u001b[K     |████████████████████████████████| 596 kB 55.4 MB/s \n",
      "\u001b[K     |████████████████████████████████| 43 kB 2.1 MB/s \n",
      "\u001b[K     |████████████████████████████████| 99 kB 10.7 MB/s \n",
      "\u001b[K     |████████████████████████████████| 47.8 MB 87.0 MB/s \n",
      "\u001b[K     |████████████████████████████████| 1.2 MB 44.9 MB/s \n",
      "\u001b[K     |████████████████████████████████| 92 kB 12.0 MB/s \n",
      "\u001b[K     |████████████████████████████████| 1.1 MB 72.2 MB/s \n",
      "\u001b[K     |████████████████████████████████| 352 kB 63.5 MB/s \n",
      "\u001b[K     |████████████████████████████████| 237 kB 35.6 MB/s \n",
      "\u001b[?25h  Building wheel for py-cpuinfo (setup.py) ... \u001b[?25l\u001b[?25hdone\n",
      "  Building wheel for seqeval (setup.py) ... \u001b[?25l\u001b[?25hdone\n"
     ]
    }
   ],
   "source": [
    "!pip install -q -U \"tensorflow-text==2.8.*\"\n",
    "!pip install -q tf-models-official==2.7.0"
   ]
  },
  {
   "cell_type": "code",
   "execution_count": 52,
   "metadata": {
    "execution": {
     "iopub.execute_input": "2022-04-23T01:44:01.483675Z",
     "iopub.status.busy": "2022-04-23T01:44:01.483210Z",
     "iopub.status.idle": "2022-04-23T01:44:01.510787Z",
     "shell.execute_reply": "2022-04-23T01:44:01.510067Z",
     "shell.execute_reply.started": "2022-04-23T01:44:01.483582Z"
    },
    "id": "ydL81WmubZdz"
   },
   "outputs": [],
   "source": [
    "import numpy as numpy\n",
    "import pandas as pd\n",
    "import tensorflow_hub as hub\n",
    "import tensorflow_text as text\n",
    "import tensorflow as tf"
   ]
  },
  {
   "cell_type": "code",
   "execution_count": 3,
   "metadata": {
    "colab": {
     "base_uri": "https://localhost:8080/"
    },
    "id": "GVhrsZs6bkxM",
    "outputId": "39261282-d24d-40c4-95d3-16d2058cee27"
   },
   "outputs": [
    {
     "name": "stdout",
     "output_type": "stream",
     "text": [
      "Mounted at /content/gdrive\n"
     ]
    }
   ],
   "source": [
    "#Access Google drive for dataset\n",
    "from google.colab import drive\n",
    "drive.mount('/content/gdrive')"
   ]
  },
  {
   "cell_type": "code",
   "execution_count": 4,
   "metadata": {
    "execution": {
     "iopub.execute_input": "2022-04-23T01:44:01.512957Z",
     "iopub.status.busy": "2022-04-23T01:44:01.512580Z",
     "iopub.status.idle": "2022-04-23T01:44:02.431652Z",
     "shell.execute_reply": "2022-04-23T01:44:02.430914Z",
     "shell.execute_reply.started": "2022-04-23T01:44:01.512901Z"
    },
    "id": "8y1-a6J5bZd1"
   },
   "outputs": [],
   "source": [
    "import matplotlib\n",
    "import matplotlib.pyplot as plt\n",
    "%matplotlib inline\n",
    "import seaborn as sns"
   ]
  },
  {
   "cell_type": "code",
   "execution_count": 5,
   "metadata": {
    "execution": {
     "iopub.execute_input": "2022-04-23T01:44:02.433142Z",
     "iopub.status.busy": "2022-04-23T01:44:02.432836Z",
     "iopub.status.idle": "2022-04-23T01:44:02.563380Z",
     "shell.execute_reply": "2022-04-23T01:44:02.562653Z",
     "shell.execute_reply.started": "2022-04-23T01:44:02.433106Z"
    },
    "id": "a1mLYb-bbZd2"
   },
   "outputs": [],
   "source": [
    "import sklearn\n",
    "from sklearn.utils import shuffle \n",
    "from sklearn.feature_extraction.text import TfidfVectorizer"
   ]
  },
  {
   "cell_type": "code",
   "execution_count": 6,
   "metadata": {
    "execution": {
     "iopub.execute_input": "2022-04-23T01:44:02.565349Z",
     "iopub.status.busy": "2022-04-23T01:44:02.564922Z",
     "iopub.status.idle": "2022-04-23T01:44:03.068286Z",
     "shell.execute_reply": "2022-04-23T01:44:03.067445Z",
     "shell.execute_reply.started": "2022-04-23T01:44:02.565309Z"
    },
    "id": "BZgdfEJYbZd3"
   },
   "outputs": [],
   "source": [
    "import nltk\n",
    "from nltk.corpus import stopwords\n",
    "from nltk.tokenize import word_tokenize"
   ]
  },
  {
   "cell_type": "code",
   "execution_count": 7,
   "metadata": {
    "execution": {
     "iopub.execute_input": "2022-04-23T01:44:03.071662Z",
     "iopub.status.busy": "2022-04-23T01:44:03.071352Z",
     "iopub.status.idle": "2022-04-23T01:44:03.324996Z",
     "shell.execute_reply": "2022-04-23T01:44:03.324252Z",
     "shell.execute_reply.started": "2022-04-23T01:44:03.071623Z"
    },
    "id": "Kyk-GMnWbZd4"
   },
   "outputs": [],
   "source": [
    "import re\n",
    "import random\n",
    "import gensim"
   ]
  },
  {
   "cell_type": "code",
   "execution_count": 8,
   "metadata": {
    "execution": {
     "iopub.execute_input": "2022-04-23T01:44:03.326772Z",
     "iopub.status.busy": "2022-04-23T01:44:03.326471Z",
     "iopub.status.idle": "2022-04-23T01:44:03.333727Z",
     "shell.execute_reply": "2022-04-23T01:44:03.332985Z",
     "shell.execute_reply.started": "2022-04-23T01:44:03.326733Z"
    },
    "id": "eDyVrQBHbZd5"
   },
   "outputs": [],
   "source": [
    "from collections import Counter\n",
    "import unicodedata as udata\n",
    "import string"
   ]
  },
  {
   "cell_type": "code",
   "execution_count": 9,
   "metadata": {
    "colab": {
     "base_uri": "https://localhost:8080/"
    },
    "execution": {
     "iopub.execute_input": "2022-04-23T01:44:03.335889Z",
     "iopub.status.busy": "2022-04-23T01:44:03.335370Z",
     "iopub.status.idle": "2022-04-23T01:44:03.345030Z",
     "shell.execute_reply": "2022-04-23T01:44:03.343917Z",
     "shell.execute_reply.started": "2022-04-23T01:44:03.335765Z"
    },
    "id": "M4A2jt8LbZd7",
    "outputId": "1a40569c-d40d-4799-9064-ade936544e6f"
   },
   "outputs": [
    {
     "name": "stdout",
     "output_type": "stream",
     "text": [
      "1.0.2\n",
      "3.2.2\n",
      "1.21.6\n",
      "1.3.5\n",
      "3.2.5\n"
     ]
    }
   ],
   "source": [
    "print(sklearn.__version__)\n",
    "print(matplotlib.__version__)\n",
    "print(numpy.__version__)\n",
    "print(pd.__version__)\n",
    "print(nltk.__version__)"
   ]
  },
  {
   "cell_type": "markdown",
   "metadata": {
    "id": "Ncp6XsHYbZd9"
   },
   "source": [
    "# Reading csv file"
   ]
  },
  {
   "cell_type": "code",
   "execution_count": 11,
   "metadata": {
    "execution": {
     "iopub.execute_input": "2022-04-23T01:44:03.347740Z",
     "iopub.status.busy": "2022-04-23T01:44:03.347083Z",
     "iopub.status.idle": "2022-04-23T01:44:10.472300Z",
     "shell.execute_reply": "2022-04-23T01:44:10.471488Z",
     "shell.execute_reply.started": "2022-04-23T01:44:03.347697Z"
    },
    "id": "fAOtuK_XbZd-"
   },
   "outputs": [],
   "source": [
    "df = pd.read_csv(\"/content/gdrive/MyDrive/Project/TwitterSentimentAnalysis.csv\", encoding='latin-1', header=None)"
   ]
  },
  {
   "cell_type": "code",
   "execution_count": 12,
   "metadata": {
    "execution": {
     "iopub.execute_input": "2022-04-23T01:44:10.473717Z",
     "iopub.status.busy": "2022-04-23T01:44:10.473453Z",
     "iopub.status.idle": "2022-04-23T01:44:12.147493Z",
     "shell.execute_reply": "2022-04-23T01:44:12.146699Z",
     "shell.execute_reply.started": "2022-04-23T01:44:10.473682Z"
    },
    "id": "-jzwxdwqbZd_"
   },
   "outputs": [],
   "source": [
    "df = df.sample(frac=1).reset_index(drop=True)"
   ]
  },
  {
   "cell_type": "markdown",
   "metadata": {
    "id": "gqkgT4bEbZeA"
   },
   "source": [
    "# Give column names"
   ]
  },
  {
   "cell_type": "code",
   "execution_count": 13,
   "metadata": {
    "execution": {
     "iopub.execute_input": "2022-04-23T01:44:12.151325Z",
     "iopub.status.busy": "2022-04-23T01:44:12.150691Z",
     "iopub.status.idle": "2022-04-23T01:44:12.156743Z",
     "shell.execute_reply": "2022-04-23T01:44:12.155985Z",
     "shell.execute_reply.started": "2022-04-23T01:44:12.151279Z"
    },
    "id": "NSexXZ9ibZeB"
   },
   "outputs": [],
   "source": [
    "df.columns = [\"sentiment\", \"id\", \"date\", \"query\", \"user\", \"text\"] "
   ]
  },
  {
   "cell_type": "code",
   "execution_count": 14,
   "metadata": {
    "colab": {
     "base_uri": "https://localhost:8080/"
    },
    "execution": {
     "iopub.execute_input": "2022-04-23T01:44:12.159595Z",
     "iopub.status.busy": "2022-04-23T01:44:12.159116Z",
     "iopub.status.idle": "2022-04-23T01:44:13.179488Z",
     "shell.execute_reply": "2022-04-23T01:44:13.178635Z",
     "shell.execute_reply.started": "2022-04-23T01:44:12.159550Z"
    },
    "id": "26KG31N4bZeB",
    "outputId": "3caa4415-48f7-45bb-e596-90ad912ce997"
   },
   "outputs": [
    {
     "data": {
      "text/plain": [
       "sentiment    0\n",
       "id           0\n",
       "date         0\n",
       "query        0\n",
       "user         0\n",
       "text         0\n",
       "dtype: int64"
      ]
     },
     "execution_count": 14,
     "metadata": {},
     "output_type": "execute_result"
    }
   ],
   "source": [
    "df.isnull().sum()"
   ]
  },
  {
   "cell_type": "code",
   "execution_count": 15,
   "metadata": {
    "colab": {
     "base_uri": "https://localhost:8080/"
    },
    "execution": {
     "iopub.execute_input": "2022-04-23T01:44:13.181213Z",
     "iopub.status.busy": "2022-04-23T01:44:13.180860Z",
     "iopub.status.idle": "2022-04-23T01:44:16.506662Z",
     "shell.execute_reply": "2022-04-23T01:44:16.505981Z",
     "shell.execute_reply.started": "2022-04-23T01:44:13.181173Z"
    },
    "id": "1lKpw7QLbZeC",
    "outputId": "a67ae18d-eb28-4df4-cb60-cb9e6abe72b6"
   },
   "outputs": [
    {
     "data": {
      "text/plain": [
       "0"
      ]
     },
     "execution_count": 15,
     "metadata": {},
     "output_type": "execute_result"
    }
   ],
   "source": [
    "df.duplicated().sum()"
   ]
  },
  {
   "cell_type": "code",
   "execution_count": 16,
   "metadata": {
    "colab": {
     "base_uri": "https://localhost:8080/",
     "height": 206
    },
    "execution": {
     "iopub.execute_input": "2022-04-23T01:44:16.509102Z",
     "iopub.status.busy": "2022-04-23T01:44:16.507765Z",
     "iopub.status.idle": "2022-04-23T01:44:16.524704Z",
     "shell.execute_reply": "2022-04-23T01:44:16.523870Z",
     "shell.execute_reply.started": "2022-04-23T01:44:16.509060Z"
    },
    "id": "urzz1a7wbZeC",
    "outputId": "4dd17815-96cb-4f29-f3c5-d187613cf11d"
   },
   "outputs": [
    {
     "data": {
      "text/html": [
       "\n",
       "  <div id=\"df-c61c382c-53da-460d-8fad-a4b62b338da5\">\n",
       "    <div class=\"colab-df-container\">\n",
       "      <div>\n",
       "<style scoped>\n",
       "    .dataframe tbody tr th:only-of-type {\n",
       "        vertical-align: middle;\n",
       "    }\n",
       "\n",
       "    .dataframe tbody tr th {\n",
       "        vertical-align: top;\n",
       "    }\n",
       "\n",
       "    .dataframe thead th {\n",
       "        text-align: right;\n",
       "    }\n",
       "</style>\n",
       "<table border=\"1\" class=\"dataframe\">\n",
       "  <thead>\n",
       "    <tr style=\"text-align: right;\">\n",
       "      <th></th>\n",
       "      <th>sentiment</th>\n",
       "      <th>id</th>\n",
       "      <th>date</th>\n",
       "      <th>query</th>\n",
       "      <th>user</th>\n",
       "      <th>text</th>\n",
       "    </tr>\n",
       "  </thead>\n",
       "  <tbody>\n",
       "    <tr>\n",
       "      <th>0</th>\n",
       "      <td>0</td>\n",
       "      <td>2283609208</td>\n",
       "      <td>Mon Jun 22 12:50:43 PDT 2009</td>\n",
       "      <td>NO_QUERY</td>\n",
       "      <td>lmaoalexandra</td>\n",
       "      <td>graduation tonight, im so nervous!  class of 0...</td>\n",
       "    </tr>\n",
       "    <tr>\n",
       "      <th>1</th>\n",
       "      <td>4</td>\n",
       "      <td>2017701445</td>\n",
       "      <td>Wed Jun 03 08:49:00 PDT 2009</td>\n",
       "      <td>NO_QUERY</td>\n",
       "      <td>ParisDT</td>\n",
       "      <td>@franki_ all on the african continent, and thr...</td>\n",
       "    </tr>\n",
       "    <tr>\n",
       "      <th>2</th>\n",
       "      <td>4</td>\n",
       "      <td>1835155517</td>\n",
       "      <td>Mon May 18 05:17:18 PDT 2009</td>\n",
       "      <td>NO_QUERY</td>\n",
       "      <td>LoveTheHills423</td>\n",
       "      <td>At School(: Wishingg To Meet Thee Kardashian S...</td>\n",
       "    </tr>\n",
       "    <tr>\n",
       "      <th>3</th>\n",
       "      <td>0</td>\n",
       "      <td>2007761543</td>\n",
       "      <td>Tue Jun 02 13:06:49 PDT 2009</td>\n",
       "      <td>NO_QUERY</td>\n",
       "      <td>elvisofdallas</td>\n",
       "      <td>@rogiddy that link is bad  no picture</td>\n",
       "    </tr>\n",
       "    <tr>\n",
       "      <th>4</th>\n",
       "      <td>4</td>\n",
       "      <td>2003248623</td>\n",
       "      <td>Tue Jun 02 06:10:33 PDT 2009</td>\n",
       "      <td>NO_QUERY</td>\n",
       "      <td>Tehlem0n</td>\n",
       "      <td>@jessicatsang Im on study leave. Only have to ...</td>\n",
       "    </tr>\n",
       "  </tbody>\n",
       "</table>\n",
       "</div>\n",
       "      <button class=\"colab-df-convert\" onclick=\"convertToInteractive('df-c61c382c-53da-460d-8fad-a4b62b338da5')\"\n",
       "              title=\"Convert this dataframe to an interactive table.\"\n",
       "              style=\"display:none;\">\n",
       "        \n",
       "  <svg xmlns=\"http://www.w3.org/2000/svg\" height=\"24px\"viewBox=\"0 0 24 24\"\n",
       "       width=\"24px\">\n",
       "    <path d=\"M0 0h24v24H0V0z\" fill=\"none\"/>\n",
       "    <path d=\"M18.56 5.44l.94 2.06.94-2.06 2.06-.94-2.06-.94-.94-2.06-.94 2.06-2.06.94zm-11 1L8.5 8.5l.94-2.06 2.06-.94-2.06-.94L8.5 2.5l-.94 2.06-2.06.94zm10 10l.94 2.06.94-2.06 2.06-.94-2.06-.94-.94-2.06-.94 2.06-2.06.94z\"/><path d=\"M17.41 7.96l-1.37-1.37c-.4-.4-.92-.59-1.43-.59-.52 0-1.04.2-1.43.59L10.3 9.45l-7.72 7.72c-.78.78-.78 2.05 0 2.83L4 21.41c.39.39.9.59 1.41.59.51 0 1.02-.2 1.41-.59l7.78-7.78 2.81-2.81c.8-.78.8-2.07 0-2.86zM5.41 20L4 18.59l7.72-7.72 1.47 1.35L5.41 20z\"/>\n",
       "  </svg>\n",
       "      </button>\n",
       "      \n",
       "  <style>\n",
       "    .colab-df-container {\n",
       "      display:flex;\n",
       "      flex-wrap:wrap;\n",
       "      gap: 12px;\n",
       "    }\n",
       "\n",
       "    .colab-df-convert {\n",
       "      background-color: #E8F0FE;\n",
       "      border: none;\n",
       "      border-radius: 50%;\n",
       "      cursor: pointer;\n",
       "      display: none;\n",
       "      fill: #1967D2;\n",
       "      height: 32px;\n",
       "      padding: 0 0 0 0;\n",
       "      width: 32px;\n",
       "    }\n",
       "\n",
       "    .colab-df-convert:hover {\n",
       "      background-color: #E2EBFA;\n",
       "      box-shadow: 0px 1px 2px rgba(60, 64, 67, 0.3), 0px 1px 3px 1px rgba(60, 64, 67, 0.15);\n",
       "      fill: #174EA6;\n",
       "    }\n",
       "\n",
       "    [theme=dark] .colab-df-convert {\n",
       "      background-color: #3B4455;\n",
       "      fill: #D2E3FC;\n",
       "    }\n",
       "\n",
       "    [theme=dark] .colab-df-convert:hover {\n",
       "      background-color: #434B5C;\n",
       "      box-shadow: 0px 1px 3px 1px rgba(0, 0, 0, 0.15);\n",
       "      filter: drop-shadow(0px 1px 2px rgba(0, 0, 0, 0.3));\n",
       "      fill: #FFFFFF;\n",
       "    }\n",
       "  </style>\n",
       "\n",
       "      <script>\n",
       "        const buttonEl =\n",
       "          document.querySelector('#df-c61c382c-53da-460d-8fad-a4b62b338da5 button.colab-df-convert');\n",
       "        buttonEl.style.display =\n",
       "          google.colab.kernel.accessAllowed ? 'block' : 'none';\n",
       "\n",
       "        async function convertToInteractive(key) {\n",
       "          const element = document.querySelector('#df-c61c382c-53da-460d-8fad-a4b62b338da5');\n",
       "          const dataTable =\n",
       "            await google.colab.kernel.invokeFunction('convertToInteractive',\n",
       "                                                     [key], {});\n",
       "          if (!dataTable) return;\n",
       "\n",
       "          const docLinkHtml = 'Like what you see? Visit the ' +\n",
       "            '<a target=\"_blank\" href=https://colab.research.google.com/notebooks/data_table.ipynb>data table notebook</a>'\n",
       "            + ' to learn more about interactive tables.';\n",
       "          element.innerHTML = '';\n",
       "          dataTable['output_type'] = 'display_data';\n",
       "          await google.colab.output.renderOutput(dataTable, element);\n",
       "          const docLink = document.createElement('div');\n",
       "          docLink.innerHTML = docLinkHtml;\n",
       "          element.appendChild(docLink);\n",
       "        }\n",
       "      </script>\n",
       "    </div>\n",
       "  </div>\n",
       "  "
      ],
      "text/plain": [
       "   sentiment          id                          date     query  \\\n",
       "0          0  2283609208  Mon Jun 22 12:50:43 PDT 2009  NO_QUERY   \n",
       "1          4  2017701445  Wed Jun 03 08:49:00 PDT 2009  NO_QUERY   \n",
       "2          4  1835155517  Mon May 18 05:17:18 PDT 2009  NO_QUERY   \n",
       "3          0  2007761543  Tue Jun 02 13:06:49 PDT 2009  NO_QUERY   \n",
       "4          4  2003248623  Tue Jun 02 06:10:33 PDT 2009  NO_QUERY   \n",
       "\n",
       "              user                                               text  \n",
       "0    lmaoalexandra  graduation tonight, im so nervous!  class of 0...  \n",
       "1          ParisDT  @franki_ all on the african continent, and thr...  \n",
       "2  LoveTheHills423  At School(: Wishingg To Meet Thee Kardashian S...  \n",
       "3    elvisofdallas              @rogiddy that link is bad  no picture  \n",
       "4         Tehlem0n  @jessicatsang Im on study leave. Only have to ...  "
      ]
     },
     "execution_count": 16,
     "metadata": {},
     "output_type": "execute_result"
    }
   ],
   "source": [
    "df.head(5)"
   ]
  },
  {
   "cell_type": "code",
   "execution_count": 17,
   "metadata": {
    "execution": {
     "iopub.execute_input": "2022-04-23T01:44:16.529343Z",
     "iopub.status.busy": "2022-04-23T01:44:16.529119Z",
     "iopub.status.idle": "2022-04-23T01:44:16.593674Z",
     "shell.execute_reply": "2022-04-23T01:44:16.592959Z",
     "shell.execute_reply.started": "2022-04-23T01:44:16.529316Z"
    },
    "id": "bC-h9W9kbZeD"
   },
   "outputs": [],
   "source": [
    "df = df.drop([\"id\", \"date\", \"query\", \"user\"], axis = 1) "
   ]
  },
  {
   "cell_type": "code",
   "execution_count": 18,
   "metadata": {
    "colab": {
     "base_uri": "https://localhost:8080/",
     "height": 206
    },
    "execution": {
     "iopub.execute_input": "2022-04-23T01:44:16.595411Z",
     "iopub.status.busy": "2022-04-23T01:44:16.595055Z",
     "iopub.status.idle": "2022-04-23T01:44:16.604602Z",
     "shell.execute_reply": "2022-04-23T01:44:16.603710Z",
     "shell.execute_reply.started": "2022-04-23T01:44:16.595375Z"
    },
    "id": "S5_pZtmSbZeE",
    "outputId": "733a0dcd-879f-4fe1-a23b-5a4bfe478020"
   },
   "outputs": [
    {
     "data": {
      "text/html": [
       "\n",
       "  <div id=\"df-d88f757a-dbab-4e28-a64e-19cb9465735a\">\n",
       "    <div class=\"colab-df-container\">\n",
       "      <div>\n",
       "<style scoped>\n",
       "    .dataframe tbody tr th:only-of-type {\n",
       "        vertical-align: middle;\n",
       "    }\n",
       "\n",
       "    .dataframe tbody tr th {\n",
       "        vertical-align: top;\n",
       "    }\n",
       "\n",
       "    .dataframe thead th {\n",
       "        text-align: right;\n",
       "    }\n",
       "</style>\n",
       "<table border=\"1\" class=\"dataframe\">\n",
       "  <thead>\n",
       "    <tr style=\"text-align: right;\">\n",
       "      <th></th>\n",
       "      <th>sentiment</th>\n",
       "      <th>text</th>\n",
       "    </tr>\n",
       "  </thead>\n",
       "  <tbody>\n",
       "    <tr>\n",
       "      <th>0</th>\n",
       "      <td>0</td>\n",
       "      <td>graduation tonight, im so nervous!  class of 0...</td>\n",
       "    </tr>\n",
       "    <tr>\n",
       "      <th>1</th>\n",
       "      <td>4</td>\n",
       "      <td>@franki_ all on the african continent, and thr...</td>\n",
       "    </tr>\n",
       "    <tr>\n",
       "      <th>2</th>\n",
       "      <td>4</td>\n",
       "      <td>At School(: Wishingg To Meet Thee Kardashian S...</td>\n",
       "    </tr>\n",
       "    <tr>\n",
       "      <th>3</th>\n",
       "      <td>0</td>\n",
       "      <td>@rogiddy that link is bad  no picture</td>\n",
       "    </tr>\n",
       "    <tr>\n",
       "      <th>4</th>\n",
       "      <td>4</td>\n",
       "      <td>@jessicatsang Im on study leave. Only have to ...</td>\n",
       "    </tr>\n",
       "  </tbody>\n",
       "</table>\n",
       "</div>\n",
       "      <button class=\"colab-df-convert\" onclick=\"convertToInteractive('df-d88f757a-dbab-4e28-a64e-19cb9465735a')\"\n",
       "              title=\"Convert this dataframe to an interactive table.\"\n",
       "              style=\"display:none;\">\n",
       "        \n",
       "  <svg xmlns=\"http://www.w3.org/2000/svg\" height=\"24px\"viewBox=\"0 0 24 24\"\n",
       "       width=\"24px\">\n",
       "    <path d=\"M0 0h24v24H0V0z\" fill=\"none\"/>\n",
       "    <path d=\"M18.56 5.44l.94 2.06.94-2.06 2.06-.94-2.06-.94-.94-2.06-.94 2.06-2.06.94zm-11 1L8.5 8.5l.94-2.06 2.06-.94-2.06-.94L8.5 2.5l-.94 2.06-2.06.94zm10 10l.94 2.06.94-2.06 2.06-.94-2.06-.94-.94-2.06-.94 2.06-2.06.94z\"/><path d=\"M17.41 7.96l-1.37-1.37c-.4-.4-.92-.59-1.43-.59-.52 0-1.04.2-1.43.59L10.3 9.45l-7.72 7.72c-.78.78-.78 2.05 0 2.83L4 21.41c.39.39.9.59 1.41.59.51 0 1.02-.2 1.41-.59l7.78-7.78 2.81-2.81c.8-.78.8-2.07 0-2.86zM5.41 20L4 18.59l7.72-7.72 1.47 1.35L5.41 20z\"/>\n",
       "  </svg>\n",
       "      </button>\n",
       "      \n",
       "  <style>\n",
       "    .colab-df-container {\n",
       "      display:flex;\n",
       "      flex-wrap:wrap;\n",
       "      gap: 12px;\n",
       "    }\n",
       "\n",
       "    .colab-df-convert {\n",
       "      background-color: #E8F0FE;\n",
       "      border: none;\n",
       "      border-radius: 50%;\n",
       "      cursor: pointer;\n",
       "      display: none;\n",
       "      fill: #1967D2;\n",
       "      height: 32px;\n",
       "      padding: 0 0 0 0;\n",
       "      width: 32px;\n",
       "    }\n",
       "\n",
       "    .colab-df-convert:hover {\n",
       "      background-color: #E2EBFA;\n",
       "      box-shadow: 0px 1px 2px rgba(60, 64, 67, 0.3), 0px 1px 3px 1px rgba(60, 64, 67, 0.15);\n",
       "      fill: #174EA6;\n",
       "    }\n",
       "\n",
       "    [theme=dark] .colab-df-convert {\n",
       "      background-color: #3B4455;\n",
       "      fill: #D2E3FC;\n",
       "    }\n",
       "\n",
       "    [theme=dark] .colab-df-convert:hover {\n",
       "      background-color: #434B5C;\n",
       "      box-shadow: 0px 1px 3px 1px rgba(0, 0, 0, 0.15);\n",
       "      filter: drop-shadow(0px 1px 2px rgba(0, 0, 0, 0.3));\n",
       "      fill: #FFFFFF;\n",
       "    }\n",
       "  </style>\n",
       "\n",
       "      <script>\n",
       "        const buttonEl =\n",
       "          document.querySelector('#df-d88f757a-dbab-4e28-a64e-19cb9465735a button.colab-df-convert');\n",
       "        buttonEl.style.display =\n",
       "          google.colab.kernel.accessAllowed ? 'block' : 'none';\n",
       "\n",
       "        async function convertToInteractive(key) {\n",
       "          const element = document.querySelector('#df-d88f757a-dbab-4e28-a64e-19cb9465735a');\n",
       "          const dataTable =\n",
       "            await google.colab.kernel.invokeFunction('convertToInteractive',\n",
       "                                                     [key], {});\n",
       "          if (!dataTable) return;\n",
       "\n",
       "          const docLinkHtml = 'Like what you see? Visit the ' +\n",
       "            '<a target=\"_blank\" href=https://colab.research.google.com/notebooks/data_table.ipynb>data table notebook</a>'\n",
       "            + ' to learn more about interactive tables.';\n",
       "          element.innerHTML = '';\n",
       "          dataTable['output_type'] = 'display_data';\n",
       "          await google.colab.output.renderOutput(dataTable, element);\n",
       "          const docLink = document.createElement('div');\n",
       "          docLink.innerHTML = docLinkHtml;\n",
       "          element.appendChild(docLink);\n",
       "        }\n",
       "      </script>\n",
       "    </div>\n",
       "  </div>\n",
       "  "
      ],
      "text/plain": [
       "   sentiment                                               text\n",
       "0          0  graduation tonight, im so nervous!  class of 0...\n",
       "1          4  @franki_ all on the african continent, and thr...\n",
       "2          4  At School(: Wishingg To Meet Thee Kardashian S...\n",
       "3          0              @rogiddy that link is bad  no picture\n",
       "4          4  @jessicatsang Im on study leave. Only have to ..."
      ]
     },
     "execution_count": 18,
     "metadata": {},
     "output_type": "execute_result"
    }
   ],
   "source": [
    "df.head(5)"
   ]
  },
  {
   "cell_type": "code",
   "execution_count": 19,
   "metadata": {
    "colab": {
     "base_uri": "https://localhost:8080/"
    },
    "execution": {
     "iopub.execute_input": "2022-04-23T01:44:16.606947Z",
     "iopub.status.busy": "2022-04-23T01:44:16.606393Z",
     "iopub.status.idle": "2022-04-23T01:44:16.626504Z",
     "shell.execute_reply": "2022-04-23T01:44:16.625802Z",
     "shell.execute_reply.started": "2022-04-23T01:44:16.606905Z"
    },
    "id": "yJ8_bUqSbZeE",
    "outputId": "cda04adf-74a1-43fa-e6e7-35a66ce699b4"
   },
   "outputs": [
    {
     "data": {
      "text/plain": [
       "0    800000\n",
       "4    800000\n",
       "Name: sentiment, dtype: int64"
      ]
     },
     "execution_count": 19,
     "metadata": {},
     "output_type": "execute_result"
    }
   ],
   "source": [
    "df.sentiment.value_counts()"
   ]
  },
  {
   "cell_type": "markdown",
   "metadata": {
    "id": "jAlboQAcbZeF"
   },
   "source": [
    "\n",
    "\n",
    "\n",
    "\n",
    "\n",
    "\n",
    "\n",
    "\n",
    "\n",
    "\n",
    "\n",
    "# Cleaning data"
   ]
  },
  {
   "cell_type": "code",
   "execution_count": 20,
   "metadata": {
    "execution": {
     "iopub.execute_input": "2022-04-23T01:44:16.628299Z",
     "iopub.status.busy": "2022-04-23T01:44:16.627809Z",
     "iopub.status.idle": "2022-04-23T01:44:17.976644Z",
     "shell.execute_reply": "2022-04-23T01:44:17.975927Z",
     "shell.execute_reply.started": "2022-04-23T01:44:16.628256Z"
    },
    "id": "TM9mghwabZeF"
   },
   "outputs": [],
   "source": [
    "df['pre_clean_len'] = [len(t) for t in df.text]"
   ]
  },
  {
   "cell_type": "code",
   "execution_count": 21,
   "metadata": {
    "colab": {
     "base_uri": "https://localhost:8080/",
     "height": 265
    },
    "execution": {
     "iopub.execute_input": "2022-04-23T01:44:17.978260Z",
     "iopub.status.busy": "2022-04-23T01:44:17.978002Z",
     "iopub.status.idle": "2022-04-23T01:44:18.361441Z",
     "shell.execute_reply": "2022-04-23T01:44:18.360735Z",
     "shell.execute_reply.started": "2022-04-23T01:44:17.978225Z"
    },
    "id": "EBWmEK5qbZeG",
    "outputId": "20cff118-e7f2-426b-cc91-ff73944a1afa"
   },
   "outputs": [
    {
     "data": {
      "image/png": "[encoded data removed]",
      "text/plain": [
       "<Figure size 432x288 with 1 Axes>"
      ]
     },
     "metadata": {
      "needs_background": "light"
     },
     "output_type": "display_data"
    }
   ],
   "source": [
    "plt.boxplot(df.pre_clean_len)\n",
    "plt.show()"
   ]
  },
  {
   "cell_type": "code",
   "execution_count": 22,
   "metadata": {
    "colab": {
     "base_uri": "https://localhost:8080/",
     "height": 363
    },
    "execution": {
     "iopub.execute_input": "2022-04-23T01:44:18.363472Z",
     "iopub.status.busy": "2022-04-23T01:44:18.362804Z",
     "iopub.status.idle": "2022-04-23T01:44:18.395813Z",
     "shell.execute_reply": "2022-04-23T01:44:18.395123Z",
     "shell.execute_reply.started": "2022-04-23T01:44:18.363431Z"
    },
    "id": "Zv2G8XSLbZeG",
    "outputId": "2ea21e4d-cee8-42dc-e77f-47bdd4706854"
   },
   "outputs": [
    {
     "data": {
      "text/html": [
       "\n",
       "  <div id=\"df-6597ebd7-5432-4159-89eb-58adeacc421e\">\n",
       "    <div class=\"colab-df-container\">\n",
       "      <div>\n",
       "<style scoped>\n",
       "    .dataframe tbody tr th:only-of-type {\n",
       "        vertical-align: middle;\n",
       "    }\n",
       "\n",
       "    .dataframe tbody tr th {\n",
       "        vertical-align: top;\n",
       "    }\n",
       "\n",
       "    .dataframe thead th {\n",
       "        text-align: right;\n",
       "    }\n",
       "</style>\n",
       "<table border=\"1\" class=\"dataframe\">\n",
       "  <thead>\n",
       "    <tr style=\"text-align: right;\">\n",
       "      <th></th>\n",
       "      <th>sentiment</th>\n",
       "      <th>text</th>\n",
       "      <th>pre_clean_len</th>\n",
       "    </tr>\n",
       "  </thead>\n",
       "  <tbody>\n",
       "    <tr>\n",
       "      <th>15</th>\n",
       "      <td>4</td>\n",
       "      <td>@AmyNicolee Yay! You got twitter!!! You've com...</td>\n",
       "      <td>141</td>\n",
       "    </tr>\n",
       "    <tr>\n",
       "      <th>207</th>\n",
       "      <td>0</td>\n",
       "      <td>Today: Church&amp;gt; Gardening&amp;gt; Made hanging b...</td>\n",
       "      <td>155</td>\n",
       "    </tr>\n",
       "    <tr>\n",
       "      <th>353</th>\n",
       "      <td>0</td>\n",
       "      <td>just took some melatonin,gonna hopefully sleep...</td>\n",
       "      <td>141</td>\n",
       "    </tr>\n",
       "    <tr>\n",
       "      <th>727</th>\n",
       "      <td>4</td>\n",
       "      <td>@agcody luv summer but not the 6 am part...@ t...</td>\n",
       "      <td>142</td>\n",
       "    </tr>\n",
       "    <tr>\n",
       "      <th>833</th>\n",
       "      <td>0</td>\n",
       "      <td>nose and ears bunged with hayfever - plus head...</td>\n",
       "      <td>142</td>\n",
       "    </tr>\n",
       "    <tr>\n",
       "      <th>936</th>\n",
       "      <td>0</td>\n",
       "      <td>@DjEaseback The same &amp;amp; weird dreams that a...</td>\n",
       "      <td>141</td>\n",
       "    </tr>\n",
       "    <tr>\n",
       "      <th>1140</th>\n",
       "      <td>4</td>\n",
       "      <td>come support Soweto &amp;amp; Shabaka @ Rich Mix o...</td>\n",
       "      <td>143</td>\n",
       "    </tr>\n",
       "    <tr>\n",
       "      <th>1412</th>\n",
       "      <td>4</td>\n",
       "      <td>@jonasbrothers - &amp;quot;Tell the DJ to play my ...</td>\n",
       "      <td>147</td>\n",
       "    </tr>\n",
       "    <tr>\n",
       "      <th>1508</th>\n",
       "      <td>0</td>\n",
       "      <td>@bydemytime if we want to get technical, there...</td>\n",
       "      <td>142</td>\n",
       "    </tr>\n",
       "    <tr>\n",
       "      <th>1676</th>\n",
       "      <td>4</td>\n",
       "      <td>Hey, @TomFelton, when you call Timber [if she'...</td>\n",
       "      <td>148</td>\n",
       "    </tr>\n",
       "  </tbody>\n",
       "</table>\n",
       "</div>\n",
       "      <button class=\"colab-df-convert\" onclick=\"convertToInteractive('df-6597ebd7-5432-4159-89eb-58adeacc421e')\"\n",
       "              title=\"Convert this dataframe to an interactive table.\"\n",
       "              style=\"display:none;\">\n",
       "        \n",
       "  <svg xmlns=\"http://www.w3.org/2000/svg\" height=\"24px\"viewBox=\"0 0 24 24\"\n",
       "       width=\"24px\">\n",
       "    <path d=\"M0 0h24v24H0V0z\" fill=\"none\"/>\n",
       "    <path d=\"M18.56 5.44l.94 2.06.94-2.06 2.06-.94-2.06-.94-.94-2.06-.94 2.06-2.06.94zm-11 1L8.5 8.5l.94-2.06 2.06-.94-2.06-.94L8.5 2.5l-.94 2.06-2.06.94zm10 10l.94 2.06.94-2.06 2.06-.94-2.06-.94-.94-2.06-.94 2.06-2.06.94z\"/><path d=\"M17.41 7.96l-1.37-1.37c-.4-.4-.92-.59-1.43-.59-.52 0-1.04.2-1.43.59L10.3 9.45l-7.72 7.72c-.78.78-.78 2.05 0 2.83L4 21.41c.39.39.9.59 1.41.59.51 0 1.02-.2 1.41-.59l7.78-7.78 2.81-2.81c.8-.78.8-2.07 0-2.86zM5.41 20L4 18.59l7.72-7.72 1.47 1.35L5.41 20z\"/>\n",
       "  </svg>\n",
       "      </button>\n",
       "      \n",
       "  <style>\n",
       "    .colab-df-container {\n",
       "      display:flex;\n",
       "      flex-wrap:wrap;\n",
       "      gap: 12px;\n",
       "    }\n",
       "\n",
       "    .colab-df-convert {\n",
       "      background-color: #E8F0FE;\n",
       "      border: none;\n",
       "      border-radius: 50%;\n",
       "      cursor: pointer;\n",
       "      display: none;\n",
       "      fill: #1967D2;\n",
       "      height: 32px;\n",
       "      padding: 0 0 0 0;\n",
       "      width: 32px;\n",
       "    }\n",
       "\n",
       "    .colab-df-convert:hover {\n",
       "      background-color: #E2EBFA;\n",
       "      box-shadow: 0px 1px 2px rgba(60, 64, 67, 0.3), 0px 1px 3px 1px rgba(60, 64, 67, 0.15);\n",
       "      fill: #174EA6;\n",
       "    }\n",
       "\n",
       "    [theme=dark] .colab-df-convert {\n",
       "      background-color: #3B4455;\n",
       "      fill: #D2E3FC;\n",
       "    }\n",
       "\n",
       "    [theme=dark] .colab-df-convert:hover {\n",
       "      background-color: #434B5C;\n",
       "      box-shadow: 0px 1px 3px 1px rgba(0, 0, 0, 0.15);\n",
       "      filter: drop-shadow(0px 1px 2px rgba(0, 0, 0, 0.3));\n",
       "      fill: #FFFFFF;\n",
       "    }\n",
       "  </style>\n",
       "\n",
       "      <script>\n",
       "        const buttonEl =\n",
       "          document.querySelector('#df-6597ebd7-5432-4159-89eb-58adeacc421e button.colab-df-convert');\n",
       "        buttonEl.style.display =\n",
       "          google.colab.kernel.accessAllowed ? 'block' : 'none';\n",
       "\n",
       "        async function convertToInteractive(key) {\n",
       "          const element = document.querySelector('#df-6597ebd7-5432-4159-89eb-58adeacc421e');\n",
       "          const dataTable =\n",
       "            await google.colab.kernel.invokeFunction('convertToInteractive',\n",
       "                                                     [key], {});\n",
       "          if (!dataTable) return;\n",
       "\n",
       "          const docLinkHtml = 'Like what you see? Visit the ' +\n",
       "            '<a target=\"_blank\" href=https://colab.research.google.com/notebooks/data_table.ipynb>data table notebook</a>'\n",
       "            + ' to learn more about interactive tables.';\n",
       "          element.innerHTML = '';\n",
       "          dataTable['output_type'] = 'display_data';\n",
       "          await google.colab.output.renderOutput(dataTable, element);\n",
       "          const docLink = document.createElement('div');\n",
       "          docLink.innerHTML = docLinkHtml;\n",
       "          element.appendChild(docLink);\n",
       "        }\n",
       "      </script>\n",
       "    </div>\n",
       "  </div>\n",
       "  "
      ],
      "text/plain": [
       "      sentiment                                               text  \\\n",
       "15            4  @AmyNicolee Yay! You got twitter!!! You've com...   \n",
       "207           0  Today: Church&gt; Gardening&gt; Made hanging b...   \n",
       "353           0  just took some melatonin,gonna hopefully sleep...   \n",
       "727           4  @agcody luv summer but not the 6 am part...@ t...   \n",
       "833           0  nose and ears bunged with hayfever - plus head...   \n",
       "936           0  @DjEaseback The same &amp; weird dreams that a...   \n",
       "1140          4  come support Soweto &amp; Shabaka @ Rich Mix o...   \n",
       "1412          4  @jonasbrothers - &quot;Tell the DJ to play my ...   \n",
       "1508          0  @bydemytime if we want to get technical, there...   \n",
       "1676          4  Hey, @TomFelton, when you call Timber [if she'...   \n",
       "\n",
       "      pre_clean_len  \n",
       "15              141  \n",
       "207             155  \n",
       "353             141  \n",
       "727             142  \n",
       "833             142  \n",
       "936             141  \n",
       "1140            143  \n",
       "1412            147  \n",
       "1508            142  \n",
       "1676            148  "
      ]
     },
     "execution_count": 22,
     "metadata": {},
     "output_type": "execute_result"
    }
   ],
   "source": [
    "df[df.pre_clean_len > 140].head(10) "
   ]
  },
  {
   "cell_type": "markdown",
   "metadata": {
    "id": "mJvxIpNQbZeH"
   },
   "source": [
    "At this stage, if you want you could remove these outlier tweets"
   ]
  },
  {
   "cell_type": "markdown",
   "metadata": {
    "id": "6Ma_uMmBbZeH"
   },
   "source": [
    "# Cleaning operations"
   ]
  },
  {
   "cell_type": "code",
   "execution_count": 23,
   "metadata": {
    "execution": {
     "iopub.execute_input": "2022-04-23T01:44:18.397600Z",
     "iopub.status.busy": "2022-04-23T01:44:18.397085Z",
     "iopub.status.idle": "2022-04-23T01:44:18.569905Z",
     "shell.execute_reply": "2022-04-23T01:44:18.569180Z",
     "shell.execute_reply.started": "2022-04-23T01:44:18.397560Z"
    },
    "id": "ehUAq4OObZeI"
   },
   "outputs": [],
   "source": [
    "import re\n",
    "from bs4 import BeautifulSoup\n",
    "from nltk.tokenize import WordPunctTokenizer\n",
    "tok = WordPunctTokenizer()\n",
    "\n",
    "pat1 = r'@[A-Za-z0-9_]+'        # remove @ mentions from tweets\n",
    "pat2 = r'https?://[^ ]+'        # remove URLs from tweets\n",
    "combined_pat = r'|'.join((pat1, pat2)) #addition of pat1 and pat2\n",
    "www_pat = r'www.[^ ]+'         # remove URLs from tweets\n",
    "negations_dic = {\"isn't\":\"is not\", \"aren't\":\"are not\", \"wasn't\":\"was not\", \"weren't\":\"were not\",   # converting words like isn't to is not\n",
    "                \"haven't\":\"have not\",\"hasn't\":\"has not\",\"hadn't\":\"had not\",\"won't\":\"will not\",\n",
    "                \"wouldn't\":\"would not\", \"don't\":\"do not\", \"doesn't\":\"does not\",\"didn't\":\"did not\",\n",
    "                \"can't\":\"can not\",\"couldn't\":\"could not\",\"shouldn't\":\"should not\",\"mightn't\":\"might not\",\n",
    "                \"mustn't\":\"must not\"}\n",
    "neg_pattern = re.compile(r'\\b(' + '|'.join(negations_dic.keys()) + r')\\b')\n",
    "\n",
    "def tweet_cleaner(text):  # define tweet_cleaner function to clean the tweets\n",
    "    soup = BeautifulSoup(text, 'lxml')    # create beautiful soup object\n",
    "    souped = soup.get_text()   # get only text from the tweets \n",
    "    try:\n",
    "        bom_removed = souped.decode(\"utf-8-sig\").replace(u\"\\ufffd\", \"?\")    # remove utf-8-sig code\n",
    "    except:\n",
    "        bom_removed = souped\n",
    "    stripped = re.sub(combined_pat, '', bom_removed) # calling combined_pat\n",
    "    stripped = re.sub(www_pat, '', stripped) #remove URLs\n",
    "    lower_case = stripped.lower()      # converting all into lower case\n",
    "    neg_handled = neg_pattern.sub(lambda x: negations_dic[x.group()], lower_case) # converting words like isn't to is not\n",
    "    letters_only = re.sub(\"[^a-zA-Z]\", \" \", neg_handled)       # will replace # by space\n",
    "    words = [x for x  in tok.tokenize(letters_only) if len(x) > 1] # Word Punct Tokenize and only consider words whose length is greater than 1\n",
    "    return (\" \".join(words)).strip() # join the words"
   ]
  },
  {
   "cell_type": "code",
   "execution_count": 24,
   "metadata": {
    "colab": {
     "base_uri": "https://localhost:8080/"
    },
    "execution": {
     "iopub.execute_input": "2022-04-23T02:42:20.663719Z",
     "iopub.status.busy": "2022-04-23T02:42:20.663129Z",
     "iopub.status.idle": "2022-04-23T02:49:30.654706Z",
     "shell.execute_reply": "2022-04-23T02:49:30.653949Z",
     "shell.execute_reply.started": "2022-04-23T02:42:20.663682Z"
    },
    "id": "5ezXFx0ibZeJ",
    "outputId": "8d45b923-3146-4186-9b7e-41af0ab96c63",
    "scrolled": true
   },
   "outputs": [
    {
     "name": "stdout",
     "output_type": "stream",
     "text": [
      "0 6.365776062011719e-05\n",
      "10000 2.1131160259246826\n",
      "20000 4.260849475860596\n",
      "30000 6.398574113845825\n",
      "40000 8.518304824829102\n"
     ]
    }
   ],
   "source": [
    "#Note that we have 1600000 instances. But processing so many instances will take a very very long time.\n",
    "#Hence, restricting to rather 50000 instances.\n",
    "limit= 50000\n",
    "import time; \n",
    "ms = time.time()\n",
    "#nums = [0,400000,800000,1200000,1600000] # used for batch processing tweets\n",
    "#nums = [0, 9999]\n",
    "clean_tweet_texts = [] # initialize list\n",
    "for i in range(0,limit): # batch process 1.6 million tweets \n",
    "    if i % 10000==0:\n",
    "        print(i, time.time()-ms)\n",
    "    clean_tweet_texts.append(tweet_cleaner(df['text'][i]))  # call tweet_cleaner function and pass parameter as all the tweets to clean the tweets and append cleaned tweets into clean_tweet_texts list"
   ]
  },
  {
   "cell_type": "markdown",
   "metadata": {
    "id": "SdO-pDShbZeJ"
   },
   "source": [
    "# clean_tweet_texts"
   ]
  },
  {
   "cell_type": "code",
   "execution_count": 25,
   "metadata": {
    "colab": {
     "base_uri": "https://localhost:8080/"
    },
    "execution": {
     "iopub.execute_input": "2022-04-23T02:49:30.656534Z",
     "iopub.status.busy": "2022-04-23T02:49:30.656252Z",
     "iopub.status.idle": "2022-04-23T02:49:30.664754Z",
     "shell.execute_reply": "2022-04-23T02:49:30.663746Z",
     "shell.execute_reply.started": "2022-04-23T02:49:30.656496Z"
    },
    "id": "ZYVQvtSCbZeK",
    "outputId": "6bf399c0-db44-4565-abd6-3d18b8fc57e4"
   },
   "outputs": [
    {
     "name": "stdout",
     "output_type": "stream",
     "text": [
      "[nltk_data] Downloading package punkt to /root/nltk_data...\n",
      "[nltk_data]   Unzipping tokenizers/punkt.zip.\n"
     ]
    },
    {
     "data": {
      "text/plain": [
       "True"
      ]
     },
     "execution_count": 25,
     "metadata": {},
     "output_type": "execute_result"
    }
   ],
   "source": [
    "nltk.download('punkt')"
   ]
  },
  {
   "cell_type": "code",
   "execution_count": 26,
   "metadata": {
    "execution": {
     "iopub.execute_input": "2022-04-23T02:49:30.666904Z",
     "iopub.status.busy": "2022-04-23T02:49:30.666289Z",
     "iopub.status.idle": "2022-04-23T02:53:37.162028Z",
     "shell.execute_reply": "2022-04-23T02:53:37.161283Z",
     "shell.execute_reply.started": "2022-04-23T02:49:30.666864Z"
    },
    "id": "wTODwkIPbZeK"
   },
   "outputs": [],
   "source": [
    "word_tokens = [] # initialize list for tokens\n",
    "for word in clean_tweet_texts:  # for each word in clean_tweet_texts\n",
    "    word_tokens.append(word_tokenize(word)) #tokenize word in clean_tweet_texts and append it to word_tokens list"
   ]
  },
  {
   "cell_type": "markdown",
   "metadata": {
    "id": "7kHxhbzpbZeK"
   },
   "source": [
    "# Lemmatizing"
   ]
  },
  {
   "cell_type": "code",
   "execution_count": 27,
   "metadata": {
    "colab": {
     "base_uri": "https://localhost:8080/"
    },
    "execution": {
     "iopub.execute_input": "2022-04-23T02:53:37.164343Z",
     "iopub.status.busy": "2022-04-23T02:53:37.164013Z",
     "iopub.status.idle": "2022-04-23T02:53:37.324908Z",
     "shell.execute_reply": "2022-04-23T02:53:37.324000Z",
     "shell.execute_reply.started": "2022-04-23T02:53:37.164305Z"
    },
    "id": "YMPH0O0KbZeL",
    "outputId": "1d161def-016e-4cf9-ca6c-8eeb97b5c387"
   },
   "outputs": [
    {
     "name": "stdout",
     "output_type": "stream",
     "text": [
      "[nltk_data] Downloading package wordnet to /root/nltk_data...\n",
      "[nltk_data]   Unzipping corpora/wordnet.zip.\n"
     ]
    },
    {
     "data": {
      "text/plain": [
       "True"
      ]
     },
     "execution_count": 27,
     "metadata": {},
     "output_type": "execute_result"
    }
   ],
   "source": [
    "nltk.download('wordnet')"
   ]
  },
  {
   "cell_type": "code",
   "execution_count": 28,
   "metadata": {
    "execution": {
     "iopub.execute_input": "2022-04-23T02:53:37.326617Z",
     "iopub.status.busy": "2022-04-23T02:53:37.326291Z",
     "iopub.status.idle": "2022-04-23T02:55:04.877855Z",
     "shell.execute_reply": "2022-04-23T02:55:04.877094Z",
     "shell.execute_reply.started": "2022-04-23T02:53:37.326578Z"
    },
    "id": "XLycVSBFbZeL"
   },
   "outputs": [],
   "source": [
    "df1 = [] # initialize list df1 to store words after lemmatization\n",
    "from nltk.stem import WordNetLemmatizer # import WordNetLemmatizer from nltk.stem\n",
    "lemmatizer = WordNetLemmatizer() # create an object of WordNetLemmatizer\n",
    "for l in word_tokens: # for loop for every tokens in word_token\n",
    "    b = [lemmatizer.lemmatize(q) for q in l] #for every tokens in word_token lemmatize word and giev it to b\n",
    "    df1.append(b) #append b to list df1"
   ]
  },
  {
   "cell_type": "markdown",
   "metadata": {
    "id": "OdxtbxrkbZeL"
   },
   "source": [
    "# df"
   ]
  },
  {
   "cell_type": "code",
   "execution_count": 29,
   "metadata": {
    "execution": {
     "iopub.execute_input": "2022-04-23T02:55:04.881257Z",
     "iopub.status.busy": "2022-04-23T02:55:04.879037Z",
     "iopub.status.idle": "2022-04-23T02:55:06.025489Z",
     "shell.execute_reply": "2022-04-23T02:55:06.024648Z",
     "shell.execute_reply.started": "2022-04-23T02:55:04.881222Z"
    },
    "id": "ch5XtDwubZeM"
   },
   "outputs": [],
   "source": [
    "clean_df1 =[] # initialize list clean_df1 to join word tokens after lemmatization\n",
    "for c in df1:  # for loop for each list in df1\n",
    "    a = \" \".join(c) # join words in list with space in between and give it to a\n",
    "    clean_df1.append(a) # append a to clean_df1"
   ]
  },
  {
   "cell_type": "markdown",
   "metadata": {
    "id": "uNzbSQ-obZeM"
   },
   "source": [
    "# clean_df1"
   ]
  },
  {
   "cell_type": "code",
   "execution_count": 30,
   "metadata": {
    "execution": {
     "iopub.execute_input": "2022-04-23T02:55:06.026974Z",
     "iopub.status.busy": "2022-04-23T02:55:06.026689Z",
     "iopub.status.idle": "2022-04-23T02:55:06.122230Z",
     "shell.execute_reply": "2022-04-23T02:55:06.121314Z",
     "shell.execute_reply.started": "2022-04-23T02:55:06.026923Z"
    },
    "id": "QiKaEwMZbZeM"
   },
   "outputs": [],
   "source": [
    "clean_df = pd.DataFrame(clean_df1,columns=['text']) # convert clean_tweet_texts into dataframe and name it as clean_df\n",
    "#clean_df['target'] = df.sentiment[:10000] # from earlier dataframe get the sentiments of each tweet and make a new column in clean_df as target and give it all the sentiment score\n",
    "#clean_df"
   ]
  },
  {
   "cell_type": "code",
   "execution_count": 31,
   "metadata": {
    "execution": {
     "iopub.execute_input": "2022-04-23T02:55:06.124490Z",
     "iopub.status.busy": "2022-04-23T02:55:06.123989Z",
     "iopub.status.idle": "2022-04-23T02:55:06.967465Z",
     "shell.execute_reply": "2022-04-23T02:55:06.966717Z",
     "shell.execute_reply.started": "2022-04-23T02:55:06.124445Z"
    },
    "id": "DrJ7sOyWbZeN"
   },
   "outputs": [],
   "source": [
    "clean_df['clean_len'] = [len(t) for t in clean_df.text] # Again make a new coloumn in the dataframe and name it as clean_len which "
   ]
  },
  {
   "cell_type": "code",
   "execution_count": 32,
   "metadata": {
    "colab": {
     "base_uri": "https://localhost:8080/",
     "height": 49
    },
    "execution": {
     "iopub.execute_input": "2022-04-23T02:55:06.969072Z",
     "iopub.status.busy": "2022-04-23T02:55:06.968811Z",
     "iopub.status.idle": "2022-04-23T02:55:06.982714Z",
     "shell.execute_reply": "2022-04-23T02:55:06.981962Z",
     "shell.execute_reply.started": "2022-04-23T02:55:06.969038Z"
    },
    "id": "idl1K7vrbZeN",
    "outputId": "bd730b86-a07e-49ef-8a0d-b038def00724"
   },
   "outputs": [
    {
     "data": {
      "text/html": [
       "\n",
       "  <div id=\"df-e6a99fed-4b0f-4dea-a29a-1f2842a22f36\">\n",
       "    <div class=\"colab-df-container\">\n",
       "      <div>\n",
       "<style scoped>\n",
       "    .dataframe tbody tr th:only-of-type {\n",
       "        vertical-align: middle;\n",
       "    }\n",
       "\n",
       "    .dataframe tbody tr th {\n",
       "        vertical-align: top;\n",
       "    }\n",
       "\n",
       "    .dataframe thead th {\n",
       "        text-align: right;\n",
       "    }\n",
       "</style>\n",
       "<table border=\"1\" class=\"dataframe\">\n",
       "  <thead>\n",
       "    <tr style=\"text-align: right;\">\n",
       "      <th></th>\n",
       "      <th>text</th>\n",
       "      <th>clean_len</th>\n",
       "    </tr>\n",
       "  </thead>\n",
       "  <tbody>\n",
       "  </tbody>\n",
       "</table>\n",
       "</div>\n",
       "      <button class=\"colab-df-convert\" onclick=\"convertToInteractive('df-e6a99fed-4b0f-4dea-a29a-1f2842a22f36')\"\n",
       "              title=\"Convert this dataframe to an interactive table.\"\n",
       "              style=\"display:none;\">\n",
       "        \n",
       "  <svg xmlns=\"http://www.w3.org/2000/svg\" height=\"24px\"viewBox=\"0 0 24 24\"\n",
       "       width=\"24px\">\n",
       "    <path d=\"M0 0h24v24H0V0z\" fill=\"none\"/>\n",
       "    <path d=\"M18.56 5.44l.94 2.06.94-2.06 2.06-.94-2.06-.94-.94-2.06-.94 2.06-2.06.94zm-11 1L8.5 8.5l.94-2.06 2.06-.94-2.06-.94L8.5 2.5l-.94 2.06-2.06.94zm10 10l.94 2.06.94-2.06 2.06-.94-2.06-.94-.94-2.06-.94 2.06-2.06.94z\"/><path d=\"M17.41 7.96l-1.37-1.37c-.4-.4-.92-.59-1.43-.59-.52 0-1.04.2-1.43.59L10.3 9.45l-7.72 7.72c-.78.78-.78 2.05 0 2.83L4 21.41c.39.39.9.59 1.41.59.51 0 1.02-.2 1.41-.59l7.78-7.78 2.81-2.81c.8-.78.8-2.07 0-2.86zM5.41 20L4 18.59l7.72-7.72 1.47 1.35L5.41 20z\"/>\n",
       "  </svg>\n",
       "      </button>\n",
       "      \n",
       "  <style>\n",
       "    .colab-df-container {\n",
       "      display:flex;\n",
       "      flex-wrap:wrap;\n",
       "      gap: 12px;\n",
       "    }\n",
       "\n",
       "    .colab-df-convert {\n",
       "      background-color: #E8F0FE;\n",
       "      border: none;\n",
       "      border-radius: 50%;\n",
       "      cursor: pointer;\n",
       "      display: none;\n",
       "      fill: #1967D2;\n",
       "      height: 32px;\n",
       "      padding: 0 0 0 0;\n",
       "      width: 32px;\n",
       "    }\n",
       "\n",
       "    .colab-df-convert:hover {\n",
       "      background-color: #E2EBFA;\n",
       "      box-shadow: 0px 1px 2px rgba(60, 64, 67, 0.3), 0px 1px 3px 1px rgba(60, 64, 67, 0.15);\n",
       "      fill: #174EA6;\n",
       "    }\n",
       "\n",
       "    [theme=dark] .colab-df-convert {\n",
       "      background-color: #3B4455;\n",
       "      fill: #D2E3FC;\n",
       "    }\n",
       "\n",
       "    [theme=dark] .colab-df-convert:hover {\n",
       "      background-color: #434B5C;\n",
       "      box-shadow: 0px 1px 3px 1px rgba(0, 0, 0, 0.15);\n",
       "      filter: drop-shadow(0px 1px 2px rgba(0, 0, 0, 0.3));\n",
       "      fill: #FFFFFF;\n",
       "    }\n",
       "  </style>\n",
       "\n",
       "      <script>\n",
       "        const buttonEl =\n",
       "          document.querySelector('#df-e6a99fed-4b0f-4dea-a29a-1f2842a22f36 button.colab-df-convert');\n",
       "        buttonEl.style.display =\n",
       "          google.colab.kernel.accessAllowed ? 'block' : 'none';\n",
       "\n",
       "        async function convertToInteractive(key) {\n",
       "          const element = document.querySelector('#df-e6a99fed-4b0f-4dea-a29a-1f2842a22f36');\n",
       "          const dataTable =\n",
       "            await google.colab.kernel.invokeFunction('convertToInteractive',\n",
       "                                                     [key], {});\n",
       "          if (!dataTable) return;\n",
       "\n",
       "          const docLinkHtml = 'Like what you see? Visit the ' +\n",
       "            '<a target=\"_blank\" href=https://colab.research.google.com/notebooks/data_table.ipynb>data table notebook</a>'\n",
       "            + ' to learn more about interactive tables.';\n",
       "          element.innerHTML = '';\n",
       "          dataTable['output_type'] = 'display_data';\n",
       "          await google.colab.output.renderOutput(dataTable, element);\n",
       "          const docLink = document.createElement('div');\n",
       "          docLink.innerHTML = docLinkHtml;\n",
       "          element.appendChild(docLink);\n",
       "        }\n",
       "      </script>\n",
       "    </div>\n",
       "  </div>\n",
       "  "
      ],
      "text/plain": [
       "Empty DataFrame\n",
       "Columns: [text, clean_len]\n",
       "Index: []"
      ]
     },
     "execution_count": 32,
     "metadata": {},
     "output_type": "execute_result"
    }
   ],
   "source": [
    "clean_df[clean_df.clean_len > 140].head(10) # again check if any tweet is more than 140 characters"
   ]
  },
  {
   "cell_type": "code",
   "execution_count": 33,
   "metadata": {
    "colab": {
     "base_uri": "https://localhost:8080/",
     "height": 206
    },
    "execution": {
     "iopub.execute_input": "2022-04-23T02:55:07.022226Z",
     "iopub.status.busy": "2022-04-23T02:55:07.022008Z",
     "iopub.status.idle": "2022-04-23T02:55:18.743097Z",
     "shell.execute_reply": "2022-04-23T02:55:18.741479Z",
     "shell.execute_reply.started": "2022-04-23T02:55:07.022200Z"
    },
    "id": "rTz8s6oXbZeN",
    "outputId": "0ffddcb3-2802-4234-d43e-535fe09972b8"
   },
   "outputs": [
    {
     "data": {
      "text/html": [
       "\n",
       "  <div id=\"df-90d02723-e860-4e56-ac31-fb9b7be6f9be\">\n",
       "    <div class=\"colab-df-container\">\n",
       "      <div>\n",
       "<style scoped>\n",
       "    .dataframe tbody tr th:only-of-type {\n",
       "        vertical-align: middle;\n",
       "    }\n",
       "\n",
       "    .dataframe tbody tr th {\n",
       "        vertical-align: top;\n",
       "    }\n",
       "\n",
       "    .dataframe thead th {\n",
       "        text-align: right;\n",
       "    }\n",
       "</style>\n",
       "<table border=\"1\" class=\"dataframe\">\n",
       "  <thead>\n",
       "    <tr style=\"text-align: right;\">\n",
       "      <th></th>\n",
       "      <th>sentiment</th>\n",
       "      <th>text</th>\n",
       "      <th>pre_clean_len</th>\n",
       "    </tr>\n",
       "  </thead>\n",
       "  <tbody>\n",
       "    <tr>\n",
       "      <th>0</th>\n",
       "      <td>0</td>\n",
       "      <td>graduation tonight, im so nervous!  class of 0...</td>\n",
       "      <td>53</td>\n",
       "    </tr>\n",
       "    <tr>\n",
       "      <th>1</th>\n",
       "      <td>4</td>\n",
       "      <td>@franki_ all on the african continent, and thr...</td>\n",
       "      <td>72</td>\n",
       "    </tr>\n",
       "    <tr>\n",
       "      <th>2</th>\n",
       "      <td>4</td>\n",
       "      <td>At School(: Wishingg To Meet Thee Kardashian S...</td>\n",
       "      <td>53</td>\n",
       "    </tr>\n",
       "    <tr>\n",
       "      <th>3</th>\n",
       "      <td>0</td>\n",
       "      <td>@rogiddy that link is bad  no picture</td>\n",
       "      <td>37</td>\n",
       "    </tr>\n",
       "    <tr>\n",
       "      <th>4</th>\n",
       "      <td>4</td>\n",
       "      <td>@jessicatsang Im on study leave. Only have to ...</td>\n",
       "      <td>69</td>\n",
       "    </tr>\n",
       "  </tbody>\n",
       "</table>\n",
       "</div>\n",
       "      <button class=\"colab-df-convert\" onclick=\"convertToInteractive('df-90d02723-e860-4e56-ac31-fb9b7be6f9be')\"\n",
       "              title=\"Convert this dataframe to an interactive table.\"\n",
       "              style=\"display:none;\">\n",
       "        \n",
       "  <svg xmlns=\"http://www.w3.org/2000/svg\" height=\"24px\"viewBox=\"0 0 24 24\"\n",
       "       width=\"24px\">\n",
       "    <path d=\"M0 0h24v24H0V0z\" fill=\"none\"/>\n",
       "    <path d=\"M18.56 5.44l.94 2.06.94-2.06 2.06-.94-2.06-.94-.94-2.06-.94 2.06-2.06.94zm-11 1L8.5 8.5l.94-2.06 2.06-.94-2.06-.94L8.5 2.5l-.94 2.06-2.06.94zm10 10l.94 2.06.94-2.06 2.06-.94-2.06-.94-.94-2.06-.94 2.06-2.06.94z\"/><path d=\"M17.41 7.96l-1.37-1.37c-.4-.4-.92-.59-1.43-.59-.52 0-1.04.2-1.43.59L10.3 9.45l-7.72 7.72c-.78.78-.78 2.05 0 2.83L4 21.41c.39.39.9.59 1.41.59.51 0 1.02-.2 1.41-.59l7.78-7.78 2.81-2.81c.8-.78.8-2.07 0-2.86zM5.41 20L4 18.59l7.72-7.72 1.47 1.35L5.41 20z\"/>\n",
       "  </svg>\n",
       "      </button>\n",
       "      \n",
       "  <style>\n",
       "    .colab-df-container {\n",
       "      display:flex;\n",
       "      flex-wrap:wrap;\n",
       "      gap: 12px;\n",
       "    }\n",
       "\n",
       "    .colab-df-convert {\n",
       "      background-color: #E8F0FE;\n",
       "      border: none;\n",
       "      border-radius: 50%;\n",
       "      cursor: pointer;\n",
       "      display: none;\n",
       "      fill: #1967D2;\n",
       "      height: 32px;\n",
       "      padding: 0 0 0 0;\n",
       "      width: 32px;\n",
       "    }\n",
       "\n",
       "    .colab-df-convert:hover {\n",
       "      background-color: #E2EBFA;\n",
       "      box-shadow: 0px 1px 2px rgba(60, 64, 67, 0.3), 0px 1px 3px 1px rgba(60, 64, 67, 0.15);\n",
       "      fill: #174EA6;\n",
       "    }\n",
       "\n",
       "    [theme=dark] .colab-df-convert {\n",
       "      background-color: #3B4455;\n",
       "      fill: #D2E3FC;\n",
       "    }\n",
       "\n",
       "    [theme=dark] .colab-df-convert:hover {\n",
       "      background-color: #434B5C;\n",
       "      box-shadow: 0px 1px 3px 1px rgba(0, 0, 0, 0.15);\n",
       "      filter: drop-shadow(0px 1px 2px rgba(0, 0, 0, 0.3));\n",
       "      fill: #FFFFFF;\n",
       "    }\n",
       "  </style>\n",
       "\n",
       "      <script>\n",
       "        const buttonEl =\n",
       "          document.querySelector('#df-90d02723-e860-4e56-ac31-fb9b7be6f9be button.colab-df-convert');\n",
       "        buttonEl.style.display =\n",
       "          google.colab.kernel.accessAllowed ? 'block' : 'none';\n",
       "\n",
       "        async function convertToInteractive(key) {\n",
       "          const element = document.querySelector('#df-90d02723-e860-4e56-ac31-fb9b7be6f9be');\n",
       "          const dataTable =\n",
       "            await google.colab.kernel.invokeFunction('convertToInteractive',\n",
       "                                                     [key], {});\n",
       "          if (!dataTable) return;\n",
       "\n",
       "          const docLinkHtml = 'Like what you see? Visit the ' +\n",
       "            '<a target=\"_blank\" href=https://colab.research.google.com/notebooks/data_table.ipynb>data table notebook</a>'\n",
       "            + ' to learn more about interactive tables.';\n",
       "          element.innerHTML = '';\n",
       "          dataTable['output_type'] = 'display_data';\n",
       "          await google.colab.output.renderOutput(dataTable, element);\n",
       "          const docLink = document.createElement('div');\n",
       "          docLink.innerHTML = docLinkHtml;\n",
       "          element.appendChild(docLink);\n",
       "        }\n",
       "      </script>\n",
       "    </div>\n",
       "  </div>\n",
       "  "
      ],
      "text/plain": [
       "   sentiment                                               text  pre_clean_len\n",
       "0          0  graduation tonight, im so nervous!  class of 0...             53\n",
       "1          4  @franki_ all on the african continent, and thr...             72\n",
       "2          4  At School(: Wishingg To Meet Thee Kardashian S...             53\n",
       "3          0              @rogiddy that link is bad  no picture             37\n",
       "4          4  @jessicatsang Im on study leave. Only have to ...             69"
      ]
     },
     "execution_count": 33,
     "metadata": {},
     "output_type": "execute_result"
    }
   ],
   "source": [
    "target2 = [] # initialize list\n",
    "for i in range(0,limit): # batch process 1.6 million tweets \n",
    "    target2.append(df['sentiment'][i])\n",
    "clean_df['target']=target2\n",
    "df.head()"
   ]
  },
  {
   "cell_type": "code",
   "execution_count": 34,
   "metadata": {
    "colab": {
     "base_uri": "https://localhost:8080/"
    },
    "execution": {
     "iopub.execute_input": "2022-04-23T02:55:18.744679Z",
     "iopub.status.busy": "2022-04-23T02:55:18.744339Z",
     "iopub.status.idle": "2022-04-23T02:55:19.186732Z",
     "shell.execute_reply": "2022-04-23T02:55:19.185771Z",
     "shell.execute_reply.started": "2022-04-23T02:55:18.744640Z"
    },
    "id": "dgkEfbFabZeO",
    "outputId": "eb8ee0dc-3f5b-4bd0-f2f2-2c145826a343"
   },
   "outputs": [
    {
     "name": "stdout",
     "output_type": "stream",
     "text": [
      "(50000,)\n",
      "(50000,)\n",
      "{0, 4}\n",
      "dict_values([24945, 25055])\n"
     ]
    }
   ],
   "source": [
    "X = clean_df.text # get all the text in x variable\n",
    "y = clean_df.target # get all the sentiments into y variable\n",
    "print(X.shape) #print shape of x\n",
    "print(y.shape) # print shape of y\n",
    "from collections import Counter\n",
    "print(set(y)) # equals to list(set(words))\n",
    "print(Counter(y).values()) #"
   ]
  },
  {
   "cell_type": "code",
   "execution_count": 35,
   "metadata": {
    "colab": {
     "base_uri": "https://localhost:8080/",
     "height": 206
    },
    "id": "UQpraShWv1qG",
    "outputId": "d3c92865-42c8-4c07-bd14-a4e6961985a2"
   },
   "outputs": [
    {
     "data": {
      "text/html": [
       "\n",
       "  <div id=\"df-675bc910-a666-4add-b39f-ee52cb9a89d3\">\n",
       "    <div class=\"colab-df-container\">\n",
       "      <div>\n",
       "<style scoped>\n",
       "    .dataframe tbody tr th:only-of-type {\n",
       "        vertical-align: middle;\n",
       "    }\n",
       "\n",
       "    .dataframe tbody tr th {\n",
       "        vertical-align: top;\n",
       "    }\n",
       "\n",
       "    .dataframe thead th {\n",
       "        text-align: right;\n",
       "    }\n",
       "</style>\n",
       "<table border=\"1\" class=\"dataframe\">\n",
       "  <thead>\n",
       "    <tr style=\"text-align: right;\">\n",
       "      <th></th>\n",
       "      <th>text</th>\n",
       "      <th>clean_len</th>\n",
       "      <th>target</th>\n",
       "    </tr>\n",
       "  </thead>\n",
       "  <tbody>\n",
       "    <tr>\n",
       "      <th>0</th>\n",
       "      <td>graduation tonight im so nervous class of</td>\n",
       "      <td>41</td>\n",
       "      <td>0</td>\n",
       "    </tr>\n",
       "    <tr>\n",
       "      <th>1</th>\n",
       "      <td>all on the african continent and throw in some...</td>\n",
       "      <td>60</td>\n",
       "      <td>1</td>\n",
       "    </tr>\n",
       "    <tr>\n",
       "      <th>2</th>\n",
       "      <td>at school wishingg to meet thee kardashian sister</td>\n",
       "      <td>49</td>\n",
       "      <td>1</td>\n",
       "    </tr>\n",
       "    <tr>\n",
       "      <th>3</th>\n",
       "      <td>that link is bad no picture</td>\n",
       "      <td>27</td>\n",
       "      <td>0</td>\n",
       "    </tr>\n",
       "    <tr>\n",
       "      <th>4</th>\n",
       "      <td>im on study leave only have to go to school fo...</td>\n",
       "      <td>52</td>\n",
       "      <td>1</td>\n",
       "    </tr>\n",
       "  </tbody>\n",
       "</table>\n",
       "</div>\n",
       "      <button class=\"colab-df-convert\" onclick=\"convertToInteractive('df-675bc910-a666-4add-b39f-ee52cb9a89d3')\"\n",
       "              title=\"Convert this dataframe to an interactive table.\"\n",
       "              style=\"display:none;\">\n",
       "        \n",
       "  <svg xmlns=\"http://www.w3.org/2000/svg\" height=\"24px\"viewBox=\"0 0 24 24\"\n",
       "       width=\"24px\">\n",
       "    <path d=\"M0 0h24v24H0V0z\" fill=\"none\"/>\n",
       "    <path d=\"M18.56 5.44l.94 2.06.94-2.06 2.06-.94-2.06-.94-.94-2.06-.94 2.06-2.06.94zm-11 1L8.5 8.5l.94-2.06 2.06-.94-2.06-.94L8.5 2.5l-.94 2.06-2.06.94zm10 10l.94 2.06.94-2.06 2.06-.94-2.06-.94-.94-2.06-.94 2.06-2.06.94z\"/><path d=\"M17.41 7.96l-1.37-1.37c-.4-.4-.92-.59-1.43-.59-.52 0-1.04.2-1.43.59L10.3 9.45l-7.72 7.72c-.78.78-.78 2.05 0 2.83L4 21.41c.39.39.9.59 1.41.59.51 0 1.02-.2 1.41-.59l7.78-7.78 2.81-2.81c.8-.78.8-2.07 0-2.86zM5.41 20L4 18.59l7.72-7.72 1.47 1.35L5.41 20z\"/>\n",
       "  </svg>\n",
       "      </button>\n",
       "      \n",
       "  <style>\n",
       "    .colab-df-container {\n",
       "      display:flex;\n",
       "      flex-wrap:wrap;\n",
       "      gap: 12px;\n",
       "    }\n",
       "\n",
       "    .colab-df-convert {\n",
       "      background-color: #E8F0FE;\n",
       "      border: none;\n",
       "      border-radius: 50%;\n",
       "      cursor: pointer;\n",
       "      display: none;\n",
       "      fill: #1967D2;\n",
       "      height: 32px;\n",
       "      padding: 0 0 0 0;\n",
       "      width: 32px;\n",
       "    }\n",
       "\n",
       "    .colab-df-convert:hover {\n",
       "      background-color: #E2EBFA;\n",
       "      box-shadow: 0px 1px 2px rgba(60, 64, 67, 0.3), 0px 1px 3px 1px rgba(60, 64, 67, 0.15);\n",
       "      fill: #174EA6;\n",
       "    }\n",
       "\n",
       "    [theme=dark] .colab-df-convert {\n",
       "      background-color: #3B4455;\n",
       "      fill: #D2E3FC;\n",
       "    }\n",
       "\n",
       "    [theme=dark] .colab-df-convert:hover {\n",
       "      background-color: #434B5C;\n",
       "      box-shadow: 0px 1px 3px 1px rgba(0, 0, 0, 0.15);\n",
       "      filter: drop-shadow(0px 1px 2px rgba(0, 0, 0, 0.3));\n",
       "      fill: #FFFFFF;\n",
       "    }\n",
       "  </style>\n",
       "\n",
       "      <script>\n",
       "        const buttonEl =\n",
       "          document.querySelector('#df-675bc910-a666-4add-b39f-ee52cb9a89d3 button.colab-df-convert');\n",
       "        buttonEl.style.display =\n",
       "          google.colab.kernel.accessAllowed ? 'block' : 'none';\n",
       "\n",
       "        async function convertToInteractive(key) {\n",
       "          const element = document.querySelector('#df-675bc910-a666-4add-b39f-ee52cb9a89d3');\n",
       "          const dataTable =\n",
       "            await google.colab.kernel.invokeFunction('convertToInteractive',\n",
       "                                                     [key], {});\n",
       "          if (!dataTable) return;\n",
       "\n",
       "          const docLinkHtml = 'Like what you see? Visit the ' +\n",
       "            '<a target=\"_blank\" href=https://colab.research.google.com/notebooks/data_table.ipynb>data table notebook</a>'\n",
       "            + ' to learn more about interactive tables.';\n",
       "          element.innerHTML = '';\n",
       "          dataTable['output_type'] = 'display_data';\n",
       "          await google.colab.output.renderOutput(dataTable, element);\n",
       "          const docLink = document.createElement('div');\n",
       "          docLink.innerHTML = docLinkHtml;\n",
       "          element.appendChild(docLink);\n",
       "        }\n",
       "      </script>\n",
       "    </div>\n",
       "  </div>\n",
       "  "
      ],
      "text/plain": [
       "                                                text  clean_len  target\n",
       "0          graduation tonight im so nervous class of         41       0\n",
       "1  all on the african continent and throw in some...         60       1\n",
       "2  at school wishingg to meet thee kardashian sister         49       1\n",
       "3                        that link is bad no picture         27       0\n",
       "4  im on study leave only have to go to school fo...         52       1"
      ]
     },
     "execution_count": 35,
     "metadata": {},
     "output_type": "execute_result"
    }
   ],
   "source": [
    "clean_df['target'] = clean_df['target'].replace([4],1)\n",
    "clean_df.head()"
   ]
  },
  {
   "cell_type": "code",
   "execution_count": 36,
   "metadata": {
    "execution": {
     "iopub.execute_input": "2022-04-23T02:55:26.032040Z",
     "iopub.status.busy": "2022-04-23T02:55:26.031485Z",
     "iopub.status.idle": "2022-04-23T02:55:26.461435Z",
     "shell.execute_reply": "2022-04-23T02:55:26.460676Z",
     "shell.execute_reply.started": "2022-04-23T02:55:26.032000Z"
    },
    "id": "6tJJQrBXbZeP"
   },
   "outputs": [],
   "source": [
    "#Train test split\n",
    "from sklearn.model_selection  import train_test_split #from sklearn.cross_validation import train_test_split to split the data into training and tesing set\n",
    "X_train, X_test, y_train, y_test = train_test_split(X, y, test_size = 0.20, random_state= 1) # split the data into traing and testing set where ratio is 80:20"
   ]
  },
  {
   "cell_type": "markdown",
   "metadata": {
    "id": "OU-Gd7qQwfqX"
   },
   "source": [
    "**Now lets import BERT model and get embeding vectors for few sample statementst**"
   ]
  },
  {
   "cell_type": "code",
   "execution_count": 45,
   "metadata": {
    "id": "t7ktRPPvwWh6"
   },
   "outputs": [],
   "source": [
    "bert_preprocess = hub.KerasLayer(\"https://tfhub.dev/tensorflow/bert_en_uncased_preprocess/3\")\n",
    "bert_encoder = hub.KerasLayer(\"https://tfhub.dev/tensorflow/bert_en_uncased_L-12_H-768_A-12/4\")"
   ]
  },
  {
   "cell_type": "code",
   "execution_count": 47,
   "metadata": {
    "id": "0Bfu2BptwX_q"
   },
   "outputs": [],
   "source": [
    "def get_sentence_embeding(sentences):\n",
    "    preprocessed_text = bert_preprocess(sentences)\n",
    "    return bert_encoder(preprocessed_text)['pooled_output']\n"
   ]
  },
  {
   "cell_type": "code",
   "execution_count": 50,
   "metadata": {
    "colab": {
     "base_uri": "https://localhost:8080/"
    },
    "id": "qxfkIV7etoAW",
    "outputId": "a0344eed-6ee1-4fa9-b25b-e6a0809470b4"
   },
   "outputs": [
    {
     "data": {
      "text/plain": [
       "<tf.Tensor: shape=(1, 768), dtype=float32, numpy=\n",
       "array([[-0.92170006, -0.57029945, -0.92387027,  0.8843052 ,  0.7189356 ,\n",
       "        -0.19398037,  0.8955859 ,  0.30682757, -0.8911597 , -0.99998516,\n",
       "        -0.5485276 ,  0.97322816,  0.9828367 ,  0.6779696 ,  0.9351617 ,\n",
       "        -0.82962716, -0.7286841 , -0.5893018 ,  0.27656752, -0.62238616,\n",
       "         0.6969076 ,  0.9999958 , -0.10084075,  0.28241718,  0.48618537,\n",
       "         0.9975081 , -0.84947807,  0.9353397 ,  0.9707267 ,  0.7259066 ,\n",
       "        -0.72616017,  0.17177042, -0.99111587, -0.1669924 , -0.93336904,\n",
       "        -0.99017143,  0.45079854, -0.7245514 ,  0.11287885,  0.02041359,\n",
       "        -0.88679415,  0.25372544,  0.99998975, -0.16751298,  0.31784052,\n",
       "        -0.24832152, -1.        ,  0.13007735, -0.88245916,  0.95829266,\n",
       "         0.8688855 ,  0.92683613,  0.23381405,  0.52252513,  0.6286973 ,\n",
       "        -0.08835024, -0.04987004,  0.06198427, -0.27410173, -0.6289589 ,\n",
       "        -0.5646199 ,  0.505959  , -0.9115629 , -0.87651634,  0.96232516,\n",
       "         0.8728143 , -0.15280871, -0.20210555, -0.25710654, -0.2736974 ,\n",
       "         0.8887825 ,  0.25634018,  0.29401192, -0.88831806,  0.76970404,\n",
       "         0.3526817 , -0.70613366,  1.        , -0.83367956, -0.97981805,\n",
       "         0.93563557,  0.8166622 ,  0.6059009 , -0.34833643,  0.52118576,\n",
       "        -1.        ,  0.6821107 , -0.05844327, -0.99249774,  0.14943878,\n",
       "         0.6179555 , -0.2924157 ,  0.65207034,  0.59586793, -0.6348849 ,\n",
       "        -0.46199787, -0.34140337, -0.9003101 , -0.3459518 , -0.45757407,\n",
       "        -0.03875079, -0.15936513, -0.45973724, -0.3892045 ,  0.29578966,\n",
       "        -0.6002928 , -0.6534448 ,  0.58334684,  0.14862083,  0.69321334,\n",
       "         0.51281667, -0.41371566,  0.5906333 , -0.9667271 ,  0.7033989 ,\n",
       "        -0.30127594, -0.9886518 , -0.6531184 , -0.9891677 ,  0.7977916 ,\n",
       "        -0.29811156, -0.24102752,  0.9634878 , -0.5141188 ,  0.43039498,\n",
       "         0.08101039, -0.9536374 , -1.        , -0.8120984 , -0.4669374 ,\n",
       "        -0.36372274, -0.37284163, -0.9813217 , -0.9636385 ,  0.5319943 ,\n",
       "         0.9627397 ,  0.23023452,  0.99996024, -0.39622313,  0.9569898 ,\n",
       "        -0.42696196, -0.6610196 ,  0.59714025, -0.46026325,  0.8133695 ,\n",
       "         0.36756346, -0.5551251 ,  0.11729386, -0.4438704 ,  0.3798989 ,\n",
       "        -0.73130566, -0.13086198, -0.7976188 , -0.9450307 , -0.34702232,\n",
       "         0.95714676, -0.48974273, -0.9677055 , -0.22476016, -0.3590071 ,\n",
       "        -0.4676571 ,  0.8565939 ,  0.80102974,  0.38124448, -0.4734444 ,\n",
       "         0.50295705,  0.17507188,  0.5236784 , -0.81017375, -0.00732856,\n",
       "         0.50510603, -0.40544456, -0.90912676, -0.9798551 , -0.3968671 ,\n",
       "         0.45366096,  0.99051595,  0.7266615 ,  0.35637262,  0.7882724 ,\n",
       "        -0.31173453,  0.7240958 , -0.97553927,  0.98160946, -0.3604566 ,\n",
       "         0.24649061,  0.05381468,  0.62764704, -0.880914  , -0.03294906,\n",
       "         0.8865208 , -0.72018135, -0.86973315, -0.0502984 , -0.52921677,\n",
       "        -0.4114197 , -0.8581548 ,  0.50509757, -0.34134468, -0.2488767 ,\n",
       "        -0.11124384,  0.9139832 ,  0.9840456 ,  0.85425454,  0.3784142 ,\n",
       "         0.7303471 , -0.8981815 , -0.5797495 ,  0.08763091,  0.1954981 ,\n",
       "         0.3113126 ,  0.9945237 , -0.39664164, -0.15830784, -0.93123794,\n",
       "        -0.99281186, -0.09470624, -0.92063713, -0.29576948, -0.61805767,\n",
       "         0.66792065, -0.1035182 ,  0.6290909 ,  0.38352215, -0.991776  ,\n",
       "        -0.79936314,  0.39722908, -0.4620191 ,  0.45081455, -0.19435765,\n",
       "         0.4878106 ,  0.9666304 , -0.68219507,  0.809359  ,  0.95591307,\n",
       "        -0.93929666, -0.7557424 ,  0.8424721 , -0.40273327,  0.89991975,\n",
       "        -0.6449261 ,  0.9917193 ,  0.9628658 ,  0.89970475, -0.9387685 ,\n",
       "        -0.8249051 , -0.88626117, -0.7939045 , -0.07224846,  0.08072993,\n",
       "         0.9299035 ,  0.6275075 ,  0.45957062,  0.5399992 , -0.7143794 ,\n",
       "         0.99843514, -0.5254607 , -0.96396095, -0.01616075, -0.30740666,\n",
       "        -0.9903226 ,  0.87977064,  0.27236506,  0.09929597, -0.49169073,\n",
       "        -0.48322904, -0.96711165,  0.8846869 ,  0.01494962,  0.9888602 ,\n",
       "        -0.20550075, -0.9547456 , -0.6484149 , -0.93523693, -0.3722525 ,\n",
       "        -0.39235976, -0.5385793 , -0.01638877, -0.9621248 ,  0.5460171 ,\n",
       "         0.49814937,  0.5684132 , -0.9111478 ,  0.99927974,  1.        ,\n",
       "         0.97672296,  0.91362524,  0.9270181 , -0.9999252 , -0.5482651 ,\n",
       "         0.99999607, -0.99802804, -1.        , -0.9030707 , -0.6937349 ,\n",
       "         0.2730846 , -1.        , -0.05880908,  0.14713502, -0.9117133 ,\n",
       "         0.65297586,  0.98162025,  0.9945722 , -1.        ,  0.7982305 ,\n",
       "         0.9129396 , -0.722559  ,  0.98689485, -0.297473  ,  0.95814455,\n",
       "         0.577809  ,  0.10746727, -0.35035023,  0.3710162 , -0.95607954,\n",
       "        -0.86772406, -0.61363363, -0.8453305 ,  0.99948823,  0.01904429,\n",
       "        -0.80954874, -0.9297114 ,  0.32528698, -0.20006894, -0.18369186,\n",
       "        -0.9643847 , -0.18834366,  0.7033314 ,  0.8285981 ,  0.07701242,\n",
       "         0.31647933, -0.7009258 ,  0.31503808,  0.16668144,  0.13919312,\n",
       "         0.7570214 , -0.90165156, -0.6472606 , -0.3314367 , -0.27851146,\n",
       "        -0.7418458 , -0.9689535 ,  0.9769131 , -0.52257687,  0.90276206,\n",
       "         1.        , -0.09468805, -0.87818855,  0.7539434 ,  0.30405018,\n",
       "         0.28172168,  1.        ,  0.9272157 , -0.9852432 , -0.6823932 ,\n",
       "         0.58107185, -0.6779687 , -0.734268  ,  0.99921703, -0.37192494,\n",
       "        -0.72055143, -0.47060028,  0.9854378 , -0.9912511 ,  0.9980986 ,\n",
       "        -0.9036077 , -0.9792591 ,  0.9757238 ,  0.94283277, -0.7871974 ,\n",
       "        -0.7434577 ,  0.24002628, -0.6824069 ,  0.19956669, -0.9640872 ,\n",
       "         0.8530575 ,  0.5016858 , -0.15405585,  0.9135429 , -0.90231985,\n",
       "        -0.56331044,  0.36654887, -0.80009264, -0.1232852 ,  0.9584322 ,\n",
       "         0.6189006 , -0.23642159,  0.14995678, -0.27605355,  0.09161702,\n",
       "        -0.97356343,  0.63189936,  1.        , -0.35159925,  0.7202422 ,\n",
       "        -0.47190508,  0.04730211, -0.14545499,  0.54982436,  0.58444864,\n",
       "        -0.25606406, -0.83538896,  0.77870035, -0.98022014, -0.9891527 ,\n",
       "         0.7453306 ,  0.13238566, -0.28061646,  0.9999994 ,  0.65283865,\n",
       "         0.23026185,  0.53895944,  0.99470305,  0.02553484,  0.567437  ,\n",
       "         0.93216884,  0.97852355, -0.1503675 ,  0.6654642 ,  0.8989007 ,\n",
       "        -0.9385791 , -0.32250768, -0.68504786,  0.11128949, -0.9359447 ,\n",
       "         0.00460527, -0.9775774 ,  0.970169  ,  0.9785703 ,  0.33461118,\n",
       "         0.420827  ,  0.7498932 ,  1.        ,  0.06618161,  0.62280643,\n",
       "        -0.47132277,  0.8494862 , -0.9999173 , -0.8407542 , -0.44446617,\n",
       "         0.03078645, -0.8944311 , -0.26321343,  0.3605513 , -0.97353727,\n",
       "         0.8759988 ,  0.71966463, -0.9936223 , -0.98985803, -0.35607064,\n",
       "         0.94329834,  0.06921841, -0.98416644, -0.8010332 , -0.60203546,\n",
       "         0.4435255 , -0.21972439, -0.93860435, -0.42946813, -0.29368418,\n",
       "         0.65506774, -0.00993888,  0.56907946,  0.9128946 ,  0.777582  ,\n",
       "        -0.7966958 , -0.2501744 , -0.07261363, -0.8672859 ,  0.8751739 ,\n",
       "        -0.8483938 , -0.95910347, -0.10820875,  1.        , -0.55220824,\n",
       "         0.92398185,  0.6312671 ,  0.808077  , -0.17141488,  0.1507315 ,\n",
       "         0.96469235,  0.24772434, -0.778571  , -0.89620817, -0.77891   ,\n",
       "        -0.40534085,  0.79582584,  0.426408  ,  0.70686203,  0.8463883 ,\n",
       "         0.7842989 ,  0.28485274, -0.03861226, -0.09437215,  0.9998455 ,\n",
       "        -0.46902367, -0.24687293, -0.6307884 , -0.00139935, -0.40158713,\n",
       "        -0.6331931 ,  1.        ,  0.3290215 ,  0.29632503, -0.98918235,\n",
       "        -0.9108157 , -0.9064604 ,  1.        ,  0.8603507 , -0.76168215,\n",
       "         0.7256827 ,  0.7205385 , -0.0826278 ,  0.8289754 , -0.15307437,\n",
       "        -0.18912171,  0.3503468 ,  0.09033158,  0.9583675 , -0.6055611 ,\n",
       "        -0.97700274, -0.72147363,  0.43941724, -0.9608629 ,  0.9999647 ,\n",
       "        -0.6039162 , -0.13756123, -0.31775075, -0.23236941,  0.49586475,\n",
       "         0.01148872, -0.98874164, -0.24119335,  0.220057  ,  0.9691159 ,\n",
       "         0.2339644 , -0.6694091 , -0.9160072 ,  0.885569  ,  0.82283354,\n",
       "        -0.959621  , -0.949074  ,  0.96436167, -0.9888929 ,  0.72974163,\n",
       "         1.        ,  0.44245163,  0.16749522,  0.19204515, -0.53397644,\n",
       "         0.39298338, -0.4848536 ,  0.7272936 , -0.9713658 , -0.39769068,\n",
       "        -0.139019  ,  0.58106387, -0.17978305, -0.5311405 ,  0.64838517,\n",
       "         0.17659917, -0.5993587 , -0.67959046, -0.025131  ,  0.5205842 ,\n",
       "         0.87443113, -0.33385673, -0.19357008,  0.14770855, -0.2598566 ,\n",
       "        -0.9349679 , -0.3531165 , -0.47909978, -0.9999976 ,  0.7961794 ,\n",
       "        -1.        ,  0.61480236,  0.26916608, -0.23919475,  0.8408382 ,\n",
       "         0.45860428,  0.646318  , -0.7758776 , -0.9129917 ,  0.33868894,\n",
       "         0.8268616 , -0.31422877, -0.6079967 , -0.75135124,  0.34125206,\n",
       "        -0.06243453,  0.20097342, -0.686858  ,  0.73773164, -0.29018268,\n",
       "         1.        ,  0.18286638, -0.7797671 , -0.9816965 ,  0.24433789,\n",
       "        -0.25182378,  1.        , -0.9383906 , -0.9656731 ,  0.37533462,\n",
       "        -0.81592494, -0.85837346,  0.34468815,  0.03574242, -0.8401538 ,\n",
       "        -0.97596776,  0.94149154,  0.93907946, -0.7083091 ,  0.50482965,\n",
       "        -0.28430155, -0.62862897,  0.11598901,  0.9053086 ,  0.98996097,\n",
       "         0.25734514,  0.90520996,  0.02297625, -0.3426853 ,  0.9646275 ,\n",
       "         0.22283897,  0.5047276 ,  0.18895608,  1.        ,  0.31939077,\n",
       "        -0.9320632 ,  0.1804256 , -0.9826082 , -0.20815735, -0.9566304 ,\n",
       "         0.32410982,  0.35226136,  0.9275489 , -0.22533388,  0.9494037 ,\n",
       "        -0.8802112 ,  0.06252407, -0.775999  , -0.5986285 ,  0.43190032,\n",
       "        -0.93405086, -0.9812982 , -0.9833851 ,  0.7438891 , -0.46084934,\n",
       "        -0.07169689,  0.20773801,  0.21049377,  0.4346075 ,  0.5863451 ,\n",
       "        -1.        ,  0.9608697 ,  0.49212697,  0.94281524,  0.9670914 ,\n",
       "         0.75962734,  0.46753863,  0.2815338 , -0.98570955, -0.9872887 ,\n",
       "        -0.42315483, -0.16668864,  0.75664634,  0.69319165,  0.919819  ,\n",
       "         0.5308382 , -0.47819382, -0.22933039, -0.58036155, -0.7039785 ,\n",
       "        -0.99472433,  0.49253163, -0.58567417, -0.97360563,  0.967978  ,\n",
       "        -0.03829112, -0.08174783, -0.17309114, -0.8335988 ,  0.9477904 ,\n",
       "         0.7640129 ,  0.46082103,  0.05959357,  0.473453  ,  0.9089525 ,\n",
       "         0.95350397,  0.98007005, -0.8960242 ,  0.7998692 , -0.7798751 ,\n",
       "         0.560976  ,  0.5013022 , -0.9545361 ,  0.22611347,  0.53062916,\n",
       "        -0.5011047 ,  0.24289516, -0.19748259, -0.97334915,  0.27420658,\n",
       "        -0.33879212,  0.55227786, -0.4727546 ,  0.0547722 , -0.4086738 ,\n",
       "        -0.11816499, -0.64686215, -0.813099  ,  0.7556095 ,  0.50951105,\n",
       "         0.9100658 ,  0.8230565 , -0.13761508, -0.78350085, -0.31532705,\n",
       "        -0.85808253, -0.9386367 ,  0.887345  , -0.14052317, -0.5091856 ,\n",
       "         0.6510473 , -0.03537811,  0.52487004,  0.30671674, -0.57983077,\n",
       "        -0.42795473, -0.7645109 ,  0.80462927, -0.36181548, -0.61963964,\n",
       "        -0.63979   ,  0.61039585,  0.2706039 ,  0.99999017, -0.8231331 ,\n",
       "        -0.9473156 , -0.48657647, -0.52322364,  0.42142984, -0.622391  ,\n",
       "        -1.        ,  0.28164104, -0.64880884,  0.7684079 , -0.7769594 ,\n",
       "         0.91409314, -0.7344838 , -0.9790025 , -0.19554166,  0.4568454 ,\n",
       "         0.73785704, -0.50072074, -0.76549643,  0.63679874, -0.5450974 ,\n",
       "         0.9884384 ,  0.8711114 , -0.52045906,  0.08928619,  0.760345  ,\n",
       "        -0.72005224, -0.72254753,  0.927171  ]], dtype=float32)>"
      ]
     },
     "execution_count": 50,
     "metadata": {},
     "output_type": "execute_result"
    }
   ],
   "source": [
    "get_sentence_embeding([X_train[0]])"
   ]
  },
  {
   "cell_type": "markdown",
   "metadata": {
    "id": "LGg1A_PotaOm"
   },
   "source": [
    "**Build Model**"
   ]
  },
  {
   "cell_type": "code",
   "execution_count": 53,
   "metadata": {
    "id": "HNqd-SNmtXRk"
   },
   "outputs": [],
   "source": [
    "# Bert layers\n",
    "text_input = tf.keras.layers.Input(shape=(), dtype=tf.string, name='text')\n",
    "preprocessed_text = bert_preprocess(text_input)\n",
    "outputs = bert_encoder(preprocessed_text)\n",
    "\n",
    "# Neural network layers\n",
    "l = tf.keras.layers.Dropout(0.1, name=\"dropout\")(outputs['pooled_output'])\n",
    "l = tf.keras.layers.Dense(1, activation='sigmoid', name=\"output\")(l)\n",
    "\n",
    "# Use inputs and outputs to construct a final model\n",
    "model = tf.keras.Model(inputs=[text_input], outputs = [l])"
   ]
  },
  {
   "cell_type": "code",
   "execution_count": 54,
   "metadata": {
    "colab": {
     "base_uri": "https://localhost:8080/"
    },
    "id": "leIf7i9it4HM",
    "outputId": "4cd20dd0-c70f-431a-b4f4-cea077047c46"
   },
   "outputs": [
    {
     "name": "stdout",
     "output_type": "stream",
     "text": [
      "Model: \"model\"\n",
      "__________________________________________________________________________________________________\n",
      " Layer (type)                   Output Shape         Param #     Connected to                     \n",
      "==================================================================================================\n",
      " text (InputLayer)              [(None,)]            0           []                               \n",
      "                                                                                                  \n",
      " keras_layer (KerasLayer)       {'input_word_ids':   0           ['text[0][0]']                   \n",
      "                                (None, 128),                                                      \n",
      "                                 'input_type_ids':                                                \n",
      "                                (None, 128),                                                      \n",
      "                                 'input_mask': (Non                                               \n",
      "                                e, 128)}                                                          \n",
      "                                                                                                  \n",
      " keras_layer_1 (KerasLayer)     {'encoder_outputs':  109482241   ['keras_layer[0][0]',            \n",
      "                                 [(None, 128, 768),               'keras_layer[0][1]',            \n",
      "                                 (None, 128, 768),                'keras_layer[0][2]']            \n",
      "                                 (None, 128, 768),                                                \n",
      "                                 (None, 128, 768),                                                \n",
      "                                 (None, 128, 768),                                                \n",
      "                                 (None, 128, 768),                                                \n",
      "                                 (None, 128, 768),                                                \n",
      "                                 (None, 128, 768),                                                \n",
      "                                 (None, 128, 768),                                                \n",
      "                                 (None, 128, 768),                                                \n",
      "                                 (None, 128, 768),                                                \n",
      "                                 (None, 128, 768)],                                               \n",
      "                                 'sequence_output':                                               \n",
      "                                 (None, 128, 768),                                                \n",
      "                                 'pooled_output': (                                               \n",
      "                                None, 768),                                                       \n",
      "                                 'default': (None,                                                \n",
      "                                768)}                                                             \n",
      "                                                                                                  \n",
      " dropout (Dropout)              (None, 768)          0           ['keras_layer_1[0][13]']         \n",
      "                                                                                                  \n",
      " output (Dense)                 (None, 1)            769         ['dropout[0][0]']                \n",
      "                                                                                                  \n",
      "==================================================================================================\n",
      "Total params: 109,483,010\n",
      "Trainable params: 769\n",
      "Non-trainable params: 109,482,241\n",
      "__________________________________________________________________________________________________\n"
     ]
    }
   ],
   "source": [
    "model.summary()\n"
   ]
  },
  {
   "cell_type": "code",
   "execution_count": 55,
   "metadata": {
    "id": "N3sQ7CFKuEkB"
   },
   "outputs": [],
   "source": [
    "METRICS = [\n",
    "      tf.keras.metrics.BinaryAccuracy(name='accuracy'),\n",
    "      tf.keras.metrics.Precision(name='precision'),\n",
    "      tf.keras.metrics.Recall(name='recall')\n",
    "]\n",
    "\n",
    "model.compile(optimizer='adam',\n",
    "              loss='binary_crossentropy',\n",
    "              metrics=METRICS)"
   ]
  },
  {
   "cell_type": "code",
   "execution_count": 57,
   "metadata": {
    "colab": {
     "base_uri": "https://localhost:8080/"
    },
    "id": "EzEL2feIuO2w",
    "outputId": "fd7941ac-6cc1-44fa-ffb3-fdd17ec70e3d"
   },
   "outputs": [
    {
     "name": "stdout",
     "output_type": "stream",
     "text": [
      "Epoch 1/5\n",
      "5000/5000 [==============================] - 526s 105ms/step - loss: 0.6191 - accuracy: 0.6541 - precision: 0.6527 - recall: 0.6667 - val_loss: 0.5714 - val_accuracy: 0.7104 - val_precision: 0.7564 - val_recall: 0.6115\n",
      "Epoch 2/5\n",
      "5000/5000 [==============================] - 524s 105ms/step - loss: 0.5820 - accuracy: 0.6944 - precision: 0.6932 - recall: 0.7035 - val_loss: 0.5760 - val_accuracy: 0.6995 - val_precision: 0.6396 - val_recall: 0.8991\n",
      "Epoch 3/5\n",
      "5000/5000 [==============================] - 524s 105ms/step - loss: 0.5698 - accuracy: 0.7047 - precision: 0.7024 - recall: 0.7158 - val_loss: 0.5374 - val_accuracy: 0.7323 - val_precision: 0.7793 - val_recall: 0.6402\n",
      "Epoch 4/5\n",
      "5000/5000 [==============================] - 524s 105ms/step - loss: 0.5671 - accuracy: 0.7065 - precision: 0.7055 - recall: 0.7145 - val_loss: 0.5261 - val_accuracy: 0.7431 - val_precision: 0.7342 - val_recall: 0.7534\n",
      "Epoch 5/5\n",
      "5000/5000 [==============================] - 524s 105ms/step - loss: 0.5653 - accuracy: 0.7118 - precision: 0.7101 - recall: 0.7211 - val_loss: 0.5301 - val_accuracy: 0.7364 - val_precision: 0.7698 - val_recall: 0.6665\n"
     ]
    },
    {
     "data": {
      "text/plain": [
       "<keras.callbacks.History at 0x7fc048405e90>"
      ]
     },
     "execution_count": 57,
     "metadata": {},
     "output_type": "execute_result"
    }
   ],
   "source": [
    "model.fit(X_train,y_train,validation_data=(X_test,y_test),epochs=5,batch_size=8)"
   ]
  },
  {
   "cell_type": "code",
   "execution_count": 58,
   "metadata": {
    "colab": {
     "base_uri": "https://localhost:8080/",
     "height": 282
    },
    "id": "mgrMcvwRuTvT",
    "outputId": "ddcfc82e-c67d-40d4-fe36-aaa9a7d0f22f"
   },
   "outputs": [
    {
     "data": {
      "text/plain": [
       "<matplotlib.axes._subplots.AxesSubplot at 0x7fc0443b5d90>"
      ]
     },
     "execution_count": 58,
     "metadata": {},
     "output_type": "execute_result"
    },
    {
     "data": {
      "image/png": "[encoded data removed]",
      "text/plain": [
       "<Figure size 432x288 with 1 Axes>"
      ]
     },
     "metadata": {
      "needs_background": "light"
     },
     "output_type": "display_data"
    }
   ],
   "source": [
    "model_loss = pd.DataFrame(model.history.history)\n",
    "model_loss.plot()"
   ]
  },
  {
   "cell_type": "code",
   "execution_count": 59,
   "metadata": {
    "id": "4kVrePc05WxE"
   },
   "outputs": [],
   "source": [
    "predictions = (model.predict(X_test) > 0.5).astype(\"int32\")"
   ]
  },
  {
   "cell_type": "code",
   "execution_count": 60,
   "metadata": {
    "colab": {
     "base_uri": "https://localhost:8080/"
    },
    "id": "vaZhu0y45b7g",
    "outputId": "fd8462d2-3a69-49c6-c23c-0a58e9bf19fb"
   },
   "outputs": [
    {
     "name": "stdout",
     "output_type": "stream",
     "text": [
      "              precision    recall  f1-score   support\n",
      "\n",
      "           0       0.71      0.80      0.76      5053\n",
      "           1       0.77      0.67      0.71      4947\n",
      "\n",
      "    accuracy                           0.74     10000\n",
      "   macro avg       0.74      0.74      0.73     10000\n",
      "weighted avg       0.74      0.74      0.74     10000\n",
      "\n"
     ]
    }
   ],
   "source": [
    "#Model Evaluation\n",
    "from sklearn.metrics import classification_report,confusion_matrix\n",
    "print(classification_report(y_test,predictions))"
   ]
  },
  {
   "cell_type": "code",
   "execution_count": 61,
   "metadata": {
    "colab": {
     "base_uri": "https://localhost:8080/"
    },
    "id": "ZvofBMgY5eET",
    "outputId": "752afeae-42ea-4774-cfda-1fe30f4f7444"
   },
   "outputs": [
    {
     "data": {
      "text/plain": [
       "array([[4067,  986],\n",
       "       [1650, 3297]])"
      ]
     },
     "execution_count": 61,
     "metadata": {},
     "output_type": "execute_result"
    }
   ],
   "source": [
    "#Confucion matrix\n",
    "from sklearn.metrics import classification_report,confusion_matrix # import confusion matrix from the sklearn.metrics\n",
    "confusion_matrix(y_test, predictions)"
   ]
  },
  {
   "cell_type": "code",
   "execution_count": null,
   "metadata": {
    "id": "KCvTq4Tj5zBa"
   },
   "outputs": [],
   "source": []
  }
 ],
 "metadata": {
  "accelerator": "GPU",
  "colab": {
   "name": "BERT 74.ipynb",
   "provenance": []
  },
  "kernelspec": {
   "display_name": "Python 3 (ipykernel)",
   "language": "python",
   "name": "python3"
  },
  "language_info": {
   "codemirror_mode": {
    "name": "ipython",
    "version": 3
   },
   "file_extension": ".py",
   "mimetype": "text/x-python",
   "name": "python",
   "nbconvert_exporter": "python",
   "pygments_lexer": "ipython3",
   "version": "3.10.4"
  }
 },
 "nbformat": 4,
 "nbformat_minor": 1
}
