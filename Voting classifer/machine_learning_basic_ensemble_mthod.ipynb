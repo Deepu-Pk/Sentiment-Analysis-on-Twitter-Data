{
  "metadata": {
    "kernelspec": {
      "language": "python",
      "display_name": "Python 3",
      "name": "python3"
    },
    "language_info": {
      "name": "python",
      "version": "3.7.12",
      "mimetype": "text/x-python",
      "codemirror_mode": {
        "name": "ipython",
        "version": 3
      },
      "pygments_lexer": "ipython3",
      "nbconvert_exporter": "python",
      "file_extension": ".py"
    },
    "colab": {
      "name": "machine-learning_basic ensemble mthod.ipynb",
      "provenance": []
    },
    "accelerator": "GPU"
  },
  "nbformat_minor": 0,
  "nbformat": 4,
  "cells": [
    {
      "cell_type": "markdown",
      "source": [
        "# Importing Libraries"
      ],
      "metadata": {
        "id": "ELNnUeq5JhmB"
      }
    },
    {
      "cell_type": "code",
      "source": [
        "from google.colab import drive\n",
        "drive.mount('/content/gdrive')"
      ],
      "metadata": {
        "colab": {
          "base_uri": "https://localhost:8080/"
        },
        "id": "yXHRyTq9JieS",
        "outputId": "9bf65164-8b04-48e4-b33a-14725020372f"
      },
      "execution_count": 3,
      "outputs": [
        {
          "output_type": "stream",
          "name": "stdout",
          "text": [
            "Mounted at /content/gdrive\n"
          ]
        }
      ]
    },
    {
      "cell_type": "code",
      "source": [
        "import numpy as numpy\n",
        "import pandas as pd"
      ],
      "metadata": {
        "execution": {
          "iopub.status.busy": "2022-06-05T03:33:39.047266Z",
          "iopub.execute_input": "2022-06-05T03:33:39.047936Z",
          "iopub.status.idle": "2022-06-05T03:33:39.059238Z",
          "shell.execute_reply.started": "2022-06-05T03:33:39.047838Z",
          "shell.execute_reply": "2022-06-05T03:33:39.058331Z"
        },
        "trusted": true,
        "id": "EjIaqmYcJhmI"
      },
      "execution_count": 4,
      "outputs": []
    },
    {
      "cell_type": "code",
      "source": [
        "#To visualize the data in the project"
      ],
      "metadata": {
        "execution": {
          "iopub.status.busy": "2022-06-05T03:33:39.060620Z",
          "iopub.execute_input": "2022-06-05T03:33:39.061090Z",
          "iopub.status.idle": "2022-06-05T03:33:39.070277Z",
          "shell.execute_reply.started": "2022-06-05T03:33:39.061048Z",
          "shell.execute_reply": "2022-06-05T03:33:39.069425Z"
        },
        "trusted": true,
        "id": "9uH2rjqEJhmN"
      },
      "execution_count": 5,
      "outputs": []
    },
    {
      "cell_type": "code",
      "source": [
        "import matplotlib\n",
        "import matplotlib.pyplot as plt\n",
        "%matplotlib inline\n",
        "import seaborn as sns"
      ],
      "metadata": {
        "execution": {
          "iopub.status.busy": "2022-06-05T03:33:39.072466Z",
          "iopub.execute_input": "2022-06-05T03:33:39.073149Z",
          "iopub.status.idle": "2022-06-05T03:33:39.548632Z",
          "shell.execute_reply.started": "2022-06-05T03:33:39.073111Z",
          "shell.execute_reply": "2022-06-05T03:33:39.547807Z"
        },
        "trusted": true,
        "id": "H-41IPGmJhmP"
      },
      "execution_count": 6,
      "outputs": []
    },
    {
      "cell_type": "code",
      "source": [
        "import sklearn\n",
        "from sklearn.utils import shuffle \n",
        "from sklearn.feature_extraction.text import TfidfVectorizer"
      ],
      "metadata": {
        "execution": {
          "iopub.status.busy": "2022-06-05T03:33:39.551051Z",
          "iopub.execute_input": "2022-06-05T03:33:39.551465Z",
          "iopub.status.idle": "2022-06-05T03:33:39.593866Z",
          "shell.execute_reply.started": "2022-06-05T03:33:39.551425Z",
          "shell.execute_reply": "2022-06-05T03:33:39.593112Z"
        },
        "trusted": true,
        "id": "m3SldgyRJhmQ"
      },
      "execution_count": 7,
      "outputs": []
    },
    {
      "cell_type": "markdown",
      "source": [
        "NLP Preprocessing libraries"
      ],
      "metadata": {
        "id": "nKVSGkqMJhmS"
      }
    },
    {
      "cell_type": "code",
      "source": [
        "import nltk\n",
        "from nltk.corpus import stopwords\n",
        "from nltk.tokenize import word_tokenize"
      ],
      "metadata": {
        "execution": {
          "iopub.status.busy": "2022-06-05T03:33:39.595218Z",
          "iopub.execute_input": "2022-06-05T03:33:39.595633Z",
          "iopub.status.idle": "2022-06-05T03:33:39.785772Z",
          "shell.execute_reply.started": "2022-06-05T03:33:39.595594Z",
          "shell.execute_reply": "2022-06-05T03:33:39.784702Z"
        },
        "trusted": true,
        "id": "0bBlhF8sJhmT"
      },
      "execution_count": 8,
      "outputs": []
    },
    {
      "cell_type": "code",
      "source": [
        "import re\n",
        "import random\n",
        "import gensim"
      ],
      "metadata": {
        "execution": {
          "iopub.status.busy": "2022-06-05T03:33:39.787467Z",
          "iopub.execute_input": "2022-06-05T03:33:39.787881Z",
          "iopub.status.idle": "2022-06-05T03:33:39.880050Z",
          "shell.execute_reply.started": "2022-06-05T03:33:39.787836Z",
          "shell.execute_reply": "2022-06-05T03:33:39.879235Z"
        },
        "trusted": true,
        "id": "VDtSm4NAJhmU"
      },
      "execution_count": 9,
      "outputs": []
    },
    {
      "cell_type": "code",
      "source": [
        "from collections import Counter\n",
        "import unicodedata as udata\n",
        "import string"
      ],
      "metadata": {
        "execution": {
          "iopub.status.busy": "2022-06-05T03:33:39.881608Z",
          "iopub.execute_input": "2022-06-05T03:33:39.882031Z",
          "iopub.status.idle": "2022-06-05T03:33:39.887297Z",
          "shell.execute_reply.started": "2022-06-05T03:33:39.881973Z",
          "shell.execute_reply": "2022-06-05T03:33:39.886039Z"
        },
        "trusted": true,
        "id": "rpCDPzIPJhmV"
      },
      "execution_count": 10,
      "outputs": []
    },
    {
      "cell_type": "markdown",
      "source": [
        "checking the versions "
      ],
      "metadata": {
        "id": "zv3YLv1cJhmW"
      }
    },
    {
      "cell_type": "code",
      "source": [
        "print(sklearn.__version__)\n",
        "print(matplotlib.__version__)\n",
        "print(numpy.__version__)\n",
        "print(pd.__version__)\n",
        "print(nltk.__version__)"
      ],
      "metadata": {
        "execution": {
          "iopub.status.busy": "2022-06-05T03:33:39.888660Z",
          "iopub.execute_input": "2022-06-05T03:33:39.889613Z",
          "iopub.status.idle": "2022-06-05T03:33:39.898750Z",
          "shell.execute_reply.started": "2022-06-05T03:33:39.889570Z",
          "shell.execute_reply": "2022-06-05T03:33:39.897728Z"
        },
        "trusted": true,
        "colab": {
          "base_uri": "https://localhost:8080/"
        },
        "id": "zrNkwWMnJhmX",
        "outputId": "643dba98-1694-452c-dcbc-0754946337c4"
      },
      "execution_count": 11,
      "outputs": [
        {
          "output_type": "stream",
          "name": "stdout",
          "text": [
            "1.0.2\n",
            "3.2.2\n",
            "1.21.6\n",
            "1.3.5\n",
            "3.2.5\n"
          ]
        }
      ]
    },
    {
      "cell_type": "markdown",
      "source": [
        "# Reading csv file"
      ],
      "metadata": {
        "id": "CVsU40Q_JhmY"
      }
    },
    {
      "cell_type": "code",
      "source": [
        "df = pd.read_csv(\"/content/gdrive/MyDrive/Project/TwitterSentimentAnalysis.csv\", encoding='latin-1', header=None)"
      ],
      "metadata": {
        "execution": {
          "iopub.status.busy": "2022-06-05T03:33:39.900288Z",
          "iopub.execute_input": "2022-06-05T03:33:39.901127Z",
          "iopub.status.idle": "2022-06-05T03:33:43.878612Z",
          "shell.execute_reply.started": "2022-06-05T03:33:39.901084Z",
          "shell.execute_reply": "2022-06-05T03:33:43.877440Z"
        },
        "trusted": true,
        "id": "EV2c8SBuJhmY"
      },
      "execution_count": 12,
      "outputs": []
    },
    {
      "cell_type": "markdown",
      "source": [
        "Shuffling the data in the data frame"
      ],
      "metadata": {
        "id": "ebZ3U7mNJhmZ"
      }
    },
    {
      "cell_type": "code",
      "source": [
        "df = df.sample(frac=1).reset_index(drop=True)"
      ],
      "metadata": {
        "execution": {
          "iopub.status.busy": "2022-06-05T03:33:43.883885Z",
          "iopub.execute_input": "2022-06-05T03:33:43.885496Z",
          "iopub.status.idle": "2022-06-05T03:33:45.282040Z",
          "shell.execute_reply.started": "2022-06-05T03:33:43.885451Z",
          "shell.execute_reply": "2022-06-05T03:33:45.281108Z"
        },
        "trusted": true,
        "id": "IrmV-VYlJhmZ"
      },
      "execution_count": 13,
      "outputs": []
    },
    {
      "cell_type": "markdown",
      "source": [
        "# Give column names"
      ],
      "metadata": {
        "id": "g16g9LkVJhmZ"
      }
    },
    {
      "cell_type": "markdown",
      "source": [
        "Assigning the Columns name to the data"
      ],
      "metadata": {
        "id": "qYgxqes9Jhma"
      }
    },
    {
      "cell_type": "code",
      "source": [
        "df.columns = [\"sentiment\", \"id\", \"date\", \"query\", \"user\", \"text\"] "
      ],
      "metadata": {
        "execution": {
          "iopub.status.busy": "2022-06-05T03:33:45.283466Z",
          "iopub.execute_input": "2022-06-05T03:33:45.283837Z",
          "iopub.status.idle": "2022-06-05T03:33:45.289836Z",
          "shell.execute_reply.started": "2022-06-05T03:33:45.283798Z",
          "shell.execute_reply": "2022-06-05T03:33:45.288905Z"
        },
        "trusted": true,
        "id": "Qw55A0czJhma"
      },
      "execution_count": 14,
      "outputs": []
    },
    {
      "cell_type": "code",
      "source": [
        "df.columns"
      ],
      "metadata": {
        "execution": {
          "iopub.status.busy": "2022-06-05T03:33:45.291289Z",
          "iopub.execute_input": "2022-06-05T03:33:45.292306Z",
          "iopub.status.idle": "2022-06-05T03:33:45.303341Z",
          "shell.execute_reply.started": "2022-06-05T03:33:45.292267Z",
          "shell.execute_reply": "2022-06-05T03:33:45.302324Z"
        },
        "trusted": true,
        "colab": {
          "base_uri": "https://localhost:8080/"
        },
        "id": "UeVdfziXJhmb",
        "outputId": "13e99288-c830-4e87-a914-9cdf6c068def"
      },
      "execution_count": 15,
      "outputs": [
        {
          "output_type": "execute_result",
          "data": {
            "text/plain": [
              "Index(['sentiment', 'id', 'date', 'query', 'user', 'text'], dtype='object')"
            ]
          },
          "metadata": {},
          "execution_count": 15
        }
      ]
    },
    {
      "cell_type": "markdown",
      "source": [
        "Checking Null values in the dataset. Here we are counting each cloumn null values in the data set"
      ],
      "metadata": {
        "id": "fDGktBmaJhmb"
      }
    },
    {
      "cell_type": "code",
      "source": [
        "df.isnull().sum()"
      ],
      "metadata": {
        "execution": {
          "iopub.status.busy": "2022-06-05T03:33:45.308581Z",
          "iopub.execute_input": "2022-06-05T03:33:45.309002Z",
          "iopub.status.idle": "2022-06-05T03:33:46.231942Z",
          "shell.execute_reply.started": "2022-06-05T03:33:45.308964Z",
          "shell.execute_reply": "2022-06-05T03:33:46.231125Z"
        },
        "trusted": true,
        "colab": {
          "base_uri": "https://localhost:8080/"
        },
        "id": "2nyAESg3Jhmc",
        "outputId": "37b530f0-0847-43f7-823b-f159dd595cb9"
      },
      "execution_count": 16,
      "outputs": [
        {
          "output_type": "execute_result",
          "data": {
            "text/plain": [
              "sentiment    0\n",
              "id           0\n",
              "date         0\n",
              "query        0\n",
              "user         0\n",
              "text         0\n",
              "dtype: int64"
            ]
          },
          "metadata": {},
          "execution_count": 16
        }
      ]
    },
    {
      "cell_type": "markdown",
      "source": [
        "Checking the duplicates values and counting duplicates in the data set"
      ],
      "metadata": {
        "id": "PMCJnI55Jhmc"
      }
    },
    {
      "cell_type": "code",
      "source": [
        "df.duplicated().sum()"
      ],
      "metadata": {
        "execution": {
          "iopub.status.busy": "2022-06-05T03:33:46.233119Z",
          "iopub.execute_input": "2022-06-05T03:33:46.234498Z",
          "iopub.status.idle": "2022-06-05T03:33:49.223109Z",
          "shell.execute_reply.started": "2022-06-05T03:33:46.234454Z",
          "shell.execute_reply": "2022-06-05T03:33:49.222276Z"
        },
        "trusted": true,
        "colab": {
          "base_uri": "https://localhost:8080/"
        },
        "id": "3v0PpJp3Jhmc",
        "outputId": "4ea21845-fa6d-4bf7-bf7d-d552225f7482"
      },
      "execution_count": 17,
      "outputs": [
        {
          "output_type": "execute_result",
          "data": {
            "text/plain": [
              "0"
            ]
          },
          "metadata": {},
          "execution_count": 17
        }
      ]
    },
    {
      "cell_type": "markdown",
      "source": [
        "get the first 5 rows from the dataframe"
      ],
      "metadata": {
        "id": "CAD-AfYVJhmd"
      }
    },
    {
      "cell_type": "code",
      "source": [
        "df.head(5)"
      ],
      "metadata": {
        "execution": {
          "iopub.status.busy": "2022-06-05T03:33:49.224396Z",
          "iopub.execute_input": "2022-06-05T03:33:49.224797Z",
          "iopub.status.idle": "2022-06-05T03:33:49.239735Z",
          "shell.execute_reply.started": "2022-06-05T03:33:49.224756Z",
          "shell.execute_reply": "2022-06-05T03:33:49.238614Z"
        },
        "trusted": true,
        "colab": {
          "base_uri": "https://localhost:8080/",
          "height": 206
        },
        "id": "PFBiO2p_Jhmd",
        "outputId": "978d88b2-9fcf-469a-8cfe-7ee6f4f5e0fa"
      },
      "execution_count": 18,
      "outputs": [
        {
          "output_type": "execute_result",
          "data": {
            "text/plain": [
              "   sentiment          id                          date     query  \\\n",
              "0          0  2183373231  Mon Jun 15 14:25:01 PDT 2009  NO_QUERY   \n",
              "1          0  2225142712  Thu Jun 18 10:21:50 PDT 2009  NO_QUERY   \n",
              "2          4  1980071462  Sun May 31 05:35:02 PDT 2009  NO_QUERY   \n",
              "3          4  1978664063  Sun May 31 00:03:50 PDT 2009  NO_QUERY   \n",
              "4          4  1882077306  Fri May 22 06:11:05 PDT 2009  NO_QUERY   \n",
              "\n",
              "            user                                               text  \n",
              "0    RylinPhotog                                  @rachaelearl  Me   \n",
              "1       Emily_YA   Two separate clients called within minutes of...  \n",
              "2     KOLtwitbot  Thrincold: Tired but good, No more working at ...  \n",
              "3  alatariel1234  @poprocker85 Yeah it will go down a treat with...  \n",
              "4    kaylanadeau               good morning! another beautiful day   "
            ],
            "text/html": [
              "\n",
              "  <div id=\"df-05274c79-eb95-48d0-bbed-2f6cd2a98259\">\n",
              "    <div class=\"colab-df-container\">\n",
              "      <div>\n",
              "<style scoped>\n",
              "    .dataframe tbody tr th:only-of-type {\n",
              "        vertical-align: middle;\n",
              "    }\n",
              "\n",
              "    .dataframe tbody tr th {\n",
              "        vertical-align: top;\n",
              "    }\n",
              "\n",
              "    .dataframe thead th {\n",
              "        text-align: right;\n",
              "    }\n",
              "</style>\n",
              "<table border=\"1\" class=\"dataframe\">\n",
              "  <thead>\n",
              "    <tr style=\"text-align: right;\">\n",
              "      <th></th>\n",
              "      <th>sentiment</th>\n",
              "      <th>id</th>\n",
              "      <th>date</th>\n",
              "      <th>query</th>\n",
              "      <th>user</th>\n",
              "      <th>text</th>\n",
              "    </tr>\n",
              "  </thead>\n",
              "  <tbody>\n",
              "    <tr>\n",
              "      <th>0</th>\n",
              "      <td>0</td>\n",
              "      <td>2183373231</td>\n",
              "      <td>Mon Jun 15 14:25:01 PDT 2009</td>\n",
              "      <td>NO_QUERY</td>\n",
              "      <td>RylinPhotog</td>\n",
              "      <td>@rachaelearl  Me</td>\n",
              "    </tr>\n",
              "    <tr>\n",
              "      <th>1</th>\n",
              "      <td>0</td>\n",
              "      <td>2225142712</td>\n",
              "      <td>Thu Jun 18 10:21:50 PDT 2009</td>\n",
              "      <td>NO_QUERY</td>\n",
              "      <td>Emily_YA</td>\n",
              "      <td>Two separate clients called within minutes of...</td>\n",
              "    </tr>\n",
              "    <tr>\n",
              "      <th>2</th>\n",
              "      <td>4</td>\n",
              "      <td>1980071462</td>\n",
              "      <td>Sun May 31 05:35:02 PDT 2009</td>\n",
              "      <td>NO_QUERY</td>\n",
              "      <td>KOLtwitbot</td>\n",
              "      <td>Thrincold: Tired but good, No more working at ...</td>\n",
              "    </tr>\n",
              "    <tr>\n",
              "      <th>3</th>\n",
              "      <td>4</td>\n",
              "      <td>1978664063</td>\n",
              "      <td>Sun May 31 00:03:50 PDT 2009</td>\n",
              "      <td>NO_QUERY</td>\n",
              "      <td>alatariel1234</td>\n",
              "      <td>@poprocker85 Yeah it will go down a treat with...</td>\n",
              "    </tr>\n",
              "    <tr>\n",
              "      <th>4</th>\n",
              "      <td>4</td>\n",
              "      <td>1882077306</td>\n",
              "      <td>Fri May 22 06:11:05 PDT 2009</td>\n",
              "      <td>NO_QUERY</td>\n",
              "      <td>kaylanadeau</td>\n",
              "      <td>good morning! another beautiful day</td>\n",
              "    </tr>\n",
              "  </tbody>\n",
              "</table>\n",
              "</div>\n",
              "      <button class=\"colab-df-convert\" onclick=\"convertToInteractive('df-05274c79-eb95-48d0-bbed-2f6cd2a98259')\"\n",
              "              title=\"Convert this dataframe to an interactive table.\"\n",
              "              style=\"display:none;\">\n",
              "        \n",
              "  <svg xmlns=\"http://www.w3.org/2000/svg\" height=\"24px\"viewBox=\"0 0 24 24\"\n",
              "       width=\"24px\">\n",
              "    <path d=\"M0 0h24v24H0V0z\" fill=\"none\"/>\n",
              "    <path d=\"M18.56 5.44l.94 2.06.94-2.06 2.06-.94-2.06-.94-.94-2.06-.94 2.06-2.06.94zm-11 1L8.5 8.5l.94-2.06 2.06-.94-2.06-.94L8.5 2.5l-.94 2.06-2.06.94zm10 10l.94 2.06.94-2.06 2.06-.94-2.06-.94-.94-2.06-.94 2.06-2.06.94z\"/><path d=\"M17.41 7.96l-1.37-1.37c-.4-.4-.92-.59-1.43-.59-.52 0-1.04.2-1.43.59L10.3 9.45l-7.72 7.72c-.78.78-.78 2.05 0 2.83L4 21.41c.39.39.9.59 1.41.59.51 0 1.02-.2 1.41-.59l7.78-7.78 2.81-2.81c.8-.78.8-2.07 0-2.86zM5.41 20L4 18.59l7.72-7.72 1.47 1.35L5.41 20z\"/>\n",
              "  </svg>\n",
              "      </button>\n",
              "      \n",
              "  <style>\n",
              "    .colab-df-container {\n",
              "      display:flex;\n",
              "      flex-wrap:wrap;\n",
              "      gap: 12px;\n",
              "    }\n",
              "\n",
              "    .colab-df-convert {\n",
              "      background-color: #E8F0FE;\n",
              "      border: none;\n",
              "      border-radius: 50%;\n",
              "      cursor: pointer;\n",
              "      display: none;\n",
              "      fill: #1967D2;\n",
              "      height: 32px;\n",
              "      padding: 0 0 0 0;\n",
              "      width: 32px;\n",
              "    }\n",
              "\n",
              "    .colab-df-convert:hover {\n",
              "      background-color: #E2EBFA;\n",
              "      box-shadow: 0px 1px 2px rgba(60, 64, 67, 0.3), 0px 1px 3px 1px rgba(60, 64, 67, 0.15);\n",
              "      fill: #174EA6;\n",
              "    }\n",
              "\n",
              "    [theme=dark] .colab-df-convert {\n",
              "      background-color: #3B4455;\n",
              "      fill: #D2E3FC;\n",
              "    }\n",
              "\n",
              "    [theme=dark] .colab-df-convert:hover {\n",
              "      background-color: #434B5C;\n",
              "      box-shadow: 0px 1px 3px 1px rgba(0, 0, 0, 0.15);\n",
              "      filter: drop-shadow(0px 1px 2px rgba(0, 0, 0, 0.3));\n",
              "      fill: #FFFFFF;\n",
              "    }\n",
              "  </style>\n",
              "\n",
              "      <script>\n",
              "        const buttonEl =\n",
              "          document.querySelector('#df-05274c79-eb95-48d0-bbed-2f6cd2a98259 button.colab-df-convert');\n",
              "        buttonEl.style.display =\n",
              "          google.colab.kernel.accessAllowed ? 'block' : 'none';\n",
              "\n",
              "        async function convertToInteractive(key) {\n",
              "          const element = document.querySelector('#df-05274c79-eb95-48d0-bbed-2f6cd2a98259');\n",
              "          const dataTable =\n",
              "            await google.colab.kernel.invokeFunction('convertToInteractive',\n",
              "                                                     [key], {});\n",
              "          if (!dataTable) return;\n",
              "\n",
              "          const docLinkHtml = 'Like what you see? Visit the ' +\n",
              "            '<a target=\"_blank\" href=https://colab.research.google.com/notebooks/data_table.ipynb>data table notebook</a>'\n",
              "            + ' to learn more about interactive tables.';\n",
              "          element.innerHTML = '';\n",
              "          dataTable['output_type'] = 'display_data';\n",
              "          await google.colab.output.renderOutput(dataTable, element);\n",
              "          const docLink = document.createElement('div');\n",
              "          docLink.innerHTML = docLinkHtml;\n",
              "          element.appendChild(docLink);\n",
              "        }\n",
              "      </script>\n",
              "    </div>\n",
              "  </div>\n",
              "  "
            ]
          },
          "metadata": {},
          "execution_count": 18
        }
      ]
    },
    {
      "cell_type": "markdown",
      "source": [
        "drop some column from the dataframe "
      ],
      "metadata": {
        "id": "BFa0UUxaJhmd"
      }
    },
    {
      "cell_type": "code",
      "source": [
        "df = df.drop([\"id\", \"date\", \"query\", \"user\"], axis = 1) "
      ],
      "metadata": {
        "execution": {
          "iopub.status.busy": "2022-06-05T03:33:49.241392Z",
          "iopub.execute_input": "2022-06-05T03:33:49.242133Z",
          "iopub.status.idle": "2022-06-05T03:33:49.302893Z",
          "shell.execute_reply.started": "2022-06-05T03:33:49.242095Z",
          "shell.execute_reply": "2022-06-05T03:33:49.302111Z"
        },
        "trusted": true,
        "id": "l3CRwF0uJhmd"
      },
      "execution_count": 19,
      "outputs": []
    },
    {
      "cell_type": "code",
      "source": [
        "df.head(5)"
      ],
      "metadata": {
        "execution": {
          "iopub.status.busy": "2022-06-05T03:33:49.304281Z",
          "iopub.execute_input": "2022-06-05T03:33:49.304625Z",
          "iopub.status.idle": "2022-06-05T03:33:49.316655Z",
          "shell.execute_reply.started": "2022-06-05T03:33:49.304589Z",
          "shell.execute_reply": "2022-06-05T03:33:49.315886Z"
        },
        "trusted": true,
        "colab": {
          "base_uri": "https://localhost:8080/",
          "height": 206
        },
        "id": "J-4RCwQ2Jhme",
        "outputId": "ebdbc2e1-7deb-43c2-c77a-da1cf45c0552"
      },
      "execution_count": 20,
      "outputs": [
        {
          "output_type": "execute_result",
          "data": {
            "text/plain": [
              "   sentiment                                               text\n",
              "0          0                                  @rachaelearl  Me \n",
              "1          0   Two separate clients called within minutes of...\n",
              "2          4  Thrincold: Tired but good, No more working at ...\n",
              "3          4  @poprocker85 Yeah it will go down a treat with...\n",
              "4          4               good morning! another beautiful day "
            ],
            "text/html": [
              "\n",
              "  <div id=\"df-02c1da7a-6b4c-49ae-8140-96d36a980d25\">\n",
              "    <div class=\"colab-df-container\">\n",
              "      <div>\n",
              "<style scoped>\n",
              "    .dataframe tbody tr th:only-of-type {\n",
              "        vertical-align: middle;\n",
              "    }\n",
              "\n",
              "    .dataframe tbody tr th {\n",
              "        vertical-align: top;\n",
              "    }\n",
              "\n",
              "    .dataframe thead th {\n",
              "        text-align: right;\n",
              "    }\n",
              "</style>\n",
              "<table border=\"1\" class=\"dataframe\">\n",
              "  <thead>\n",
              "    <tr style=\"text-align: right;\">\n",
              "      <th></th>\n",
              "      <th>sentiment</th>\n",
              "      <th>text</th>\n",
              "    </tr>\n",
              "  </thead>\n",
              "  <tbody>\n",
              "    <tr>\n",
              "      <th>0</th>\n",
              "      <td>0</td>\n",
              "      <td>@rachaelearl  Me</td>\n",
              "    </tr>\n",
              "    <tr>\n",
              "      <th>1</th>\n",
              "      <td>0</td>\n",
              "      <td>Two separate clients called within minutes of...</td>\n",
              "    </tr>\n",
              "    <tr>\n",
              "      <th>2</th>\n",
              "      <td>4</td>\n",
              "      <td>Thrincold: Tired but good, No more working at ...</td>\n",
              "    </tr>\n",
              "    <tr>\n",
              "      <th>3</th>\n",
              "      <td>4</td>\n",
              "      <td>@poprocker85 Yeah it will go down a treat with...</td>\n",
              "    </tr>\n",
              "    <tr>\n",
              "      <th>4</th>\n",
              "      <td>4</td>\n",
              "      <td>good morning! another beautiful day</td>\n",
              "    </tr>\n",
              "  </tbody>\n",
              "</table>\n",
              "</div>\n",
              "      <button class=\"colab-df-convert\" onclick=\"convertToInteractive('df-02c1da7a-6b4c-49ae-8140-96d36a980d25')\"\n",
              "              title=\"Convert this dataframe to an interactive table.\"\n",
              "              style=\"display:none;\">\n",
              "        \n",
              "  <svg xmlns=\"http://www.w3.org/2000/svg\" height=\"24px\"viewBox=\"0 0 24 24\"\n",
              "       width=\"24px\">\n",
              "    <path d=\"M0 0h24v24H0V0z\" fill=\"none\"/>\n",
              "    <path d=\"M18.56 5.44l.94 2.06.94-2.06 2.06-.94-2.06-.94-.94-2.06-.94 2.06-2.06.94zm-11 1L8.5 8.5l.94-2.06 2.06-.94-2.06-.94L8.5 2.5l-.94 2.06-2.06.94zm10 10l.94 2.06.94-2.06 2.06-.94-2.06-.94-.94-2.06-.94 2.06-2.06.94z\"/><path d=\"M17.41 7.96l-1.37-1.37c-.4-.4-.92-.59-1.43-.59-.52 0-1.04.2-1.43.59L10.3 9.45l-7.72 7.72c-.78.78-.78 2.05 0 2.83L4 21.41c.39.39.9.59 1.41.59.51 0 1.02-.2 1.41-.59l7.78-7.78 2.81-2.81c.8-.78.8-2.07 0-2.86zM5.41 20L4 18.59l7.72-7.72 1.47 1.35L5.41 20z\"/>\n",
              "  </svg>\n",
              "      </button>\n",
              "      \n",
              "  <style>\n",
              "    .colab-df-container {\n",
              "      display:flex;\n",
              "      flex-wrap:wrap;\n",
              "      gap: 12px;\n",
              "    }\n",
              "\n",
              "    .colab-df-convert {\n",
              "      background-color: #E8F0FE;\n",
              "      border: none;\n",
              "      border-radius: 50%;\n",
              "      cursor: pointer;\n",
              "      display: none;\n",
              "      fill: #1967D2;\n",
              "      height: 32px;\n",
              "      padding: 0 0 0 0;\n",
              "      width: 32px;\n",
              "    }\n",
              "\n",
              "    .colab-df-convert:hover {\n",
              "      background-color: #E2EBFA;\n",
              "      box-shadow: 0px 1px 2px rgba(60, 64, 67, 0.3), 0px 1px 3px 1px rgba(60, 64, 67, 0.15);\n",
              "      fill: #174EA6;\n",
              "    }\n",
              "\n",
              "    [theme=dark] .colab-df-convert {\n",
              "      background-color: #3B4455;\n",
              "      fill: #D2E3FC;\n",
              "    }\n",
              "\n",
              "    [theme=dark] .colab-df-convert:hover {\n",
              "      background-color: #434B5C;\n",
              "      box-shadow: 0px 1px 3px 1px rgba(0, 0, 0, 0.15);\n",
              "      filter: drop-shadow(0px 1px 2px rgba(0, 0, 0, 0.3));\n",
              "      fill: #FFFFFF;\n",
              "    }\n",
              "  </style>\n",
              "\n",
              "      <script>\n",
              "        const buttonEl =\n",
              "          document.querySelector('#df-02c1da7a-6b4c-49ae-8140-96d36a980d25 button.colab-df-convert');\n",
              "        buttonEl.style.display =\n",
              "          google.colab.kernel.accessAllowed ? 'block' : 'none';\n",
              "\n",
              "        async function convertToInteractive(key) {\n",
              "          const element = document.querySelector('#df-02c1da7a-6b4c-49ae-8140-96d36a980d25');\n",
              "          const dataTable =\n",
              "            await google.colab.kernel.invokeFunction('convertToInteractive',\n",
              "                                                     [key], {});\n",
              "          if (!dataTable) return;\n",
              "\n",
              "          const docLinkHtml = 'Like what you see? Visit the ' +\n",
              "            '<a target=\"_blank\" href=https://colab.research.google.com/notebooks/data_table.ipynb>data table notebook</a>'\n",
              "            + ' to learn more about interactive tables.';\n",
              "          element.innerHTML = '';\n",
              "          dataTable['output_type'] = 'display_data';\n",
              "          await google.colab.output.renderOutput(dataTable, element);\n",
              "          const docLink = document.createElement('div');\n",
              "          docLink.innerHTML = docLinkHtml;\n",
              "          element.appendChild(docLink);\n",
              "        }\n",
              "      </script>\n",
              "    </div>\n",
              "  </div>\n",
              "  "
            ]
          },
          "metadata": {},
          "execution_count": 20
        }
      ]
    },
    {
      "cell_type": "markdown",
      "source": [
        " count the number of sentiments with respect to their tweet (4 stands for positive tweet and 0 stands for negative tweet)"
      ],
      "metadata": {
        "id": "RPG0JY1OJhme"
      }
    },
    {
      "cell_type": "code",
      "source": [
        "df.sentiment.value_counts()"
      ],
      "metadata": {
        "execution": {
          "iopub.status.busy": "2022-06-05T03:33:49.318144Z",
          "iopub.execute_input": "2022-06-05T03:33:49.320444Z",
          "iopub.status.idle": "2022-06-05T03:33:49.337268Z",
          "shell.execute_reply.started": "2022-06-05T03:33:49.320407Z",
          "shell.execute_reply": "2022-06-05T03:33:49.336478Z"
        },
        "trusted": true,
        "colab": {
          "base_uri": "https://localhost:8080/"
        },
        "id": "64-EsTIGJhme",
        "outputId": "81ca4c2c-1f8e-46d0-b74f-b360a405266b"
      },
      "execution_count": 21,
      "outputs": [
        {
          "output_type": "execute_result",
          "data": {
            "text/plain": [
              "0    800000\n",
              "4    800000\n",
              "Name: sentiment, dtype: int64"
            ]
          },
          "metadata": {},
          "execution_count": 21
        }
      ]
    },
    {
      "cell_type": "markdown",
      "source": [
        "\n",
        "\n",
        "\n",
        "\n",
        "\n",
        "\n",
        "\n",
        "\n",
        "\n",
        "\n",
        "\n",
        "# Cleaning data"
      ],
      "metadata": {
        "id": "tvFvP1etJhmf"
      }
    },
    {
      "cell_type": "markdown",
      "source": [
        "add new column pre_clean_len to dataframe which is length of each tweet"
      ],
      "metadata": {
        "id": "8FTU0YPuJhmf"
      }
    },
    {
      "cell_type": "code",
      "source": [
        "df['pre_clean_len'] = [len(t) for t in df.text]"
      ],
      "metadata": {
        "execution": {
          "iopub.status.busy": "2022-06-05T03:33:49.338635Z",
          "iopub.execute_input": "2022-06-05T03:33:49.339128Z",
          "iopub.status.idle": "2022-06-05T03:33:50.464350Z",
          "shell.execute_reply.started": "2022-06-05T03:33:49.339091Z",
          "shell.execute_reply": "2022-06-05T03:33:50.463390Z"
        },
        "trusted": true,
        "id": "ufD2x00hJhmf"
      },
      "execution_count": 22,
      "outputs": []
    },
    {
      "cell_type": "markdown",
      "source": [
        "Finding outliers using Box plot using pre_clean_len column"
      ],
      "metadata": {
        "id": "5zgYNtUVJhmf"
      }
    },
    {
      "cell_type": "code",
      "source": [
        "plt.boxplot(df.pre_clean_len)\n",
        "plt.show()"
      ],
      "metadata": {
        "execution": {
          "iopub.status.busy": "2022-06-05T03:33:50.465832Z",
          "iopub.execute_input": "2022-06-05T03:33:50.466245Z",
          "iopub.status.idle": "2022-06-05T03:33:50.681789Z",
          "shell.execute_reply.started": "2022-06-05T03:33:50.466185Z",
          "shell.execute_reply": "2022-06-05T03:33:50.680652Z"
        },
        "trusted": true,
        "colab": {
          "base_uri": "https://localhost:8080/",
          "height": 265
        },
        "id": "cx3Lk3f3Jhmg",
        "outputId": "5433724d-7b7f-49ab-9130-740953bcbffd"
      },
      "execution_count": 23,
      "outputs": [
        {
          "output_type": "display_data",
          "data": {
            "text/plain": [
              "<Figure size 432x288 with 1 Axes>"
            ],
            "image/png": "[encoded data removed]"
          },
          "metadata": {
            "needs_background": "light"
          }
        }
      ]
    },
    {
      "cell_type": "markdown",
      "source": [
        "check for any tweets greater than 140 characters"
      ],
      "metadata": {
        "id": "2S5Kw90xJhmg"
      }
    },
    {
      "cell_type": "code",
      "source": [
        "df[df.pre_clean_len > 140].head(10) "
      ],
      "metadata": {
        "execution": {
          "iopub.status.busy": "2022-06-05T03:33:50.684838Z",
          "iopub.execute_input": "2022-06-05T03:33:50.685478Z",
          "iopub.status.idle": "2022-06-05T03:33:50.717068Z",
          "shell.execute_reply.started": "2022-06-05T03:33:50.685438Z",
          "shell.execute_reply": "2022-06-05T03:33:50.716276Z"
        },
        "trusted": true,
        "colab": {
          "base_uri": "https://localhost:8080/",
          "height": 363
        },
        "id": "zwMm_xs9Jhmg",
        "outputId": "d7707b3e-a712-48b5-860b-abeb28b9b2cc"
      },
      "execution_count": 24,
      "outputs": [
        {
          "output_type": "execute_result",
          "data": {
            "text/plain": [
              "     sentiment                                               text  \\\n",
              "118          4  cute: Camille told me that MS &quot;stole&quot...   \n",
              "124          0  It's 4pm &amp; I'm still in bed gotta get up &...   \n",
              "381          0  My Dad, who is my medic, keeps telling me I'm ...   \n",
              "391          0  why can't american idol 9 auditions come to ph...   \n",
              "417          4  @Pokinatcha Thanks  Every time I look at that ...   \n",
              "596          4  @Cuan been in meetings &amp; have just heard &...   \n",
              "617          4  @minimum12 Glad to hear it!  I also wrote a 30...   \n",
              "768          0  OMG-BBQed rib rack last night. Went to icebox ...   \n",
              "791          0  @lizawhitten It's fathers day?  Not here.  ......   \n",
              "808          4  @BertaWooster yeah, master Stephen has to &quo...   \n",
              "\n",
              "     pre_clean_len  \n",
              "118            145  \n",
              "124            142  \n",
              "381            142  \n",
              "391            142  \n",
              "417            149  \n",
              "596            144  \n",
              "617            148  \n",
              "768            142  \n",
              "791            158  \n",
              "808            143  "
            ],
            "text/html": [
              "\n",
              "  <div id=\"df-8a674e42-3787-4ff9-9cb7-af8e721d1353\">\n",
              "    <div class=\"colab-df-container\">\n",
              "      <div>\n",
              "<style scoped>\n",
              "    .dataframe tbody tr th:only-of-type {\n",
              "        vertical-align: middle;\n",
              "    }\n",
              "\n",
              "    .dataframe tbody tr th {\n",
              "        vertical-align: top;\n",
              "    }\n",
              "\n",
              "    .dataframe thead th {\n",
              "        text-align: right;\n",
              "    }\n",
              "</style>\n",
              "<table border=\"1\" class=\"dataframe\">\n",
              "  <thead>\n",
              "    <tr style=\"text-align: right;\">\n",
              "      <th></th>\n",
              "      <th>sentiment</th>\n",
              "      <th>text</th>\n",
              "      <th>pre_clean_len</th>\n",
              "    </tr>\n",
              "  </thead>\n",
              "  <tbody>\n",
              "    <tr>\n",
              "      <th>118</th>\n",
              "      <td>4</td>\n",
              "      <td>cute: Camille told me that MS &amp;quot;stole&amp;quot...</td>\n",
              "      <td>145</td>\n",
              "    </tr>\n",
              "    <tr>\n",
              "      <th>124</th>\n",
              "      <td>0</td>\n",
              "      <td>It's 4pm &amp;amp; I'm still in bed gotta get up &amp;...</td>\n",
              "      <td>142</td>\n",
              "    </tr>\n",
              "    <tr>\n",
              "      <th>381</th>\n",
              "      <td>0</td>\n",
              "      <td>My Dad, who is my medic, keeps telling me I'm ...</td>\n",
              "      <td>142</td>\n",
              "    </tr>\n",
              "    <tr>\n",
              "      <th>391</th>\n",
              "      <td>0</td>\n",
              "      <td>why can't american idol 9 auditions come to ph...</td>\n",
              "      <td>142</td>\n",
              "    </tr>\n",
              "    <tr>\n",
              "      <th>417</th>\n",
              "      <td>4</td>\n",
              "      <td>@Pokinatcha Thanks  Every time I look at that ...</td>\n",
              "      <td>149</td>\n",
              "    </tr>\n",
              "    <tr>\n",
              "      <th>596</th>\n",
              "      <td>4</td>\n",
              "      <td>@Cuan been in meetings &amp;amp; have just heard &amp;...</td>\n",
              "      <td>144</td>\n",
              "    </tr>\n",
              "    <tr>\n",
              "      <th>617</th>\n",
              "      <td>4</td>\n",
              "      <td>@minimum12 Glad to hear it!  I also wrote a 30...</td>\n",
              "      <td>148</td>\n",
              "    </tr>\n",
              "    <tr>\n",
              "      <th>768</th>\n",
              "      <td>0</td>\n",
              "      <td>OMG-BBQed rib rack last night. Went to icebox ...</td>\n",
              "      <td>142</td>\n",
              "    </tr>\n",
              "    <tr>\n",
              "      <th>791</th>\n",
              "      <td>0</td>\n",
              "      <td>@lizawhitten It's fathers day?  Not here.  ......</td>\n",
              "      <td>158</td>\n",
              "    </tr>\n",
              "    <tr>\n",
              "      <th>808</th>\n",
              "      <td>4</td>\n",
              "      <td>@BertaWooster yeah, master Stephen has to &amp;quo...</td>\n",
              "      <td>143</td>\n",
              "    </tr>\n",
              "  </tbody>\n",
              "</table>\n",
              "</div>\n",
              "      <button class=\"colab-df-convert\" onclick=\"convertToInteractive('df-8a674e42-3787-4ff9-9cb7-af8e721d1353')\"\n",
              "              title=\"Convert this dataframe to an interactive table.\"\n",
              "              style=\"display:none;\">\n",
              "        \n",
              "  <svg xmlns=\"http://www.w3.org/2000/svg\" height=\"24px\"viewBox=\"0 0 24 24\"\n",
              "       width=\"24px\">\n",
              "    <path d=\"M0 0h24v24H0V0z\" fill=\"none\"/>\n",
              "    <path d=\"M18.56 5.44l.94 2.06.94-2.06 2.06-.94-2.06-.94-.94-2.06-.94 2.06-2.06.94zm-11 1L8.5 8.5l.94-2.06 2.06-.94-2.06-.94L8.5 2.5l-.94 2.06-2.06.94zm10 10l.94 2.06.94-2.06 2.06-.94-2.06-.94-.94-2.06-.94 2.06-2.06.94z\"/><path d=\"M17.41 7.96l-1.37-1.37c-.4-.4-.92-.59-1.43-.59-.52 0-1.04.2-1.43.59L10.3 9.45l-7.72 7.72c-.78.78-.78 2.05 0 2.83L4 21.41c.39.39.9.59 1.41.59.51 0 1.02-.2 1.41-.59l7.78-7.78 2.81-2.81c.8-.78.8-2.07 0-2.86zM5.41 20L4 18.59l7.72-7.72 1.47 1.35L5.41 20z\"/>\n",
              "  </svg>\n",
              "      </button>\n",
              "      \n",
              "  <style>\n",
              "    .colab-df-container {\n",
              "      display:flex;\n",
              "      flex-wrap:wrap;\n",
              "      gap: 12px;\n",
              "    }\n",
              "\n",
              "    .colab-df-convert {\n",
              "      background-color: #E8F0FE;\n",
              "      border: none;\n",
              "      border-radius: 50%;\n",
              "      cursor: pointer;\n",
              "      display: none;\n",
              "      fill: #1967D2;\n",
              "      height: 32px;\n",
              "      padding: 0 0 0 0;\n",
              "      width: 32px;\n",
              "    }\n",
              "\n",
              "    .colab-df-convert:hover {\n",
              "      background-color: #E2EBFA;\n",
              "      box-shadow: 0px 1px 2px rgba(60, 64, 67, 0.3), 0px 1px 3px 1px rgba(60, 64, 67, 0.15);\n",
              "      fill: #174EA6;\n",
              "    }\n",
              "\n",
              "    [theme=dark] .colab-df-convert {\n",
              "      background-color: #3B4455;\n",
              "      fill: #D2E3FC;\n",
              "    }\n",
              "\n",
              "    [theme=dark] .colab-df-convert:hover {\n",
              "      background-color: #434B5C;\n",
              "      box-shadow: 0px 1px 3px 1px rgba(0, 0, 0, 0.15);\n",
              "      filter: drop-shadow(0px 1px 2px rgba(0, 0, 0, 0.3));\n",
              "      fill: #FFFFFF;\n",
              "    }\n",
              "  </style>\n",
              "\n",
              "      <script>\n",
              "        const buttonEl =\n",
              "          document.querySelector('#df-8a674e42-3787-4ff9-9cb7-af8e721d1353 button.colab-df-convert');\n",
              "        buttonEl.style.display =\n",
              "          google.colab.kernel.accessAllowed ? 'block' : 'none';\n",
              "\n",
              "        async function convertToInteractive(key) {\n",
              "          const element = document.querySelector('#df-8a674e42-3787-4ff9-9cb7-af8e721d1353');\n",
              "          const dataTable =\n",
              "            await google.colab.kernel.invokeFunction('convertToInteractive',\n",
              "                                                     [key], {});\n",
              "          if (!dataTable) return;\n",
              "\n",
              "          const docLinkHtml = 'Like what you see? Visit the ' +\n",
              "            '<a target=\"_blank\" href=https://colab.research.google.com/notebooks/data_table.ipynb>data table notebook</a>'\n",
              "            + ' to learn more about interactive tables.';\n",
              "          element.innerHTML = '';\n",
              "          dataTable['output_type'] = 'display_data';\n",
              "          await google.colab.output.renderOutput(dataTable, element);\n",
              "          const docLink = document.createElement('div');\n",
              "          docLink.innerHTML = docLinkHtml;\n",
              "          element.appendChild(docLink);\n",
              "        }\n",
              "      </script>\n",
              "    </div>\n",
              "  </div>\n",
              "  "
            ]
          },
          "metadata": {},
          "execution_count": 24
        }
      ]
    },
    {
      "cell_type": "markdown",
      "source": [
        "At this stage, if you want you could remove these outlier tweets"
      ],
      "metadata": {
        "id": "0wgl2-SnJhmg"
      }
    },
    {
      "cell_type": "markdown",
      "source": [
        "# Cleaning operations"
      ],
      "metadata": {
        "id": "82XeT2bnJhmh"
      }
    },
    {
      "cell_type": "code",
      "source": [
        "import re\n",
        "from bs4 import BeautifulSoup\n",
        "from nltk.tokenize import WordPunctTokenizer\n",
        "tok = WordPunctTokenizer()\n",
        "\n",
        "pat1 = r'@[A-Za-z0-9_]+'        # remove @ mentions from tweets\n",
        "pat2 = r'https?://[^ ]+'        # remove URLs from tweets\n",
        "combined_pat = r'|'.join((pat1, pat2)) #addition of pat1 and pat2\n",
        "www_pat = r'www.[^ ]+'         # remove URLs from tweets\n",
        "negations_dic = {\"isn't\":\"is not\", \"aren't\":\"are not\", \"wasn't\":\"was not\", \"weren't\":\"were not\",   # converting words like isn't to is not\n",
        "                \"haven't\":\"have not\",\"hasn't\":\"has not\",\"hadn't\":\"had not\",\"won't\":\"will not\",\n",
        "                \"wouldn't\":\"would not\", \"don't\":\"do not\", \"doesn't\":\"does not\",\"didn't\":\"did not\",\n",
        "                \"can't\":\"can not\",\"couldn't\":\"could not\",\"shouldn't\":\"should not\",\"mightn't\":\"might not\",\n",
        "                \"mustn't\":\"must not\"}\n",
        "neg_pattern = re.compile(r'\\b(' + '|'.join(negations_dic.keys()) + r')\\b')\n",
        "\n",
        "def tweet_cleaner(text):  # define tweet_cleaner function to clean the tweets\n",
        "    soup = BeautifulSoup(text, 'lxml')    # create beautiful soup object\n",
        "    souped = soup.get_text()   # get only text from the tweets \n",
        "    try:\n",
        "        bom_removed = souped.decode(\"utf-8-sig\").replace(u\"\\ufffd\", \"?\")    # remove utf-8-sig code\n",
        "    except:\n",
        "        bom_removed = souped\n",
        "    stripped = re.sub(combined_pat, '', bom_removed) # calling combined_pat\n",
        "    stripped = re.sub(www_pat, '', stripped) #remove URLs\n",
        "    lower_case = stripped.lower()      # converting all into lower case\n",
        "    neg_handled = neg_pattern.sub(lambda x: negations_dic[x.group()], lower_case) # converting words like isn't to is not\n",
        "    letters_only = re.sub(\"[^a-zA-Z]\", \" \", neg_handled)       # will replace # by space\n",
        "    words = [x for x  in tok.tokenize(letters_only) if len(x) > 1] # Word Punct Tokenize and only consider words whose length is greater than 1\n",
        "    return (\" \".join(words)).strip() # join the words"
      ],
      "metadata": {
        "execution": {
          "iopub.status.busy": "2022-06-05T03:33:50.718653Z",
          "iopub.execute_input": "2022-06-05T03:33:50.719180Z",
          "iopub.status.idle": "2022-06-05T03:33:50.833571Z",
          "shell.execute_reply.started": "2022-06-05T03:33:50.719142Z",
          "shell.execute_reply": "2022-06-05T03:33:50.832783Z"
        },
        "trusted": true,
        "id": "UWyNSvb9Jhmh"
      },
      "execution_count": 25,
      "outputs": []
    },
    {
      "cell_type": "code",
      "source": [
        "#Note that we have 1600000 instances. But processing so many instances will take a very very long time.\n",
        "#Hence, restricting to rather 50000 instances.\n",
        "limit= 1600000\n",
        "import time; \n",
        "ms = time.time()\n",
        "#nums = [0,400000,800000,1200000,1600000] # used for batch processing tweets\n",
        "#nums = [0, 9999]\n",
        "clean_tweet_texts = [] # initialize list\n",
        "for i in range(0,limit): # batch process 1.6 million tweets \n",
        "    if i % 10000==0:\n",
        "        print(i, time.time()-ms)\n",
        "    clean_tweet_texts.append(tweet_cleaner(df['text'][i]))  # call tweet_cleaner function and pass parameter as all the tweets to clean the tweets and append cleaned tweets into clean_tweet_texts list"
      ],
      "metadata": {
        "scrolled": true,
        "execution": {
          "iopub.status.busy": "2022-06-05T03:33:50.834786Z",
          "iopub.execute_input": "2022-06-05T03:33:50.835207Z",
          "iopub.status.idle": "2022-06-05T03:41:15.980988Z",
          "shell.execute_reply.started": "2022-06-05T03:33:50.835130Z",
          "shell.execute_reply": "2022-06-05T03:41:15.980053Z"
        },
        "trusted": true,
        "colab": {
          "base_uri": "https://localhost:8080/"
        },
        "id": "l7QQA8JiJhmi",
        "outputId": "2f777baa-40b7-4dc1-a69e-cb2046397d45"
      },
      "execution_count": 26,
      "outputs": [
        {
          "output_type": "stream",
          "name": "stdout",
          "text": [
            "0 0.000118255615234375\n",
            "10000 2.1623737812042236\n",
            "20000 4.341637372970581\n",
            "30000 6.563189268112183\n",
            "40000 8.712594270706177\n",
            "50000 10.88085412979126\n",
            "60000 13.041598796844482\n",
            "70000 15.183896541595459\n",
            "80000 17.337077856063843\n",
            "90000 19.523456573486328\n",
            "100000 21.677738189697266\n",
            "110000 24.254932165145874\n",
            "120000 26.666531801223755\n",
            "130000 28.824955701828003\n",
            "140000 31.01118540763855\n",
            "150000 33.303027868270874\n",
            "160000 35.45342993736267\n",
            "170000 37.63567566871643\n",
            "180000 39.759355306625366\n",
            "190000 41.91811203956604\n",
            "200000 44.05707383155823\n",
            "210000 46.18700957298279\n",
            "220000 48.349573850631714\n",
            "230000 50.48068714141846\n",
            "240000 52.61353373527527\n",
            "250000 54.739397287368774\n",
            "260000 56.86783456802368\n",
            "270000 59.38341736793518\n",
            "280000 61.520893812179565\n",
            "290000 63.65653967857361\n",
            "300000 65.7738401889801\n",
            "310000 67.93718838691711\n",
            "320000 70.06139969825745\n",
            "330000 72.20180225372314\n",
            "340000 74.45331120491028\n",
            "350000 76.63723707199097\n",
            "360000 78.8369631767273\n",
            "370000 81.09071135520935\n",
            "380000 83.3347373008728\n",
            "390000 85.54621696472168\n",
            "400000 87.78496742248535\n",
            "410000 90.0654764175415\n",
            "420000 92.27685260772705\n",
            "430000 94.49029684066772\n",
            "440000 96.67400431632996\n",
            "450000 98.87108492851257\n",
            "460000 101.00943231582642\n",
            "470000 103.14572191238403\n",
            "480000 105.28885507583618\n",
            "490000 107.44757890701294\n",
            "500000 109.57473230361938\n",
            "510000 111.69529628753662\n",
            "520000 113.83820724487305\n",
            "530000 115.97469878196716\n",
            "540000 118.10694098472595\n",
            "550000 120.2543089389801\n",
            "560000 122.39615321159363\n",
            "570000 124.67271566390991\n",
            "580000 126.84098744392395\n",
            "590000 129.09075808525085\n",
            "600000 131.8835461139679\n",
            "610000 134.06856393814087\n",
            "620000 136.27146553993225\n",
            "630000 138.48921060562134\n",
            "640000 140.6947581768036\n",
            "650000 142.83819317817688\n",
            "660000 144.97120475769043\n",
            "670000 147.11994695663452\n",
            "680000 149.25358271598816\n",
            "690000 151.3963143825531\n",
            "700000 153.52986192703247\n",
            "710000 155.66566014289856\n",
            "720000 158.68909525871277\n",
            "730000 161.13970255851746\n",
            "740000 163.28841400146484\n",
            "750000 165.83146238327026\n",
            "760000 167.9753873348236\n",
            "770000 170.09696459770203\n",
            "780000 172.22527647018433\n",
            "790000 174.49588441848755\n",
            "800000 176.66143608093262\n",
            "810000 178.82962679862976\n",
            "820000 181.02626824378967\n",
            "830000 183.19888353347778\n",
            "840000 185.37154960632324\n",
            "850000 187.60595893859863\n",
            "860000 189.82460403442383\n",
            "870000 192.05516719818115\n",
            "880000 194.20021438598633\n",
            "890000 196.35319137573242\n",
            "900000 198.48985409736633\n",
            "910000 200.66869139671326\n",
            "920000 202.7962589263916\n",
            "930000 204.94216561317444\n",
            "940000 207.07818150520325\n",
            "950000 209.21829533576965\n",
            "960000 211.36455869674683\n",
            "970000 213.87953877449036\n",
            "980000 216.00657629966736\n",
            "990000 218.15577173233032\n",
            "1000000 220.33032703399658\n",
            "1010000 222.5394127368927\n",
            "1020000 224.84580087661743\n",
            "1030000 227.0095133781433\n",
            "1040000 229.1831316947937\n",
            "1050000 231.37184286117554\n",
            "1060000 233.55883884429932\n",
            "1070000 235.7877275943756\n",
            "1080000 238.6066529750824\n",
            "1090000 240.81375646591187\n",
            "1100000 243.01105260849\n",
            "1110000 245.15627098083496\n",
            "1120000 247.30388712882996\n",
            "1130000 249.45497059822083\n",
            "1140000 251.6284670829773\n",
            "1150000 253.74755573272705\n",
            "1160000 255.8711564540863\n",
            "1170000 258.01165771484375\n",
            "1180000 260.1549096107483\n",
            "1190000 262.2905948162079\n",
            "1200000 264.45996141433716\n",
            "1210000 266.5801634788513\n",
            "1220000 268.70567202568054\n",
            "1230000 270.86881136894226\n",
            "1240000 273.15412306785583\n",
            "1250000 275.33549785614014\n",
            "1260000 277.50434589385986\n",
            "1270000 279.6723961830139\n",
            "1280000 281.8798797130585\n",
            "1290000 284.1187605857849\n",
            "1300000 286.36671209335327\n",
            "1310000 288.5841443538666\n",
            "1320000 290.7548644542694\n",
            "1330000 292.9192519187927\n",
            "1340000 295.0802803039551\n",
            "1350000 297.2088403701782\n",
            "1360000 299.34529995918274\n",
            "1370000 301.4938814640045\n",
            "1380000 303.6128213405609\n",
            "1390000 305.7552990913391\n",
            "1400000 307.9000473022461\n",
            "1410000 310.0595705509186\n",
            "1420000 312.215674161911\n",
            "1430000 314.40938210487366\n",
            "1440000 316.5715832710266\n",
            "1450000 318.72452425956726\n",
            "1460000 320.9087085723877\n",
            "1470000 323.2216866016388\n",
            "1480000 325.39504766464233\n",
            "1490000 327.58774042129517\n",
            "1500000 329.77021884918213\n",
            "1510000 331.9757957458496\n",
            "1520000 334.24673986434937\n",
            "1530000 336.47915267944336\n",
            "1540000 338.6702170372009\n",
            "1550000 340.86911273002625\n",
            "1560000 344.1916334629059\n",
            "1570000 346.3464574813843\n",
            "1580000 348.51879048347473\n",
            "1590000 350.65546011924744\n"
          ]
        }
      ]
    },
    {
      "cell_type": "markdown",
      "source": [
        "# clean_tweet_texts"
      ],
      "metadata": {
        "id": "nLDJgHbyJhmj"
      }
    },
    {
      "cell_type": "code",
      "source": [
        "nltk.download('punkt')"
      ],
      "metadata": {
        "execution": {
          "iopub.status.busy": "2022-06-05T03:41:15.982630Z",
          "iopub.execute_input": "2022-06-05T03:41:15.983052Z",
          "iopub.status.idle": "2022-06-05T03:41:16.164687Z",
          "shell.execute_reply.started": "2022-06-05T03:41:15.983007Z",
          "shell.execute_reply": "2022-06-05T03:41:16.163630Z"
        },
        "trusted": true,
        "colab": {
          "base_uri": "https://localhost:8080/"
        },
        "id": "dDGQBkUFJhmj",
        "outputId": "578f34d7-45fb-4501-e308-4a942de62928"
      },
      "execution_count": 27,
      "outputs": [
        {
          "output_type": "stream",
          "name": "stdout",
          "text": [
            "[nltk_data] Downloading package punkt to /root/nltk_data...\n",
            "[nltk_data]   Unzipping tokenizers/punkt.zip.\n"
          ]
        },
        {
          "output_type": "execute_result",
          "data": {
            "text/plain": [
              "True"
            ]
          },
          "metadata": {},
          "execution_count": 27
        }
      ]
    },
    {
      "cell_type": "markdown",
      "source": [
        "tokenize word in clean_tweet_texts and append it to word_tokens list"
      ],
      "metadata": {
        "id": "GIX9LmtrJhmk"
      }
    },
    {
      "cell_type": "code",
      "source": [
        "word_tokens = [] # initialize list for tokens\n",
        "for word in clean_tweet_texts:  # for each word in clean_tweet_texts\n",
        "    word_tokens.append(word_tokenize(word)) #tokenize word in clean_tweet_texts and append it to word_tokens list"
      ],
      "metadata": {
        "execution": {
          "iopub.status.busy": "2022-06-05T03:41:16.166205Z",
          "iopub.execute_input": "2022-06-05T03:41:16.167066Z",
          "iopub.status.idle": "2022-06-05T03:46:04.525737Z",
          "shell.execute_reply.started": "2022-06-05T03:41:16.167017Z",
          "shell.execute_reply": "2022-06-05T03:46:04.524620Z"
        },
        "trusted": true,
        "id": "MOOfJZQxJhmk"
      },
      "execution_count": 28,
      "outputs": []
    },
    {
      "cell_type": "markdown",
      "source": [
        "# Lemmatizing"
      ],
      "metadata": {
        "id": "ZJEpcoIVJhmk"
      }
    },
    {
      "cell_type": "code",
      "source": [
        "nltk.download('wordnet')"
      ],
      "metadata": {
        "execution": {
          "iopub.status.busy": "2022-06-05T03:46:04.527525Z",
          "iopub.execute_input": "2022-06-05T03:46:04.527927Z",
          "iopub.status.idle": "2022-06-05T03:46:04.599567Z",
          "shell.execute_reply.started": "2022-06-05T03:46:04.527883Z",
          "shell.execute_reply": "2022-06-05T03:46:04.598434Z"
        },
        "trusted": true,
        "colab": {
          "base_uri": "https://localhost:8080/"
        },
        "id": "aWzlKc6OJhml",
        "outputId": "ef1fc581-52c3-4f7f-ca5f-097833e12a9b"
      },
      "execution_count": 29,
      "outputs": [
        {
          "output_type": "stream",
          "name": "stdout",
          "text": [
            "[nltk_data] Downloading package wordnet to /root/nltk_data...\n",
            "[nltk_data]   Unzipping corpora/wordnet.zip.\n"
          ]
        },
        {
          "output_type": "execute_result",
          "data": {
            "text/plain": [
              "True"
            ]
          },
          "metadata": {},
          "execution_count": 29
        }
      ]
    },
    {
      "cell_type": "code",
      "source": [
        "df1 = [] # initialize list df1 to store words after lemmatization\n",
        "from nltk.stem import WordNetLemmatizer # import WordNetLemmatizer from nltk.stem\n",
        "lemmatizer = WordNetLemmatizer() # create an object of WordNetLemmatizer\n",
        "for l in word_tokens: # for loop for every tokens in word_token\n",
        "    b = [lemmatizer.lemmatize(q) for q in l] #for every tokens in word_token lemmatize word and giev it to b\n",
        "    df1.append(b) #append b to list df1"
      ],
      "metadata": {
        "execution": {
          "iopub.status.busy": "2022-06-05T03:46:04.601548Z",
          "iopub.execute_input": "2022-06-05T03:46:04.602255Z",
          "iopub.status.idle": "2022-06-05T03:47:50.740100Z",
          "shell.execute_reply.started": "2022-06-05T03:46:04.602186Z",
          "shell.execute_reply": "2022-06-05T03:47:50.739098Z"
        },
        "trusted": true,
        "id": "XMSz88I2Jhml"
      },
      "execution_count": 30,
      "outputs": []
    },
    {
      "cell_type": "markdown",
      "source": [
        "# df"
      ],
      "metadata": {
        "id": "fTDS7i2jJhml"
      }
    },
    {
      "cell_type": "code",
      "source": [
        "clean_df1 =[] # initialize list clean_df1 to join word tokens after lemmatization\n",
        "for c in df1:  # for loop for each list in df1\n",
        "    a = \" \".join(c) # join words in list with space in between and give it to a\n",
        "    clean_df1.append(a) # append a to clean_df1"
      ],
      "metadata": {
        "execution": {
          "iopub.status.busy": "2022-06-05T03:47:50.745748Z",
          "iopub.execute_input": "2022-06-05T03:47:50.746541Z",
          "iopub.status.idle": "2022-06-05T03:47:52.331420Z",
          "shell.execute_reply.started": "2022-06-05T03:47:50.746492Z",
          "shell.execute_reply": "2022-06-05T03:47:52.330421Z"
        },
        "trusted": true,
        "id": "AB3SfLw5Jhml"
      },
      "execution_count": 31,
      "outputs": []
    },
    {
      "cell_type": "markdown",
      "source": [
        "# clean_df1"
      ],
      "metadata": {
        "id": "flJQii5AJhml"
      }
    },
    {
      "cell_type": "markdown",
      "source": [
        "convert clean_tweet_texts into dataframe and name it as clean_df"
      ],
      "metadata": {
        "id": "GUrm3bfMJhmm"
      }
    },
    {
      "cell_type": "code",
      "source": [
        "clean_df = pd.DataFrame(clean_df1,columns=['text']) # convert clean_tweet_texts into dataframe and name it as clean_df\n",
        "#clean_df['target'] = df.sentiment[:10000] # from earlier dataframe get the sentiments of each tweet and make a new column in clean_df as target and give it all the sentiment score\n",
        "#clean_df"
      ],
      "metadata": {
        "execution": {
          "iopub.status.busy": "2022-06-05T03:47:52.332800Z",
          "iopub.execute_input": "2022-06-05T03:47:52.333344Z",
          "iopub.status.idle": "2022-06-05T03:47:52.441922Z",
          "shell.execute_reply.started": "2022-06-05T03:47:52.333301Z",
          "shell.execute_reply": "2022-06-05T03:47:52.440968Z"
        },
        "trusted": true,
        "id": "W3c1uN5fJhmm"
      },
      "execution_count": 32,
      "outputs": []
    },
    {
      "cell_type": "code",
      "source": [
        "clean_df['clean_len'] = [len(t) for t in clean_df.text] # Again make a new coloumn in the dataframe and name it as clean_len which "
      ],
      "metadata": {
        "execution": {
          "iopub.status.busy": "2022-06-05T03:47:52.443325Z",
          "iopub.execute_input": "2022-06-05T03:47:52.444363Z",
          "iopub.status.idle": "2022-06-05T03:47:53.413928Z",
          "shell.execute_reply.started": "2022-06-05T03:47:52.444315Z",
          "shell.execute_reply": "2022-06-05T03:47:53.412972Z"
        },
        "trusted": true,
        "id": "M_f_-73_Jhmm"
      },
      "execution_count": 33,
      "outputs": []
    },
    {
      "cell_type": "code",
      "source": [
        "clean_df[clean_df.clean_len > 140].head(10) # again check if any tweet is more than 140 characters"
      ],
      "metadata": {
        "execution": {
          "iopub.status.busy": "2022-06-05T03:47:53.415679Z",
          "iopub.execute_input": "2022-06-05T03:47:53.416136Z",
          "iopub.status.idle": "2022-06-05T03:47:53.476160Z",
          "shell.execute_reply.started": "2022-06-05T03:47:53.416085Z",
          "shell.execute_reply": "2022-06-05T03:47:53.475066Z"
        },
        "trusted": true,
        "colab": {
          "base_uri": "https://localhost:8080/",
          "height": 49
        },
        "id": "Nkx3ahQ1Jhmm",
        "outputId": "7a506954-dbe3-43f8-80c8-08ad7f18d45b"
      },
      "execution_count": 34,
      "outputs": [
        {
          "output_type": "execute_result",
          "data": {
            "text/plain": [
              "Empty DataFrame\n",
              "Columns: [text, clean_len]\n",
              "Index: []"
            ],
            "text/html": [
              "\n",
              "  <div id=\"df-c43b6b31-e6f5-463e-9e7e-84264f192dee\">\n",
              "    <div class=\"colab-df-container\">\n",
              "      <div>\n",
              "<style scoped>\n",
              "    .dataframe tbody tr th:only-of-type {\n",
              "        vertical-align: middle;\n",
              "    }\n",
              "\n",
              "    .dataframe tbody tr th {\n",
              "        vertical-align: top;\n",
              "    }\n",
              "\n",
              "    .dataframe thead th {\n",
              "        text-align: right;\n",
              "    }\n",
              "</style>\n",
              "<table border=\"1\" class=\"dataframe\">\n",
              "  <thead>\n",
              "    <tr style=\"text-align: right;\">\n",
              "      <th></th>\n",
              "      <th>text</th>\n",
              "      <th>clean_len</th>\n",
              "    </tr>\n",
              "  </thead>\n",
              "  <tbody>\n",
              "  </tbody>\n",
              "</table>\n",
              "</div>\n",
              "      <button class=\"colab-df-convert\" onclick=\"convertToInteractive('df-c43b6b31-e6f5-463e-9e7e-84264f192dee')\"\n",
              "              title=\"Convert this dataframe to an interactive table.\"\n",
              "              style=\"display:none;\">\n",
              "        \n",
              "  <svg xmlns=\"http://www.w3.org/2000/svg\" height=\"24px\"viewBox=\"0 0 24 24\"\n",
              "       width=\"24px\">\n",
              "    <path d=\"M0 0h24v24H0V0z\" fill=\"none\"/>\n",
              "    <path d=\"M18.56 5.44l.94 2.06.94-2.06 2.06-.94-2.06-.94-.94-2.06-.94 2.06-2.06.94zm-11 1L8.5 8.5l.94-2.06 2.06-.94-2.06-.94L8.5 2.5l-.94 2.06-2.06.94zm10 10l.94 2.06.94-2.06 2.06-.94-2.06-.94-.94-2.06-.94 2.06-2.06.94z\"/><path d=\"M17.41 7.96l-1.37-1.37c-.4-.4-.92-.59-1.43-.59-.52 0-1.04.2-1.43.59L10.3 9.45l-7.72 7.72c-.78.78-.78 2.05 0 2.83L4 21.41c.39.39.9.59 1.41.59.51 0 1.02-.2 1.41-.59l7.78-7.78 2.81-2.81c.8-.78.8-2.07 0-2.86zM5.41 20L4 18.59l7.72-7.72 1.47 1.35L5.41 20z\"/>\n",
              "  </svg>\n",
              "      </button>\n",
              "      \n",
              "  <style>\n",
              "    .colab-df-container {\n",
              "      display:flex;\n",
              "      flex-wrap:wrap;\n",
              "      gap: 12px;\n",
              "    }\n",
              "\n",
              "    .colab-df-convert {\n",
              "      background-color: #E8F0FE;\n",
              "      border: none;\n",
              "      border-radius: 50%;\n",
              "      cursor: pointer;\n",
              "      display: none;\n",
              "      fill: #1967D2;\n",
              "      height: 32px;\n",
              "      padding: 0 0 0 0;\n",
              "      width: 32px;\n",
              "    }\n",
              "\n",
              "    .colab-df-convert:hover {\n",
              "      background-color: #E2EBFA;\n",
              "      box-shadow: 0px 1px 2px rgba(60, 64, 67, 0.3), 0px 1px 3px 1px rgba(60, 64, 67, 0.15);\n",
              "      fill: #174EA6;\n",
              "    }\n",
              "\n",
              "    [theme=dark] .colab-df-convert {\n",
              "      background-color: #3B4455;\n",
              "      fill: #D2E3FC;\n",
              "    }\n",
              "\n",
              "    [theme=dark] .colab-df-convert:hover {\n",
              "      background-color: #434B5C;\n",
              "      box-shadow: 0px 1px 3px 1px rgba(0, 0, 0, 0.15);\n",
              "      filter: drop-shadow(0px 1px 2px rgba(0, 0, 0, 0.3));\n",
              "      fill: #FFFFFF;\n",
              "    }\n",
              "  </style>\n",
              "\n",
              "      <script>\n",
              "        const buttonEl =\n",
              "          document.querySelector('#df-c43b6b31-e6f5-463e-9e7e-84264f192dee button.colab-df-convert');\n",
              "        buttonEl.style.display =\n",
              "          google.colab.kernel.accessAllowed ? 'block' : 'none';\n",
              "\n",
              "        async function convertToInteractive(key) {\n",
              "          const element = document.querySelector('#df-c43b6b31-e6f5-463e-9e7e-84264f192dee');\n",
              "          const dataTable =\n",
              "            await google.colab.kernel.invokeFunction('convertToInteractive',\n",
              "                                                     [key], {});\n",
              "          if (!dataTable) return;\n",
              "\n",
              "          const docLinkHtml = 'Like what you see? Visit the ' +\n",
              "            '<a target=\"_blank\" href=https://colab.research.google.com/notebooks/data_table.ipynb>data table notebook</a>'\n",
              "            + ' to learn more about interactive tables.';\n",
              "          element.innerHTML = '';\n",
              "          dataTable['output_type'] = 'display_data';\n",
              "          await google.colab.output.renderOutput(dataTable, element);\n",
              "          const docLink = document.createElement('div');\n",
              "          docLink.innerHTML = docLinkHtml;\n",
              "          element.appendChild(docLink);\n",
              "        }\n",
              "      </script>\n",
              "    </div>\n",
              "  </div>\n",
              "  "
            ]
          },
          "metadata": {},
          "execution_count": 34
        }
      ]
    },
    {
      "cell_type": "code",
      "source": [
        "target2 = [] # initialize list\n",
        "for i in range(0,limit): # batch process 1.6 million tweets \n",
        "    target2.append(df['sentiment'][i])\n",
        "clean_df['target']=target2\n",
        "df.head()"
      ],
      "metadata": {
        "execution": {
          "iopub.status.busy": "2022-06-05T03:47:53.478015Z",
          "iopub.execute_input": "2022-06-05T03:47:53.478520Z",
          "iopub.status.idle": "2022-06-05T03:48:07.148173Z",
          "shell.execute_reply.started": "2022-06-05T03:47:53.478475Z",
          "shell.execute_reply": "2022-06-05T03:48:07.147136Z"
        },
        "trusted": true,
        "colab": {
          "base_uri": "https://localhost:8080/",
          "height": 206
        },
        "id": "SQ0xWv3dJhmn",
        "outputId": "6b4ee87d-7fe1-4bb1-84bd-515c21cc3b42"
      },
      "execution_count": 35,
      "outputs": [
        {
          "output_type": "execute_result",
          "data": {
            "text/plain": [
              "   sentiment                                               text  pre_clean_len\n",
              "0          0                                  @rachaelearl  Me              17\n",
              "1          0   Two separate clients called within minutes of...            138\n",
              "2          4  Thrincold: Tired but good, No more working at ...             73\n",
              "3          4  @poprocker85 Yeah it will go down a treat with...             64\n",
              "4          4               good morning! another beautiful day              36"
            ],
            "text/html": [
              "\n",
              "  <div id=\"df-61510585-03dd-4977-9ba5-855d91b7fc87\">\n",
              "    <div class=\"colab-df-container\">\n",
              "      <div>\n",
              "<style scoped>\n",
              "    .dataframe tbody tr th:only-of-type {\n",
              "        vertical-align: middle;\n",
              "    }\n",
              "\n",
              "    .dataframe tbody tr th {\n",
              "        vertical-align: top;\n",
              "    }\n",
              "\n",
              "    .dataframe thead th {\n",
              "        text-align: right;\n",
              "    }\n",
              "</style>\n",
              "<table border=\"1\" class=\"dataframe\">\n",
              "  <thead>\n",
              "    <tr style=\"text-align: right;\">\n",
              "      <th></th>\n",
              "      <th>sentiment</th>\n",
              "      <th>text</th>\n",
              "      <th>pre_clean_len</th>\n",
              "    </tr>\n",
              "  </thead>\n",
              "  <tbody>\n",
              "    <tr>\n",
              "      <th>0</th>\n",
              "      <td>0</td>\n",
              "      <td>@rachaelearl  Me</td>\n",
              "      <td>17</td>\n",
              "    </tr>\n",
              "    <tr>\n",
              "      <th>1</th>\n",
              "      <td>0</td>\n",
              "      <td>Two separate clients called within minutes of...</td>\n",
              "      <td>138</td>\n",
              "    </tr>\n",
              "    <tr>\n",
              "      <th>2</th>\n",
              "      <td>4</td>\n",
              "      <td>Thrincold: Tired but good, No more working at ...</td>\n",
              "      <td>73</td>\n",
              "    </tr>\n",
              "    <tr>\n",
              "      <th>3</th>\n",
              "      <td>4</td>\n",
              "      <td>@poprocker85 Yeah it will go down a treat with...</td>\n",
              "      <td>64</td>\n",
              "    </tr>\n",
              "    <tr>\n",
              "      <th>4</th>\n",
              "      <td>4</td>\n",
              "      <td>good morning! another beautiful day</td>\n",
              "      <td>36</td>\n",
              "    </tr>\n",
              "  </tbody>\n",
              "</table>\n",
              "</div>\n",
              "      <button class=\"colab-df-convert\" onclick=\"convertToInteractive('df-61510585-03dd-4977-9ba5-855d91b7fc87')\"\n",
              "              title=\"Convert this dataframe to an interactive table.\"\n",
              "              style=\"display:none;\">\n",
              "        \n",
              "  <svg xmlns=\"http://www.w3.org/2000/svg\" height=\"24px\"viewBox=\"0 0 24 24\"\n",
              "       width=\"24px\">\n",
              "    <path d=\"M0 0h24v24H0V0z\" fill=\"none\"/>\n",
              "    <path d=\"M18.56 5.44l.94 2.06.94-2.06 2.06-.94-2.06-.94-.94-2.06-.94 2.06-2.06.94zm-11 1L8.5 8.5l.94-2.06 2.06-.94-2.06-.94L8.5 2.5l-.94 2.06-2.06.94zm10 10l.94 2.06.94-2.06 2.06-.94-2.06-.94-.94-2.06-.94 2.06-2.06.94z\"/><path d=\"M17.41 7.96l-1.37-1.37c-.4-.4-.92-.59-1.43-.59-.52 0-1.04.2-1.43.59L10.3 9.45l-7.72 7.72c-.78.78-.78 2.05 0 2.83L4 21.41c.39.39.9.59 1.41.59.51 0 1.02-.2 1.41-.59l7.78-7.78 2.81-2.81c.8-.78.8-2.07 0-2.86zM5.41 20L4 18.59l7.72-7.72 1.47 1.35L5.41 20z\"/>\n",
              "  </svg>\n",
              "      </button>\n",
              "      \n",
              "  <style>\n",
              "    .colab-df-container {\n",
              "      display:flex;\n",
              "      flex-wrap:wrap;\n",
              "      gap: 12px;\n",
              "    }\n",
              "\n",
              "    .colab-df-convert {\n",
              "      background-color: #E8F0FE;\n",
              "      border: none;\n",
              "      border-radius: 50%;\n",
              "      cursor: pointer;\n",
              "      display: none;\n",
              "      fill: #1967D2;\n",
              "      height: 32px;\n",
              "      padding: 0 0 0 0;\n",
              "      width: 32px;\n",
              "    }\n",
              "\n",
              "    .colab-df-convert:hover {\n",
              "      background-color: #E2EBFA;\n",
              "      box-shadow: 0px 1px 2px rgba(60, 64, 67, 0.3), 0px 1px 3px 1px rgba(60, 64, 67, 0.15);\n",
              "      fill: #174EA6;\n",
              "    }\n",
              "\n",
              "    [theme=dark] .colab-df-convert {\n",
              "      background-color: #3B4455;\n",
              "      fill: #D2E3FC;\n",
              "    }\n",
              "\n",
              "    [theme=dark] .colab-df-convert:hover {\n",
              "      background-color: #434B5C;\n",
              "      box-shadow: 0px 1px 3px 1px rgba(0, 0, 0, 0.15);\n",
              "      filter: drop-shadow(0px 1px 2px rgba(0, 0, 0, 0.3));\n",
              "      fill: #FFFFFF;\n",
              "    }\n",
              "  </style>\n",
              "\n",
              "      <script>\n",
              "        const buttonEl =\n",
              "          document.querySelector('#df-61510585-03dd-4977-9ba5-855d91b7fc87 button.colab-df-convert');\n",
              "        buttonEl.style.display =\n",
              "          google.colab.kernel.accessAllowed ? 'block' : 'none';\n",
              "\n",
              "        async function convertToInteractive(key) {\n",
              "          const element = document.querySelector('#df-61510585-03dd-4977-9ba5-855d91b7fc87');\n",
              "          const dataTable =\n",
              "            await google.colab.kernel.invokeFunction('convertToInteractive',\n",
              "                                                     [key], {});\n",
              "          if (!dataTable) return;\n",
              "\n",
              "          const docLinkHtml = 'Like what you see? Visit the ' +\n",
              "            '<a target=\"_blank\" href=https://colab.research.google.com/notebooks/data_table.ipynb>data table notebook</a>'\n",
              "            + ' to learn more about interactive tables.';\n",
              "          element.innerHTML = '';\n",
              "          dataTable['output_type'] = 'display_data';\n",
              "          await google.colab.output.renderOutput(dataTable, element);\n",
              "          const docLink = document.createElement('div');\n",
              "          docLink.innerHTML = docLinkHtml;\n",
              "          element.appendChild(docLink);\n",
              "        }\n",
              "      </script>\n",
              "    </div>\n",
              "  </div>\n",
              "  "
            ]
          },
          "metadata": {},
          "execution_count": 35
        }
      ]
    },
    {
      "cell_type": "code",
      "source": [
        "X = clean_df.text # get all the text in x variable\n",
        "y = clean_df.target # get all the sentiments into y variable\n",
        "print(X.shape) #print shape of x\n",
        "print(y.shape) # print shape of y\n",
        "from collections import Counter\n",
        "print(set(y)) # equals to list(set(words))\n",
        "print(Counter(y).values()) #"
      ],
      "metadata": {
        "execution": {
          "iopub.status.busy": "2022-06-05T03:48:07.149598Z",
          "iopub.execute_input": "2022-06-05T03:48:07.150143Z",
          "iopub.status.idle": "2022-06-05T03:48:07.664970Z",
          "shell.execute_reply.started": "2022-06-05T03:48:07.150095Z",
          "shell.execute_reply": "2022-06-05T03:48:07.663662Z"
        },
        "trusted": true,
        "colab": {
          "base_uri": "https://localhost:8080/"
        },
        "id": "wELdrRkLJhmn",
        "outputId": "201af53c-f8cb-4460-e8b6-d30a9d1e4706"
      },
      "execution_count": 36,
      "outputs": [
        {
          "output_type": "stream",
          "name": "stdout",
          "text": [
            "(1600000,)\n",
            "(1600000,)\n",
            "{0, 4}\n",
            "dict_values([800000, 800000])\n"
          ]
        }
      ]
    },
    {
      "cell_type": "markdown",
      "source": [
        "# perform train and test split"
      ],
      "metadata": {
        "id": "vz8jfnX6Jhmn"
      }
    },
    {
      "cell_type": "markdown",
      "source": [
        "X_train is the tweets of training data, X_test is the testing tweets which we have to predict, y_train is the sentiments of tweets in the traing data and y_test is the sentiments of the tweets  which we will use to measure the accuracy of the model"
      ],
      "metadata": {
        "id": "m_JQ45gRJhmn"
      }
    },
    {
      "cell_type": "code",
      "source": [
        "from sklearn.model_selection  import train_test_split #from sklearn.cross_validation import train_test_split to split the data into training and tesing set\n",
        "X_train, X_test, y_train, y_test = train_test_split(X, y, test_size = 0.20, random_state= 1) # split the data into traing and testing set where ratio is 80:20"
      ],
      "metadata": {
        "execution": {
          "iopub.status.busy": "2022-06-05T03:48:07.667073Z",
          "iopub.execute_input": "2022-06-05T03:48:07.667589Z",
          "iopub.status.idle": "2022-06-05T03:48:08.269838Z",
          "shell.execute_reply.started": "2022-06-05T03:48:07.667539Z",
          "shell.execute_reply": "2022-06-05T03:48:08.268847Z"
        },
        "trusted": true,
        "id": "NYVYeBCWJhmn"
      },
      "execution_count": 37,
      "outputs": []
    },
    {
      "cell_type": "code",
      "source": [
        "y_train = [x if x==0 else 1 for x in y_train.tolist()]\n",
        "y_test = [x if x==0 else 1 for x in y_test.tolist()]\n",
        "X_train = X_train.tolist()\n",
        "X_test = X_test.tolist()"
      ],
      "metadata": {
        "execution": {
          "iopub.status.busy": "2022-06-05T03:48:08.271394Z",
          "iopub.execute_input": "2022-06-05T03:48:08.271808Z",
          "iopub.status.idle": "2022-06-05T03:48:08.558451Z",
          "shell.execute_reply.started": "2022-06-05T03:48:08.271761Z",
          "shell.execute_reply": "2022-06-05T03:48:08.557416Z"
        },
        "trusted": true,
        "id": "cfn32CAyJhmo"
      },
      "execution_count": 38,
      "outputs": []
    },
    {
      "cell_type": "code",
      "source": [
        "import numpy as np\n",
        "X_train= np.array(X_train)\n",
        "X_test = np.array(X_test)\n",
        "y_train = np.array(y_train)\n",
        "y_test = np.array(y_test)"
      ],
      "metadata": {
        "execution": {
          "iopub.status.busy": "2022-06-05T03:48:08.560010Z",
          "iopub.execute_input": "2022-06-05T03:48:08.560470Z",
          "iopub.status.idle": "2022-06-05T03:48:10.236804Z",
          "shell.execute_reply.started": "2022-06-05T03:48:08.560423Z",
          "shell.execute_reply": "2022-06-05T03:48:10.235838Z"
        },
        "trusted": true,
        "id": "Bc_44slWJhmo"
      },
      "execution_count": 39,
      "outputs": []
    },
    {
      "cell_type": "code",
      "source": [
        "#TF-IDF algoerithm\n",
        "from sklearn.feature_extraction.text import TfidfVectorizer\n",
        "vectorizer  = TfidfVectorizer(analyzer = \"word\", ngram_range=(1,3))\n",
        "vectorizer.fit(X_train)\n",
        "X_train_tfidf = vectorizer.transform(X_train)\n",
        "X_test_tfidf = vectorizer.transform(X_test)"
      ],
      "metadata": {
        "execution": {
          "iopub.status.busy": "2022-06-05T03:48:10.238286Z",
          "iopub.execute_input": "2022-06-05T03:48:10.238706Z",
          "iopub.status.idle": "2022-06-05T03:52:04.407796Z",
          "shell.execute_reply.started": "2022-06-05T03:48:10.238663Z",
          "shell.execute_reply": "2022-06-05T03:52:04.406709Z"
        },
        "trusted": true,
        "id": "ys-AjlOlJhmo"
      },
      "execution_count": 40,
      "outputs": []
    },
    {
      "cell_type": "markdown",
      "source": [
        "# Naive Bayes Algorithm"
      ],
      "metadata": {
        "id": "r8Mk5szDJhmo"
      }
    },
    {
      "cell_type": "code",
      "source": [
        "from sklearn.naive_bayes import MultinomialNB # import Multinomial Naive Bayes model from sklearn.naive_bayes\n",
        "model_naive = MultinomialNB() \n",
        "model_naive.fit(X_train_tfidf, y_train)"
      ],
      "metadata": {
        "execution": {
          "iopub.status.busy": "2022-06-05T03:52:04.409305Z",
          "iopub.execute_input": "2022-06-05T03:52:04.409988Z",
          "iopub.status.idle": "2022-06-05T03:52:06.554177Z",
          "shell.execute_reply.started": "2022-06-05T03:52:04.409937Z",
          "shell.execute_reply": "2022-06-05T03:52:06.552983Z"
        },
        "trusted": true,
        "colab": {
          "base_uri": "https://localhost:8080/"
        },
        "id": "CIz3VjztJhmp",
        "outputId": "2f487e1a-8f19-4a2c-967f-fa4134827011"
      },
      "execution_count": 41,
      "outputs": [
        {
          "output_type": "execute_result",
          "data": {
            "text/plain": [
              "MultinomialNB()"
            ]
          },
          "metadata": {},
          "execution_count": 41
        }
      ]
    },
    {
      "cell_type": "code",
      "source": [
        "from sklearn.model_selection import cross_val_score  # import cross_val_score from sklear.model_selection\n",
        "accuracies = cross_val_score(estimator = model_naive, X = X_train_tfidf, y = y_train, cv = 10) # do K- fold cross validation on our traing data and its sentimenst with 10 fold cross validation\n",
        "accuracies.mean() # measure the mean accuray of 10 fold cross validation"
      ],
      "metadata": {
        "execution": {
          "iopub.status.busy": "2022-06-05T03:52:06.555909Z",
          "iopub.execute_input": "2022-06-05T03:52:06.556400Z",
          "iopub.status.idle": "2022-06-05T03:52:32.385498Z",
          "shell.execute_reply.started": "2022-06-05T03:52:06.556349Z",
          "shell.execute_reply": "2022-06-05T03:52:32.384363Z"
        },
        "trusted": true,
        "colab": {
          "base_uri": "https://localhost:8080/"
        },
        "id": "l4ly2dE-Jhmp",
        "outputId": "70fa4032-d089-4831-d64b-ca984da94421"
      },
      "execution_count": 42,
      "outputs": [
        {
          "output_type": "execute_result",
          "data": {
            "text/plain": [
              "0.80633046875"
            ]
          },
          "metadata": {},
          "execution_count": 42
        }
      ]
    },
    {
      "cell_type": "code",
      "source": [
        "pred_nb = model_naive.predict(X_test_tfidf) "
      ],
      "metadata": {
        "execution": {
          "iopub.status.busy": "2022-06-05T03:52:32.392900Z",
          "iopub.execute_input": "2022-06-05T03:52:32.393353Z",
          "iopub.status.idle": "2022-06-05T03:52:32.688589Z",
          "shell.execute_reply.started": "2022-06-05T03:52:32.393314Z",
          "shell.execute_reply": "2022-06-05T03:52:32.687601Z"
        },
        "trusted": true,
        "id": "AhpqMuUoJhmp"
      },
      "execution_count": 43,
      "outputs": []
    },
    {
      "cell_type": "code",
      "source": [
        "#Accuracy\n",
        "from sklearn import metrics # import metrics from sklearn\n",
        "metrics.accuracy_score(y_test, pred_nb) "
      ],
      "metadata": {
        "execution": {
          "iopub.status.busy": "2022-06-05T03:52:32.689980Z",
          "iopub.execute_input": "2022-06-05T03:52:32.691064Z",
          "iopub.status.idle": "2022-06-05T03:52:32.744246Z",
          "shell.execute_reply.started": "2022-06-05T03:52:32.691013Z",
          "shell.execute_reply": "2022-06-05T03:52:32.743152Z"
        },
        "trusted": true,
        "colab": {
          "base_uri": "https://localhost:8080/"
        },
        "id": "k--mQQH4Jhmp",
        "outputId": "01791fd9-6aac-4547-cb79-f0cf56755f70"
      },
      "execution_count": 44,
      "outputs": [
        {
          "output_type": "execute_result",
          "data": {
            "text/plain": [
              "0.8067625"
            ]
          },
          "metadata": {},
          "execution_count": 44
        }
      ]
    },
    {
      "cell_type": "code",
      "source": [
        "#Confucion matrix\n",
        "from sklearn.metrics import classification_report,confusion_matrix # import confusion matrix from the sklearn.metrics\n",
        "confusion_matrix(y_test, pred_nb)"
      ],
      "metadata": {
        "execution": {
          "iopub.status.busy": "2022-06-05T03:52:32.745631Z",
          "iopub.execute_input": "2022-06-05T03:52:32.746245Z",
          "iopub.status.idle": "2022-06-05T03:52:32.828759Z",
          "shell.execute_reply.started": "2022-06-05T03:52:32.746162Z",
          "shell.execute_reply": "2022-06-05T03:52:32.827538Z"
        },
        "trusted": true,
        "colab": {
          "base_uri": "https://localhost:8080/"
        },
        "id": "iigpzu8jJhmp",
        "outputId": "ca8e0503-27ae-4f1b-9e44-b26478ef483c"
      },
      "execution_count": 45,
      "outputs": [
        {
          "output_type": "execute_result",
          "data": {
            "text/plain": [
              "array([[136467,  23802],\n",
              "       [ 38034, 121697]])"
            ]
          },
          "metadata": {},
          "execution_count": 45
        }
      ]
    },
    {
      "cell_type": "code",
      "source": [
        "#classification report\n",
        "print(classification_report(y_test, pred_nb))"
      ],
      "metadata": {
        "execution": {
          "iopub.status.busy": "2022-06-05T03:52:32.830516Z",
          "iopub.execute_input": "2022-06-05T03:52:32.831011Z",
          "iopub.status.idle": "2022-06-05T03:52:33.544427Z",
          "shell.execute_reply.started": "2022-06-05T03:52:32.830961Z",
          "shell.execute_reply": "2022-06-05T03:52:33.543109Z"
        },
        "trusted": true,
        "colab": {
          "base_uri": "https://localhost:8080/"
        },
        "id": "7UAkmNwCJhmq",
        "outputId": "efccd165-00d9-44fd-f574-dd2dea2aed45"
      },
      "execution_count": 46,
      "outputs": [
        {
          "output_type": "stream",
          "name": "stdout",
          "text": [
            "              precision    recall  f1-score   support\n",
            "\n",
            "           0       0.78      0.85      0.82    160269\n",
            "           1       0.84      0.76      0.80    159731\n",
            "\n",
            "    accuracy                           0.81    320000\n",
            "   macro avg       0.81      0.81      0.81    320000\n",
            "weighted avg       0.81      0.81      0.81    320000\n",
            "\n"
          ]
        }
      ]
    },
    {
      "cell_type": "code",
      "source": [
        "\n",
        "import pickle\n",
        "pickle.dump(vectorizer, open(\"tfidf1.pickle\", \"wb\"))"
      ],
      "metadata": {
        "execution": {
          "iopub.status.busy": "2022-06-05T03:52:33.546479Z",
          "iopub.execute_input": "2022-06-05T03:52:33.547000Z",
          "iopub.status.idle": "2022-06-05T03:52:41.632316Z",
          "shell.execute_reply.started": "2022-06-05T03:52:33.546947Z",
          "shell.execute_reply": "2022-06-05T03:52:41.631277Z"
        },
        "trusted": true,
        "id": "TNjDzQJsJhmq"
      },
      "execution_count": 47,
      "outputs": []
    },
    {
      "cell_type": "code",
      "source": [
        "#Save Niave Base algorithm\n",
        "import pickle\n",
        "pickle.dump(model_naive, open(\"naive.pickle\", \"wb\"))"
      ],
      "metadata": {
        "execution": {
          "iopub.status.busy": "2022-06-05T03:52:41.634051Z",
          "iopub.execute_input": "2022-06-05T03:52:41.634496Z",
          "iopub.status.idle": "2022-06-05T03:52:42.182387Z",
          "shell.execute_reply.started": "2022-06-05T03:52:41.634450Z",
          "shell.execute_reply": "2022-06-05T03:52:42.181398Z"
        },
        "trusted": true,
        "id": "C2-GCg--Jhmq"
      },
      "execution_count": 48,
      "outputs": []
    },
    {
      "cell_type": "markdown",
      "source": [
        "# Logistic Regression"
      ],
      "metadata": {
        "id": "gylCMvhOJhmq"
      }
    },
    {
      "cell_type": "markdown",
      "source": [
        ""
      ],
      "metadata": {
        "id": "MxmYwjzhJhmq"
      }
    },
    {
      "cell_type": "code",
      "source": [
        "from sklearn.linear_model import LogisticRegression # import Logistic Regression model from sklearn.linear_model\n",
        "logisticRegression = LogisticRegression(solver='lbfgs',max_iter=1000)"
      ],
      "metadata": {
        "execution": {
          "iopub.status.busy": "2022-06-05T03:52:42.183955Z",
          "iopub.execute_input": "2022-06-05T03:52:42.184418Z",
          "iopub.status.idle": "2022-06-05T03:52:42.189767Z",
          "shell.execute_reply.started": "2022-06-05T03:52:42.184371Z",
          "shell.execute_reply": "2022-06-05T03:52:42.188476Z"
        },
        "trusted": true,
        "id": "We79QRw0Jhmr"
      },
      "execution_count": 49,
      "outputs": []
    },
    {
      "cell_type": "code",
      "source": [
        "#Train the logistic regresion\n",
        "lg_model = logisticRegression.fit(X_train_tfidf, y_train)"
      ],
      "metadata": {
        "execution": {
          "iopub.status.busy": "2022-06-05T03:52:42.191486Z",
          "iopub.execute_input": "2022-06-05T03:52:42.192235Z",
          "iopub.status.idle": "2022-06-05T04:12:08.008139Z",
          "shell.execute_reply.started": "2022-06-05T03:52:42.192166Z",
          "shell.execute_reply": "2022-06-05T04:12:08.007017Z"
        },
        "trusted": true,
        "id": "rNBCypICJhmr"
      },
      "execution_count": 50,
      "outputs": []
    },
    {
      "cell_type": "code",
      "source": [
        "#Testing prdc=iction\n",
        "pred_lg = lg_model.predict(X_test_tfidf) "
      ],
      "metadata": {
        "execution": {
          "iopub.status.busy": "2022-06-05T04:12:08.009897Z",
          "iopub.execute_input": "2022-06-05T04:12:08.010386Z",
          "iopub.status.idle": "2022-06-05T04:12:08.089902Z",
          "shell.execute_reply.started": "2022-06-05T04:12:08.010337Z",
          "shell.execute_reply": "2022-06-05T04:12:08.088923Z"
        },
        "trusted": true,
        "id": "kKnfAzRPJhmr"
      },
      "execution_count": 51,
      "outputs": []
    },
    {
      "cell_type": "code",
      "source": [
        "#confysion matrix\n",
        "confusion_matrix(y_test, pred_lg)"
      ],
      "metadata": {
        "execution": {
          "iopub.status.busy": "2022-06-05T04:12:08.091616Z",
          "iopub.execute_input": "2022-06-05T04:12:08.092098Z",
          "iopub.status.idle": "2022-06-05T04:12:08.171870Z",
          "shell.execute_reply.started": "2022-06-05T04:12:08.092051Z",
          "shell.execute_reply": "2022-06-05T04:12:08.170953Z"
        },
        "trusted": true,
        "colab": {
          "base_uri": "https://localhost:8080/"
        },
        "id": "TZzKEc-WJhmr",
        "outputId": "c045ba0f-fa6c-4680-8fe1-020913133eb2"
      },
      "execution_count": 52,
      "outputs": [
        {
          "output_type": "execute_result",
          "data": {
            "text/plain": [
              "array([[133941,  26328],\n",
              "       [ 29962, 129769]])"
            ]
          },
          "metadata": {},
          "execution_count": 52
        }
      ]
    },
    {
      "cell_type": "code",
      "source": [
        "print(classification_report(pred_lg, y_test))"
      ],
      "metadata": {
        "execution": {
          "iopub.status.busy": "2022-06-05T04:12:08.173183Z",
          "iopub.execute_input": "2022-06-05T04:12:08.174113Z",
          "iopub.status.idle": "2022-06-05T04:12:08.865300Z",
          "shell.execute_reply.started": "2022-06-05T04:12:08.174065Z",
          "shell.execute_reply": "2022-06-05T04:12:08.864188Z"
        },
        "trusted": true,
        "colab": {
          "base_uri": "https://localhost:8080/"
        },
        "id": "3BxkqqVjJhms",
        "outputId": "b4c8fa57-01bf-4b06-8c53-ac222a8700e6"
      },
      "execution_count": 53,
      "outputs": [
        {
          "output_type": "stream",
          "name": "stdout",
          "text": [
            "              precision    recall  f1-score   support\n",
            "\n",
            "           0       0.84      0.82      0.83    163903\n",
            "           1       0.81      0.83      0.82    156097\n",
            "\n",
            "    accuracy                           0.82    320000\n",
            "   macro avg       0.82      0.82      0.82    320000\n",
            "weighted avg       0.82      0.82      0.82    320000\n",
            "\n"
          ]
        }
      ]
    },
    {
      "cell_type": "code",
      "source": [
        "#save Logistic Regression model\n",
        "pickle.dump(lg_model, open(\"lg_model.pickle\", \"wb\"))"
      ],
      "metadata": {
        "execution": {
          "iopub.status.busy": "2022-06-05T04:12:08.866798Z",
          "iopub.execute_input": "2022-06-05T04:12:08.868044Z",
          "iopub.status.idle": "2022-06-05T04:12:09.020188Z",
          "shell.execute_reply.started": "2022-06-05T04:12:08.867992Z",
          "shell.execute_reply": "2022-06-05T04:12:09.019176Z"
        },
        "trusted": true,
        "id": "EtfbFOfNJhms"
      },
      "execution_count": 54,
      "outputs": []
    },
    {
      "cell_type": "markdown",
      "source": [
        "# Support Vector Machine "
      ],
      "metadata": {
        "id": "pYH3fhpBJhms"
      }
    },
    {
      "cell_type": "code",
      "source": [
        "from sklearn.svm import LinearSVC # import SVC model from sklearn.svm\n",
        "svm = LinearSVC(random_state=0) # get object of SVC model with random_state parameter = 0"
      ],
      "metadata": {
        "execution": {
          "iopub.status.busy": "2022-06-05T04:12:09.021573Z",
          "iopub.execute_input": "2022-06-05T04:12:09.022270Z",
          "iopub.status.idle": "2022-06-05T04:12:09.030007Z",
          "shell.execute_reply.started": "2022-06-05T04:12:09.022206Z",
          "shell.execute_reply": "2022-06-05T04:12:09.029119Z"
        },
        "trusted": true,
        "id": "Fe3TqSQfJhms"
      },
      "execution_count": 55,
      "outputs": []
    },
    {
      "cell_type": "code",
      "source": [
        "#SVM train\n",
        "svm_model = svm.fit(X_train_tfidf, y_train)"
      ],
      "metadata": {
        "execution": {
          "iopub.status.busy": "2022-06-05T04:12:09.031561Z",
          "iopub.execute_input": "2022-06-05T04:12:09.032199Z",
          "iopub.status.idle": "2022-06-05T04:13:07.750047Z",
          "shell.execute_reply.started": "2022-06-05T04:12:09.032154Z",
          "shell.execute_reply": "2022-06-05T04:13:07.748924Z"
        },
        "trusted": true,
        "id": "apQQbysZJhms"
      },
      "execution_count": 56,
      "outputs": []
    },
    {
      "cell_type": "code",
      "source": [
        "#Prediction\n",
        "y_pred_svm = svm_model.predict(X_test_tfidf)"
      ],
      "metadata": {
        "execution": {
          "iopub.status.busy": "2022-06-05T04:13:07.751584Z",
          "iopub.execute_input": "2022-06-05T04:13:07.752739Z",
          "iopub.status.idle": "2022-06-05T04:13:07.831018Z",
          "shell.execute_reply.started": "2022-06-05T04:13:07.752684Z",
          "shell.execute_reply": "2022-06-05T04:13:07.830039Z"
        },
        "trusted": true,
        "id": "gNJGsvFGJhmt"
      },
      "execution_count": 57,
      "outputs": []
    },
    {
      "cell_type": "code",
      "source": [
        "#confysion matrix\n",
        "confusion_matrix(y_pred_svm, y_test)"
      ],
      "metadata": {
        "execution": {
          "iopub.status.busy": "2022-06-05T04:13:07.832694Z",
          "iopub.execute_input": "2022-06-05T04:13:07.833144Z",
          "iopub.status.idle": "2022-06-05T04:13:07.910936Z",
          "shell.execute_reply.started": "2022-06-05T04:13:07.833099Z",
          "shell.execute_reply": "2022-06-05T04:13:07.909777Z"
        },
        "trusted": true,
        "colab": {
          "base_uri": "https://localhost:8080/"
        },
        "id": "fOu6xOo3Jhmt",
        "outputId": "04ae4b04-eb1a-4ad7-c112-9fb1e6cb65e8"
      },
      "execution_count": 58,
      "outputs": [
        {
          "output_type": "execute_result",
          "data": {
            "text/plain": [
              "array([[134114,  29615],\n",
              "       [ 26155, 130116]])"
            ]
          },
          "metadata": {},
          "execution_count": 58
        }
      ]
    },
    {
      "cell_type": "code",
      "source": [
        "#Classification report\n",
        "print(classification_report(y_pred_svm, y_test))"
      ],
      "metadata": {
        "execution": {
          "iopub.status.busy": "2022-06-05T04:13:07.912757Z",
          "iopub.execute_input": "2022-06-05T04:13:07.913235Z",
          "iopub.status.idle": "2022-06-05T04:13:08.619574Z",
          "shell.execute_reply.started": "2022-06-05T04:13:07.913170Z",
          "shell.execute_reply": "2022-06-05T04:13:08.618403Z"
        },
        "trusted": true,
        "colab": {
          "base_uri": "https://localhost:8080/"
        },
        "id": "_XBkNQzSJhmt",
        "outputId": "2257352b-ae93-409e-ca14-72bb58d7d3e0"
      },
      "execution_count": 59,
      "outputs": [
        {
          "output_type": "stream",
          "name": "stdout",
          "text": [
            "              precision    recall  f1-score   support\n",
            "\n",
            "           0       0.84      0.82      0.83    163729\n",
            "           1       0.81      0.83      0.82    156271\n",
            "\n",
            "    accuracy                           0.83    320000\n",
            "   macro avg       0.83      0.83      0.83    320000\n",
            "weighted avg       0.83      0.83      0.83    320000\n",
            "\n"
          ]
        }
      ]
    },
    {
      "cell_type": "code",
      "source": [
        "#save Logistic Regression model\n",
        "pickle.dump(svm_model, open(\"svm_model.pickle\", \"wb\"))"
      ],
      "metadata": {
        "execution": {
          "iopub.status.busy": "2022-06-05T04:13:08.621092Z",
          "iopub.execute_input": "2022-06-05T04:13:08.622188Z",
          "iopub.status.idle": "2022-06-05T04:13:08.782808Z",
          "shell.execute_reply.started": "2022-06-05T04:13:08.622134Z",
          "shell.execute_reply": "2022-06-05T04:13:08.781802Z"
        },
        "trusted": true,
        "id": "DqoAnmWGJhmt"
      },
      "execution_count": 60,
      "outputs": []
    },
    {
      "cell_type": "markdown",
      "source": [
        "**Decision Tree**"
      ],
      "metadata": {
        "id": "m0BWXmvnJhmt"
      }
    },
    {
      "cell_type": "code",
      "source": [
        "from sklearn.tree import DecisionTreeClassifier\n",
        "dtc = DecisionTreeClassifier(random_state = 100, max_depth=3, min_samples_leaf=5) "
      ],
      "metadata": {
        "execution": {
          "iopub.status.busy": "2022-06-05T04:13:08.784523Z",
          "iopub.execute_input": "2022-06-05T04:13:08.785017Z",
          "iopub.status.idle": "2022-06-05T04:13:08.866120Z",
          "shell.execute_reply.started": "2022-06-05T04:13:08.784966Z",
          "shell.execute_reply": "2022-06-05T04:13:08.865109Z"
        },
        "trusted": true,
        "id": "U0RLmuJHJhmu"
      },
      "execution_count": 61,
      "outputs": []
    },
    {
      "cell_type": "code",
      "source": [
        "#Train the Decicion tree\n",
        "dtc.fit(X_train_tfidf, y_train) "
      ],
      "metadata": {
        "execution": {
          "iopub.status.busy": "2022-06-05T04:13:08.867724Z",
          "iopub.execute_input": "2022-06-05T04:13:08.868165Z",
          "iopub.status.idle": "2022-06-05T04:14:03.695090Z",
          "shell.execute_reply.started": "2022-06-05T04:13:08.868118Z",
          "shell.execute_reply": "2022-06-05T04:14:03.694144Z"
        },
        "trusted": true,
        "colab": {
          "base_uri": "https://localhost:8080/"
        },
        "id": "M0pX0vs_Jhmu",
        "outputId": "c6b11d76-9c8b-4d06-da15-dd0fd216a698"
      },
      "execution_count": 62,
      "outputs": [
        {
          "output_type": "execute_result",
          "data": {
            "text/plain": [
              "DecisionTreeClassifier(max_depth=3, min_samples_leaf=5, random_state=100)"
            ]
          },
          "metadata": {},
          "execution_count": 62
        }
      ]
    },
    {
      "cell_type": "code",
      "source": [
        "#Prediction\n",
        "y_pred_dtc = dtc.predict(X_test_tfidf)"
      ],
      "metadata": {
        "execution": {
          "iopub.status.busy": "2022-06-05T04:14:03.696789Z",
          "iopub.execute_input": "2022-06-05T04:14:03.697275Z",
          "iopub.status.idle": "2022-06-05T04:14:04.272562Z",
          "shell.execute_reply.started": "2022-06-05T04:14:03.697207Z",
          "shell.execute_reply": "2022-06-05T04:14:04.271130Z"
        },
        "trusted": true,
        "id": "_fSSp-heJhmu"
      },
      "execution_count": 63,
      "outputs": []
    },
    {
      "cell_type": "code",
      "source": [
        "#confysion matrix\n",
        "confusion_matrix(y_pred_dtc, y_test)"
      ],
      "metadata": {
        "execution": {
          "iopub.status.busy": "2022-06-05T04:14:04.273957Z",
          "iopub.execute_input": "2022-06-05T04:14:04.274419Z",
          "iopub.status.idle": "2022-06-05T04:14:04.351166Z",
          "shell.execute_reply.started": "2022-06-05T04:14:04.274371Z",
          "shell.execute_reply": "2022-06-05T04:14:04.350074Z"
        },
        "trusted": true,
        "colab": {
          "base_uri": "https://localhost:8080/"
        },
        "id": "a3A9YOLGJhmu",
        "outputId": "aa37a81d-8274-47cf-f738-99e1589afe4b"
      },
      "execution_count": 64,
      "outputs": [
        {
          "output_type": "execute_result",
          "data": {
            "text/plain": [
              "array([[ 40976,  15212],\n",
              "       [119293, 144519]])"
            ]
          },
          "metadata": {},
          "execution_count": 64
        }
      ]
    },
    {
      "cell_type": "code",
      "source": [
        "#Classification report\n",
        "print(classification_report(y_pred_dtc, y_test))"
      ],
      "metadata": {
        "execution": {
          "iopub.status.busy": "2022-06-05T04:14:04.353042Z",
          "iopub.execute_input": "2022-06-05T04:14:04.353516Z",
          "iopub.status.idle": "2022-06-05T04:14:05.037098Z",
          "shell.execute_reply.started": "2022-06-05T04:14:04.353471Z",
          "shell.execute_reply": "2022-06-05T04:14:05.035957Z"
        },
        "trusted": true,
        "colab": {
          "base_uri": "https://localhost:8080/"
        },
        "id": "UmzUcSodJhmu",
        "outputId": "65020462-a1f7-4c46-c4bb-d411e4033dea"
      },
      "execution_count": 65,
      "outputs": [
        {
          "output_type": "stream",
          "name": "stdout",
          "text": [
            "              precision    recall  f1-score   support\n",
            "\n",
            "           0       0.26      0.73      0.38     56188\n",
            "           1       0.90      0.55      0.68    263812\n",
            "\n",
            "    accuracy                           0.58    320000\n",
            "   macro avg       0.58      0.64      0.53    320000\n",
            "weighted avg       0.79      0.58      0.63    320000\n",
            "\n"
          ]
        }
      ]
    },
    {
      "cell_type": "markdown",
      "source": [
        " ## Ensemble method"
      ],
      "metadata": {
        "id": "ANJZw4zBjvhl"
      }
    },
    {
      "cell_type": "code",
      "source": [
        "from sklearn.ensemble import VotingClassifier\n"
      ],
      "metadata": {
        "id": "oRcfzl4Gju2C"
      },
      "execution_count": 68,
      "outputs": []
    },
    {
      "cell_type": "code",
      "source": [
        "from sklearn.naive_bayes import MultinomialNB\n",
        "from sklearn.linear_model import LogisticRegression\n",
        "from sklearn.svm import LinearSVC\n",
        "model_1 = LogisticRegression(solver='lbfgs',max_iter=1000)\n",
        "model_2 = MultinomialNB() \n",
        "model_3 = LinearSVC(random_state=0)\n",
        "# Making the final model using voting classifier\n",
        "final_model = VotingClassifier(\n",
        "    estimators=[('lg', model_1), ('mnb', model_2), ('Lsvm', model_3)], voting='hard')\n",
        "# training all the model on the train dataset\n",
        "final_model.fit(X_train_tfidf, y_train)"
      ],
      "metadata": {
        "colab": {
          "base_uri": "https://localhost:8080/"
        },
        "id": "Y4TdoHEAkAwQ",
        "outputId": "eda46886-ecc7-4e90-c4ea-160d1aff2de5"
      },
      "execution_count": 69,
      "outputs": [
        {
          "output_type": "execute_result",
          "data": {
            "text/plain": [
              "VotingClassifier(estimators=[('lg', LogisticRegression(max_iter=1000)),\n",
              "                             ('mnb', MultinomialNB()),\n",
              "                             ('Lsvm', LinearSVC(random_state=0))])"
            ]
          },
          "metadata": {},
          "execution_count": 69
        }
      ]
    },
    {
      "cell_type": "code",
      "source": [
        "# predicting the output on the test dataset\n",
        "pred_final = final_model.predict(X_test_tfidf)"
      ],
      "metadata": {
        "id": "SmSxhy_JkCmU"
      },
      "execution_count": 70,
      "outputs": []
    },
    {
      "cell_type": "code",
      "source": [
        "#confysion matrix\n",
        "from sklearn.metrics import classification_report,confusion_matrix \n",
        "confusion_matrix(pred_final, y_test)"
      ],
      "metadata": {
        "colab": {
          "base_uri": "https://localhost:8080/"
        },
        "id": "CzOP4q01kEyJ",
        "outputId": "36ac2fd2-dc64-4f26-b301-1ff2e03e2335"
      },
      "execution_count": 71,
      "outputs": [
        {
          "output_type": "execute_result",
          "data": {
            "text/plain": [
              "array([[135603,  30893],\n",
              "       [ 24666, 128838]])"
            ]
          },
          "metadata": {},
          "execution_count": 71
        }
      ]
    },
    {
      "cell_type": "code",
      "source": [
        "#Classification report\n",
        "print(classification_report(pred_final, y_test))"
      ],
      "metadata": {
        "colab": {
          "base_uri": "https://localhost:8080/"
        },
        "id": "XfN9a3p_kH5Y",
        "outputId": "b24a9bd4-2e4e-427f-e154-e580926d4597"
      },
      "execution_count": 72,
      "outputs": [
        {
          "output_type": "stream",
          "name": "stdout",
          "text": [
            "              precision    recall  f1-score   support\n",
            "\n",
            "           0       0.85      0.81      0.83    166496\n",
            "           1       0.81      0.84      0.82    153504\n",
            "\n",
            "    accuracy                           0.83    320000\n",
            "   macro avg       0.83      0.83      0.83    320000\n",
            "weighted avg       0.83      0.83      0.83    320000\n",
            "\n"
          ]
        }
      ]
    },
    {
      "cell_type": "code",
      "source": [
        ""
      ],
      "metadata": {
        "id": "w9fH5eirtVTl"
      },
      "execution_count": null,
      "outputs": []
    }
  ]
}